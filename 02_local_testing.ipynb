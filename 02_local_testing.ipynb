{
 "cells": [
  {
   "cell_type": "markdown",
   "metadata": {},
   "source": [
    "# 2. Neural Style Transfer on your local machine\n",
    "\n",
    "To make sure all the scripts that are working correctly, we need to test them on our local machine first. Specifically, we'll be testing the components that will be in our __flask app__ and our __scoring app__.\n",
    "\n",
    "### Flask App\n",
    "The __flask app__ is responsible for:\n",
    "1. preprocessing the images into individual frames and extracting the audio file\n",
    "2. adding references of the individual images to the Service Bus queue\n",
    "3. waiting until style transfer has been applied to all images\n",
    "4. postprocessing the style transfer images by stitching them together into a video and re-adding the audio clip\n",
    "\n",
    "The __flask app__ contains the following files:\n",
    "- `preprocess.py` \n",
    "- `add_images_to_queue.py` \n",
    "- `postprocess.py` \n",
    "- `util.py`\n",
    "- `main.py`\n",
    "\n",
    "`preprocess.py`, `add_images_to_queue.py`, and `postprocess.py` can be executed independently. This is to allow us to test each piece. The `main.py` file will call functions the aforementioned files. It will start by preprocessing the video then adding images to the service bus queue. Then it will wait for the messages in the queue to be dequeued and processed by another running process. (This occurs in the __scoring app__.) After all the images in the queue are processed, the `main.py` will start to postprocess the output frames, and recreate a new video, but this time with the style transfered frames.\n",
    "\n",
    "### Scoring App\n",
    "The __scoring app__ is responsible for:\n",
    "1. polling the Service Bus queue for new images \n",
    "2. applying style transfer to those images and saving them back to storage\n",
    "\n",
    "The __scoring app__ containers the following files:\n",
    "- `main.py`\n",
    "- `process_images_from_queue.py`\n",
    "- `style_transfer.py`\n",
    "- `util.py`\n",
    "\n",
    "`main.py` starts the app by calling on the function in the `process_images_from_queue.py` file. This is responsible for continuously polling the service bus queue and checking for new messages. As images get pulled off the queue, the process will then call the stylize function in the `style_transfer.py` file which performs the actual style transfer. The generated style images are saved back to blob directly from this process. "
   ]
  },
  {
   "cell_type": "markdown",
   "metadata": {},
   "source": [
    "---"
   ]
  },
  {
   "cell_type": "markdown",
   "metadata": {},
   "source": [
    "### Import package and load .env"
   ]
  },
  {
   "cell_type": "code",
   "execution_count": 1,
   "metadata": {},
   "outputs": [],
   "source": [
    "from dotenv import set_key, get_key, find_dotenv, load_dotenv\n",
    "from pathlib import Path\n",
    "import json\n",
    "import os"
   ]
  },
  {
   "cell_type": "code",
   "execution_count": 2,
   "metadata": {},
   "outputs": [
    {
     "data": {
      "text/plain": [
       "True"
      ]
     },
     "execution_count": 2,
     "metadata": {},
     "output_type": "execute_result"
    }
   ],
   "source": [
    "env_path = find_dotenv(raise_error_if_not_found=True)\n",
    "load_dotenv(env_path)"
   ]
  },
  {
   "cell_type": "markdown",
   "metadata": {},
   "source": [
    "### Preprocess video \n",
    "Run the preprocessing step on the video `orangutan.mp4` that is in blob. Specify the video (including the extention) and the mounted directory to access blob. "
   ]
  },
  {
   "cell_type": "code",
   "execution_count": 3,
   "metadata": {
    "scrolled": true
   },
   "outputs": [
    {
     "name": "stdout",
     "output_type": "stream",
     "text": [
      "ffmpeg version 4.0.2 Copyright (c) 2000-2018 the FFmpeg developers\n",
      "  built with gcc 4.8.2 (GCC) 20140120 (Red Hat 4.8.2-15)\n",
      "  configuration: --prefix=/home/jiata/anaconda3/envs/batchscoringdl --disable-doc --disable-openssl --enable-shared --enable-static --extra-cflags='-Wall -g -m64 -pipe -O3 -march=x86-64 -fPIC' --extra-cxxflags='-Wall -g -m64 -pipe -O3 -march=x86-64 -fPIC' --extra-libs='-lpthread -lm -lz' --enable-zlib --enable-pic --enable-pthreads --enable-gpl --enable-version3 --enable-hardcoded-tables --enable-avresample --enable-libfreetype --enable-gnutls --enable-libx264 --enable-libopenh264\n",
      "  libavutil      56. 14.100 / 56. 14.100\n",
      "  libavcodec     58. 18.100 / 58. 18.100\n",
      "  libavformat    58. 12.100 / 58. 12.100\n",
      "  libavdevice    58.  3.100 / 58.  3.100\n",
      "  libavfilter     7. 16.100 /  7. 16.100\n",
      "  libavresample   4.  0.  0 /  4.  0.  0\n",
      "  libswscale      5.  1.100 /  5.  1.100\n",
      "  libswresample   3.  1.100 /  3.  1.100\n",
      "  libpostproc    55.  1.100 / 55.  1.100\n",
      "Input #0, mov,mp4,m4a,3gp,3g2,mj2, from 'data/orangutan.mp4':\n",
      "  Metadata:\n",
      "    major_brand     : isom\n",
      "    minor_version   : 512\n",
      "    compatible_brands: isomiso2avc1mp41\n",
      "    encoder         : Lavf58.12.100\n",
      "  Duration: 00:00:27.48, start: 0.000000, bitrate: 2317 kb/s\n",
      "    Stream #0:0(und): Video: h264 (High) (avc1 / 0x31637661), yuv420p, 720x720, 2242 kb/s, 30 fps, 30 tbr, 15360 tbn, 60 tbc (default)\n",
      "    Metadata:\n",
      "      handler_name    : VideoHandler\n",
      "    Stream #0:1(eng): Audio: aac (LC) (mp4a / 0x6134706D), 48000 Hz, mono, fltp, 69 kb/s (default)\n",
      "    Metadata:\n",
      "      handler_name    : SoundHandler\n",
      "Stream mapping:\n",
      "  Stream #0:1 -> #0:0 (aac (native) -> aac (native))\n",
      "Press [q] to stop, [?] for help\n",
      "Output #0, adts, to 'data/orangutan/audio.aac':\n",
      "  Metadata:\n",
      "    major_brand     : isom\n",
      "    minor_version   : 512\n",
      "    compatible_brands: isomiso2avc1mp41\n",
      "    encoder         : Lavf58.12.100\n",
      "    Stream #0:0(eng): Audio: aac (LC), 48000 Hz, mono, fltp, 69 kb/s (default)\n",
      "    Metadata:\n",
      "      handler_name    : SoundHandler\n",
      "      encoder         : Lavc58.18.100 aac\n",
      "size=     242kB time=00:00:27.45 bitrate=  72.2kbits/s speed= 152x    \n",
      "video:0kB audio:233kB subtitle:0kB other streams:0kB global headers:0kB muxing overhead: 3.777506%\n",
      "\u001b[1;36m[aac @ 0x17871c0] \u001b[0mQavg: 424.962\n",
      "Input #0, mov,mp4,m4a,3gp,3g2,mj2, from 'data/orangutan.mp4':\n",
      "  Metadata:\n",
      "    major_brand     : isom\n",
      "    minor_version   : 512\n",
      "    compatible_brands: isomiso2avc1mp41\n",
      "    encoder         : Lavf58.12.100\n",
      "  Duration: 00:00:27.48, start: 0.000000, bitrate: 2317 kb/s\n",
      "    Stream #0:0(und): Video: h264 (High) (avc1 / 0x31637661), yuv420p, 720x720, 2242 kb/s, 30 fps, 30 tbr, 15360 tbn, 60 tbc (default)\n",
      "    Metadata:\n",
      "      handler_name    : VideoHandler\n",
      "    Stream #0:1(eng): Audio: aac (LC) (mp4a / 0x6134706D), 48000 Hz, mono, fltp, 69 kb/s (default)\n",
      "    Metadata:\n",
      "      handler_name    : SoundHandler\n",
      "Stream mapping:\n",
      "  Stream #0:0 -> #0:0 (h264 (native) -> mjpeg (native))\n",
      "Press [q] to stop, [?] for help\n",
      "\u001b[1;34m[swscaler @ 0x2454640] \u001b[0m\u001b[0;33mdeprecated pixel format used, make sure you did set range correctly\n",
      "\u001b[0mOutput #0, image2, to 'data/orangutan/input_frames/%06d_frame.jpg':\n",
      "  Metadata:\n",
      "    major_brand     : isom\n",
      "    minor_version   : 512\n",
      "    compatible_brands: isomiso2avc1mp41\n",
      "    encoder         : Lavf58.12.100\n",
      "    Stream #0:0(und): Video: mjpeg, yuvj420p(pc), 720x720, q=2-31, 200 kb/s, 30 fps, 30 tbn, 30 tbc (default)\n",
      "    Metadata:\n",
      "      handler_name    : VideoHandler\n",
      "      encoder         : Lavc58.18.100 mjpeg\n",
      "    Side data:\n",
      "      cpb: bitrate max/min/avg: 0/0/200000 buffer size: 0 vbv_delay: -1\n",
      "frame=  823 fps= 48 q=24.8 Lsize=N/A time=00:00:27.43 bitrate=N/A speed= 1.6x    \n",
      "video:17559kB audio:0kB subtitle:0kB other streams:0kB global headers:0kB muxing overhead: unknown\n"
     ]
    }
   ],
   "source": [
    "!python flask_app/preprocess.py \\\n",
    "    --video orangutan.mp4 \\\n",
    "    --storage-mount-dir data"
   ]
  },
  {
   "cell_type": "markdown",
   "metadata": {},
   "source": [
    "### Add messages to queue\n",
    "The preprocessing step splits the video into individual frames. Now add those frames to the queue to be processed later."
   ]
  },
  {
   "cell_type": "code",
   "execution_count": 4,
   "metadata": {},
   "outputs": [],
   "source": [
    "!python flask_app/add_images_to_queue.py \\\n",
    "    --video-name orangutan \\\n",
    "    --storage-mount-dir data"
   ]
  },
  {
   "cell_type": "markdown",
   "metadata": {},
   "source": [
    "### Run the main style transfer process\n",
    "The `scoring_app/main.py` file will dequeue images from the queue and apply style transfer to the images."
   ]
  },
  {
   "cell_type": "code",
   "execution_count": 5,
   "metadata": {
    "tags": [
     "strip_out"
    ]
   },
   "outputs": [],
   "source": [
    "!python scoring_app/main.py --terminate"
   ]
  },
  {
   "cell_type": "markdown",
   "metadata": {},
   "source": [
    "### Postprocess the frames\n",
    "Now that the frames have been processed, we can stitch then back together and reattach the audio file using the `flask_app/postprocess.py` file."
   ]
  },
  {
   "cell_type": "code",
   "execution_count": 8,
   "metadata": {},
   "outputs": [
    {
     "name": "stdout",
     "output_type": "stream",
     "text": [
      "ffmpeg version 4.0.2 Copyright (c) 2000-2018 the FFmpeg developers\n",
      "  built with gcc 4.8.2 (GCC) 20140120 (Red Hat 4.8.2-15)\n",
      "  configuration: --prefix=/home/jiata/anaconda3/envs/batchscoringdl --disable-doc --disable-openssl --enable-shared --enable-static --extra-cflags='-Wall -g -m64 -pipe -O3 -march=x86-64 -fPIC' --extra-cxxflags='-Wall -g -m64 -pipe -O3 -march=x86-64 -fPIC' --extra-libs='-lpthread -lm -lz' --enable-zlib --enable-pic --enable-pthreads --enable-gpl --enable-version3 --enable-hardcoded-tables --enable-avresample --enable-libfreetype --enable-gnutls --enable-libx264 --enable-libopenh264\n",
      "  libavutil      56. 14.100 / 56. 14.100\n",
      "  libavcodec     58. 18.100 / 58. 18.100\n",
      "  libavformat    58. 12.100 / 58. 12.100\n",
      "  libavdevice    58.  3.100 / 58.  3.100\n",
      "  libavfilter     7. 16.100 /  7. 16.100\n",
      "  libavresample   4.  0.  0 /  4.  0.  0\n",
      "  libswscale      5.  1.100 /  5.  1.100\n",
      "  libswresample   3.  1.100 /  3.  1.100\n",
      "  libpostproc    55.  1.100 / 55.  1.100\n",
      "Input #0, image2, from 'data/orangutan/output_frames/%06d_frame.jpg':\n",
      "  Duration: 00:00:27.43, start: 0.000000, bitrate: N/A\n",
      "    Stream #0:0: Video: mjpeg, yuvj420p(pc, bt470bg/unknown/unknown), 720x720 [SAR 1:1 DAR 1:1], 30 fps, 30 tbr, 30 tbn, 30 tbc\n",
      "Stream mapping:\n",
      "  Stream #0:0 -> #0:0 (mjpeg (native) -> h264 (libx264))\n",
      "Press [q] to stop, [?] for help\n",
      "\u001b[1;34m[swscaler @ 0x1a181c0] \u001b[0m\u001b[0;33mdeprecated pixel format used, make sure you did set range correctly\n",
      "\u001b[0m\u001b[1;36m[libx264 @ 0x1994d40] \u001b[0musing SAR=1/1\n",
      "\u001b[1;36m[libx264 @ 0x1994d40] \u001b[0musing cpu capabilities: MMX2 SSE2Fast SSSE3 SSE4.2 AVX FMA3 BMI2 AVX2\n",
      "\u001b[1;36m[libx264 @ 0x1994d40] \u001b[0mprofile High, level 3.1\n",
      "\u001b[1;36m[libx264 @ 0x1994d40] \u001b[0m264 - core 152 - H.264/MPEG-4 AVC codec - Copyleft 2003-2017 - http://www.videolan.org/x264.html - options: cabac=1 ref=3 deblock=1:0:0 analyse=0x3:0x113 me=hex subme=7 psy=1 psy_rd=1.00:0.00 mixed_ref=1 me_range=16 chroma_me=1 trellis=1 8x8dct=1 cqm=0 deadzone=21,11 fast_pskip=1 chroma_qp_offset=-2 threads=9 lookahead_threads=1 sliced_threads=0 nr=0 decimate=1 interlaced=0 bluray_compat=0 constrained_intra=0 bframes=3 b_pyramid=2 b_adapt=1 b_bias=0 direct=1 weightb=1 open_gop=0 weightp=2 keyint=250 keyint_min=25 scenecut=40 intra_refresh=0 rc_lookahead=40 rc=crf mbtree=1 crf=20.0 qcomp=0.60 qpmin=0 qpmax=69 qpstep=4 ip_ratio=1.40 aq=1:1.00\n",
      "Output #0, mp4, to 'data/orangutan/orangutan_without_audio.mp4':\n",
      "  Metadata:\n",
      "    encoder         : Lavf58.12.100\n",
      "    Stream #0:0: Video: h264 (libx264) (avc1 / 0x31637661), yuv420p, 720x720 [SAR 1:1 DAR 1:1], q=-1--1, 30 fps, 15360 tbn, 30 tbc\n",
      "    Metadata:\n",
      "      encoder         : Lavc58.18.100 libx264\n",
      "    Side data:\n",
      "      cpb: bitrate max/min/avg: 0/0/0 buffer size: 0 vbv_delay: -1\n",
      "frame=  823 fps= 31 q=-1.0 Lsize=   81526kB time=00:00:27.33 bitrate=24433.9kbits/s speed=1.02x    x    \n",
      "video:81515kB audio:0kB subtitle:0kB other streams:0kB global headers:0kB muxing overhead: 0.013480%\n",
      "\u001b[1;36m[libx264 @ 0x1994d40] \u001b[0mframe I:8     Avg QP:25.50  size:143834\n",
      "\u001b[1;36m[libx264 @ 0x1994d40] \u001b[0mframe P:210   Avg QP:28.07  size:115875\n",
      "\u001b[1;36m[libx264 @ 0x1994d40] \u001b[0mframe B:605   Avg QP:29.44  size: 95845\n",
      "\u001b[1;36m[libx264 @ 0x1994d40] \u001b[0mconsecutive B-frames:  1.6%  0.7%  1.5% 96.2%\n",
      "\u001b[1;36m[libx264 @ 0x1994d40] \u001b[0mmb I  I16..4:  0.1% 94.5%  5.4%\n",
      "\u001b[1;36m[libx264 @ 0x1994d40] \u001b[0mmb P  I16..4:  0.1% 52.5% 14.1%  P16..4:  4.5% 14.3% 14.5%  0.0%  0.0%    skip: 0.0%\n",
      "\u001b[1;36m[libx264 @ 0x1994d40] \u001b[0mmb B  I16..4:  0.2% 14.7% 17.8%  B16..8: 10.5% 29.5% 23.1%  direct: 3.8%  skip: 0.5%  L0:38.6% L1:27.1% BI:34.3%\n",
      "\u001b[1;36m[libx264 @ 0x1994d40] \u001b[0m8x8 transform intra:59.8% inter:75.0%\n",
      "\u001b[1;36m[libx264 @ 0x1994d40] \u001b[0mcoded y,uvDC,uvAC intra: 95.2% 99.2% 82.3% inter: 88.8% 92.2% 35.8%\n",
      "\u001b[1;36m[libx264 @ 0x1994d40] \u001b[0mi16 v,h,dc,p: 28% 13%  7% 52%\n",
      "\u001b[1;36m[libx264 @ 0x1994d40] \u001b[0mi8 v,h,dc,ddl,ddr,vr,hd,vl,hu: 15% 10% 23%  9% 10% 11%  6%  9%  8%\n",
      "\u001b[1;36m[libx264 @ 0x1994d40] \u001b[0mi4 v,h,dc,ddl,ddr,vr,hd,vl,hu: 14% 10% 15% 10% 13% 11%  9% 11%  8%\n",
      "\u001b[1;36m[libx264 @ 0x1994d40] \u001b[0mi8c dc,h,v,p: 43% 20% 24% 13%\n",
      "\u001b[1;36m[libx264 @ 0x1994d40] \u001b[0mWeighted P-Frames: Y:3.3% UV:1.0%\n",
      "\u001b[1;36m[libx264 @ 0x1994d40] \u001b[0mref P L0: 28.4% 16.7% 30.9% 23.5%  0.6%\n",
      "\u001b[1;36m[libx264 @ 0x1994d40] \u001b[0mref B L0: 67.0% 24.7%  8.3%\n",
      "\u001b[1;36m[libx264 @ 0x1994d40] \u001b[0mref B L1: 84.5% 15.5%\n",
      "\u001b[1;36m[libx264 @ 0x1994d40] \u001b[0mkb/s:24341.39\n",
      "ffmpeg version 4.0.2 Copyright (c) 2000-2018 the FFmpeg developers\n",
      "  built with gcc 4.8.2 (GCC) 20140120 (Red Hat 4.8.2-15)\n",
      "  configuration: --prefix=/home/jiata/anaconda3/envs/batchscoringdl --disable-doc --disable-openssl --enable-shared --enable-static --extra-cflags='-Wall -g -m64 -pipe -O3 -march=x86-64 -fPIC' --extra-cxxflags='-Wall -g -m64 -pipe -O3 -march=x86-64 -fPIC' --extra-libs='-lpthread -lm -lz' --enable-zlib --enable-pic --enable-pthreads --enable-gpl --enable-version3 --enable-hardcoded-tables --enable-avresample --enable-libfreetype --enable-gnutls --enable-libx264 --enable-libopenh264\n",
      "  libavutil      56. 14.100 / 56. 14.100\n",
      "  libavcodec     58. 18.100 / 58. 18.100\n",
      "  libavformat    58. 12.100 / 58. 12.100\n",
      "  libavdevice    58.  3.100 / 58.  3.100\n",
      "  libavfilter     7. 16.100 /  7. 16.100\n",
      "  libavresample   4.  0.  0 /  4.  0.  0\n",
      "  libswscale      5.  1.100 /  5.  1.100\n",
      "  libswresample   3.  1.100 /  3.  1.100\n",
      "  libpostproc    55.  1.100 / 55.  1.100\n",
      "Input #0, mov,mp4,m4a,3gp,3g2,mj2, from 'data/orangutan/orangutan_without_audio.mp4':\n",
      "  Metadata:\n",
      "    major_brand     : isom\n",
      "    minor_version   : 512\n",
      "    compatible_brands: isomiso2avc1mp41\n",
      "    encoder         : Lavf58.12.100\n",
      "  Duration: 00:00:27.43, start: 0.000000, bitrate: 24344 kb/s\n",
      "    Stream #0:0(und): Video: h264 (High) (avc1 / 0x31637661), yuv420p, 720x720 [SAR 1:1 DAR 1:1], 24341 kb/s, 30 fps, 30 tbr, 15360 tbn, 60 tbc (default)\n",
      "    Metadata:\n",
      "      handler_name    : VideoHandler\n",
      "\u001b[0;35m[aac @ 0x26173c0] \u001b[0m\u001b[0;33mEstimating duration from bitrate, this may be inaccurate\n",
      "\u001b[0mInput #1, aac, from 'data/orangutan/audio.aac':\n",
      "  Duration: 00:00:27.96, bitrate: 70 kb/s\n",
      "    Stream #1:0: Audio: aac (LC), 48000 Hz, mono, fltp, 70 kb/s\n",
      "Output #0, mp4, to 'data/orangutan/orangutan_processed.mp4':\n",
      "  Metadata:\n",
      "    major_brand     : isom\n",
      "    minor_version   : 512\n",
      "    compatible_brands: isomiso2avc1mp41\n",
      "    encoder         : Lavf58.12.100\n",
      "    Stream #0:0(und): Video: h264 (High) (avc1 / 0x31637661), yuv420p, 720x720 [SAR 1:1 DAR 1:1], q=2-31, 24341 kb/s, 30 fps, 30 tbr, 15360 tbn, 15360 tbc (default)\n",
      "    Metadata:\n",
      "      handler_name    : VideoHandler\n",
      "    Stream #0:1: Audio: aac (LC) (mp4a / 0x6134706D), 48000 Hz, mono, fltp, 70 kb/s\n",
      "Stream mapping:\n",
      "  Stream #0:0 -> #0:0 (copy)\n",
      "  Stream #1:0 -> #0:1 (copy)\n",
      "Press [q] to stop, [?] for help\n",
      "frame=  823 fps=0.0 q=-1.0 Lsize=   81779kB time=00:00:27.45 bitrate=24400.2kbits/s speed= 192x    \n",
      "video:81515kB audio:242kB subtitle:0kB other streams:0kB global headers:0kB muxing overhead: 0.026915%\n"
     ]
    }
   ],
   "source": [
    "!python flask_app/postprocess.py \\\n",
    "    --video-name orangutan \\\n",
    "    --storage-mount-dir data"
   ]
  },
  {
   "cell_type": "markdown",
   "metadata": {},
   "source": [
    "Play the video! It will be called `{video_name}_processed.mp4`"
   ]
  },
  {
   "cell_type": "code",
   "execution_count": 10,
   "metadata": {},
   "outputs": [
    {
     "data": {
      "text/html": [
       "<video width=\"320\" height=\"240\" controls>\n",
       "  <source src=\"data/orangutan/orangutan_processed.mp4\" type=\"video/mp4\">\n",
       "</video>\n"
      ],
      "text/plain": [
       "<IPython.core.display.HTML object>"
      ]
     },
     "metadata": {},
     "output_type": "display_data"
    }
   ],
   "source": [
    "%%HTML\n",
    "<video width=\"320\" height=\"240\" controls>\n",
    "  <source src=\"data/orangutan/orangutan_processed.mp4\" type=\"video/mp4\">\n",
    "</video>"
   ]
  },
  {
   "cell_type": "markdown",
   "metadata": {},
   "source": [
    "### Additional commands to monitor\n",
    "Use these additional commands to monitor.\n",
    "\n",
    "```bash\n",
    "# checkout how many elements are in the queue\n",
    "!az servicebus queue show \\\n",
    "    --name {get_key(env_path, \"SB_QUEUE\")} \\\n",
    "    --namespace-name {get_key(env_path, \"SB_NAMESPACE\")} \\\n",
    "    --resource-group {get_key(env_path, \"RESOURCE_GROUP\")} \\\n",
    "    --query \"countDetails.activeMessageCount\"\n",
    "```"
   ]
  },
  {
   "cell_type": "markdown",
   "metadata": {},
   "source": [
    "---"
   ]
  },
  {
   "cell_type": "markdown",
   "metadata": {},
   "source": [
    "Continue to the next [notebook](/notebooks/03_create_aks_cluster.ipynb)."
   ]
  }
 ],
 "metadata": {
  "celltoolbar": "Tags",
  "kernelspec": {
   "display_name": "Python [conda env:batchscoringdl]",
   "language": "python",
   "name": "conda-env-batchscoringdl-py"
  },
  "language_info": {
   "codemirror_mode": {
    "name": "ipython",
    "version": 3
   },
   "file_extension": ".py",
   "mimetype": "text/x-python",
   "name": "python",
   "nbconvert_exporter": "python",
   "pygments_lexer": "ipython3",
   "version": "3.6.7"
  }
 },
 "nbformat": 4,
 "nbformat_minor": 2
}
