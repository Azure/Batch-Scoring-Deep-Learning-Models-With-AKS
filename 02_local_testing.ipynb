{
 "cells": [
  {
   "cell_type": "markdown",
   "metadata": {},
   "source": [
    "# 2. Neural Style Transfer on your local machine\n",
    "\n",
    "To make sure all the scripts that are working correctly, we need to test them on our local machine first. Specifically, we'll be testing the components that will be in our __flask app__ and our __scoring app__.\n",
    "\n",
    "### Flask App\n",
    "The __flask app__ is responsible for:\n",
    "1. preprocessing the images into individual frames and extracting the audio file\n",
    "2. adding references of the individual images to the Service Bus queue\n",
    "3. waiting until style transfer has been applied to all images\n",
    "4. postprocessing the style transfer images by stitching them together into a video and re-adding the audio clip\n",
    "\n",
    "The __flask app__ contains the following files:\n",
    "- `preprocess.py` \n",
    "- `add_images_to_queue.py` \n",
    "- `postprocess.py` \n",
    "- `util.py`\n",
    "- `main.py`\n",
    "\n",
    "`preprocess.py`, `add_images_to_queue.py`, and `postprocess.py` can be executed independently. This is to allow us to test each piece. The `main.py` file will call functions the aforementioned files. It will start by preprocessing the video then adding images to the service bus queue. Then it will wait for the messages in the queue to be dequeued and processed by another running process. (This occurs in the __scoring app__.) After all the images in the queue are processed, the `main.py` will start to postprocess the output frames, and recreate a new video, but this time with the style transfered frames.\n",
    "\n",
    "### Scoring App\n",
    "The __scoring app__ is responsible for:\n",
    "1. polling the Service Bus queue for new images \n",
    "2. applying style transfer to those images and saving them back to storage\n",
    "\n",
    "The __scoring app__ containers the following files:\n",
    "- `main.py`\n",
    "- `process_images_from_queue.py`\n",
    "- `style_transfer.py`\n",
    "- `util.py`\n",
    "\n",
    "`main.py` starts the app by calling on the function in the `process_images_from_queue.py` file. This is responsible for continuously polling the service bus queue and checking for new messages. As images get pulled off the queue, the process will then call the stylize function in the `style_transfer.py` file which performs the actual style transfer. The generated style images are saved back to blob directly from this process. "
   ]
  },
  {
   "cell_type": "markdown",
   "metadata": {},
   "source": [
    "---"
   ]
  },
  {
   "cell_type": "markdown",
   "metadata": {},
   "source": [
    "### Import package and load .env"
   ]
  },
  {
   "cell_type": "code",
   "execution_count": null,
   "metadata": {},
   "outputs": [],
   "source": [
    "from dotenv import set_key, get_key, find_dotenv, load_dotenv\n",
    "from pathlib import Path\n",
    "import json\n",
    "import os"
   ]
  },
  {
   "cell_type": "code",
   "execution_count": null,
   "metadata": {},
   "outputs": [],
   "source": [
    "env_path = find_dotenv(raise_error_if_not_found=True)\n",
    "load_dotenv(env_path)"
   ]
  },
  {
   "cell_type": "markdown",
   "metadata": {},
   "source": [
    "### Preprocess video \n",
    "Run the preprocessing step on the video `orangutan.mp4` that is in blob. Specify the video (including the extention) and the mounted directory to access blob. "
   ]
  },
  {
   "cell_type": "code",
   "execution_count": null,
   "metadata": {
    "scrolled": true
   },
   "outputs": [],
   "source": [
    "!python flask_app/preprocess.py \\\n",
    "    --video orangutan.mp4 \\\n",
    "    --storage-mount-dir data"
   ]
  },
  {
   "cell_type": "markdown",
   "metadata": {},
   "source": [
    "### Add messages to queue\n",
    "The preprocessing step splits the video into individual frames. Now add those frames to the queue to be processed later."
   ]
  },
  {
   "cell_type": "code",
   "execution_count": null,
   "metadata": {},
   "outputs": [],
   "source": [
    "!python flask_app/add_images_to_queue.py \\\n",
    "    --video-name orangutan \\\n",
    "    --storage-mount-dir data"
   ]
  },
  {
   "cell_type": "markdown",
   "metadata": {},
   "source": [
    "### Run the main style transfer process\n",
    "The `scoring_app/main.py` file will dequeue images from the queue and apply style transfer to the images."
   ]
  },
  {
   "cell_type": "code",
   "execution_count": null,
   "metadata": {},
   "outputs": [],
   "source": [
    "!python scoring_app/main.py --terminate"
   ]
  },
  {
   "cell_type": "markdown",
   "metadata": {},
   "source": [
    "### Postprocess the frames\n",
    "Now that the frames have been processed, we can stitch then back together and reattach the audio file using the `flask_app/postprocess.py` file."
   ]
  },
  {
   "cell_type": "code",
   "execution_count": null,
   "metadata": {},
   "outputs": [],
   "source": [
    "!python flask_app/postprocess.pyprocess.pyp/postprocess.py \\\n",
    "    --video-name orangutan \\\n",
    "    --storage-mount-dir data"
   ]
  },
  {
   "cell_type": "markdown",
   "metadata": {},
   "source": [
    "Check out mounted storage container and make sure that the output video is there. It will be called `{video_name}_processed.mp4`"
   ]
  },
  {
   "cell_type": "code",
   "execution_count": null,
   "metadata": {},
   "outputs": [],
   "source": [
    "!ls -la data/orangutan"
   ]
  },
  {
   "cell_type": "markdown",
   "metadata": {},
   "source": [
    "### Additional commands to monitor\n",
    "Use these additional commands to monitor.\n",
    "\n",
    "```bash\n",
    "# checkout how many elements are in the queue\n",
    "!az servicebus queue show \\\n",
    "    --name {get_key(env_path, \"SB_QUEUE\")} \\\n",
    "    --namespace-name {get_key(env_path, \"SB_NAMESPACE\")} \\\n",
    "    --resource-group {get_key(env_path, \"RESOURCE_GROUP\")} \\\n",
    "    --query \"countDetails.activeMessageCount\"\n",
    "```"
   ]
  },
  {
   "cell_type": "markdown",
   "metadata": {},
   "source": [
    "---"
   ]
  },
  {
   "cell_type": "markdown",
   "metadata": {},
   "source": [
    "Continue to the next [notebook](/notebooks/03_create_aks_cluster.ipynb)."
   ]
  }
 ],
 "metadata": {
  "kernelspec": {
   "display_name": "Python [conda env:batchscoringdl]",
   "language": "python",
   "name": "conda-env-batchscoringdl-py"
  },
  "language_info": {
   "codemirror_mode": {
    "name": "ipython",
    "version": 3
   },
   "file_extension": ".py",
   "mimetype": "text/x-python",
   "name": "python",
   "nbconvert_exporter": "python",
   "pygments_lexer": "ipython3",
   "version": "3.6.7"
  }
 },
 "nbformat": 4,
 "nbformat_minor": 2
}
