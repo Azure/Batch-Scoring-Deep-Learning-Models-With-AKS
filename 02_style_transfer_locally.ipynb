{
 "cells": [
  {
   "cell_type": "markdown",
   "metadata": {},
   "source": [
    "# 2. Neural Style Transfer on your local machine\n",
    "\n",
    "To make sure all the scripts that are working correctly, we need to test them on our local machine first. Specifically, we'll be testing the components that will be in our __aci app__ and our __aks app__.\n",
    "\n",
    "The __aci app__ is responsible for:\n",
    "1. preprocessing the images into individual frames and extracting the audio file\n",
    "2. adding references of the individual images to the Service Bus queue\n",
    "3. waiting until style transfer has been applied to all images\n",
    "4. postprocessing the style transfer images by stitching them together into a video and re-adding the audio clip\n",
    "\n",
    "The __aks app__ is responsible for:\n",
    "1. polling the Service Bus queue for new images \n",
    "2. applying style transfer to those images and saving them back to storage"
   ]
  },
  {
   "cell_type": "markdown",
   "metadata": {},
   "source": [
    "---"
   ]
  },
  {
   "cell_type": "markdown",
   "metadata": {},
   "source": [
    "### Import package and load .env"
   ]
  },
  {
   "cell_type": "code",
   "execution_count": null,
   "metadata": {},
   "outputs": [],
   "source": [
    "from dotenv import set_key, get_key, find_dotenv, load_dotenv\n",
    "from pathlib import Path\n",
    "import json\n",
    "import os\n",
    "%load_ext dotenv\n",
    "%dotenv"
   ]
  },
  {
   "cell_type": "code",
   "execution_count": null,
   "metadata": {},
   "outputs": [],
   "source": [
    "env_path = find_dotenv(raise_error_if_not_found=True)\n",
    "load_dotenv(env_path)"
   ]
  },
  {
   "cell_type": "markdown",
   "metadata": {},
   "source": [
    "### Add video to storage account\n",
    "To test things locally, download the video stored in this location `https://happypathspublic.blob.core.windows.net/videos/orangutan.mp4`, and reupload it to the Azure storage account you created. \n",
    "\n",
    "1. Download the video using `wget`\n",
    "2. Upload the downloaded video to your storage container using `azcopy`\n",
    "3. Remove the downloaded video to clean up your directory"
   ]
  },
  {
   "cell_type": "code",
   "execution_count": null,
   "metadata": {},
   "outputs": [],
   "source": [
    "!wget https://happypathspublic.blob.core.windows.net/videos/orangutan.mp4"
   ]
  },
  {
   "cell_type": "code",
   "execution_count": null,
   "metadata": {},
   "outputs": [],
   "source": [
    "!azcopy \\\n",
    "    --source orangutan.mp4 \\\n",
    "    --destination https://{get_key(env_path, \"STORAGE_ACCOUNT_NAME\")}.blob.core.windows.net/{get_key(env_path, \"STORAGE_CONTAINER_NAME\")}/orangutan.mp4 \\\n",
    "    --dest-key {get_key(env_path, \"STORAGE_ACCOUNT_KEY\")} \\\n",
    "    --resume \".\""
   ]
  },
  {
   "cell_type": "code",
   "execution_count": null,
   "metadata": {},
   "outputs": [],
   "source": [
    "!rm orangutan.mp4"
   ]
  },
  {
   "cell_type": "markdown",
   "metadata": {},
   "source": [
    "### Preprocess video \n",
    "The first thing we want to test locally is the preprocessing step. This step will use a reference to the video file in blob and perform the following:\n",
    "1. Download the video to a tmp location\n",
    "2. Use `ffmpeg` to extract the audio file from the video and save the file to a tmp location\n",
    "3. Use `ffmpeg` to split the video up into individual frames and save all frames to the tmp location\n",
    "4. Upload the extracted audio file & frames to storage to be consumed by the next step"
   ]
  },
  {
   "cell_type": "code",
   "execution_count": null,
   "metadata": {},
   "outputs": [],
   "source": [
    "input_frames_dir = \"orangutan_frames_test\"\n",
    "audio_file = \"orangutan_audio_test.aac\""
   ]
  },
  {
   "cell_type": "markdown",
   "metadata": {},
   "source": [
    "Run the preprocess script:\n",
    "- `--frames-dir` is the directory in Azure blob that will be created to store individual frames from preprocessing the video.\n",
    "- `--audio` is the audio file name in Azure blob to save the extracted audio clip to.\n",
    "\n",
    "After running this step, check your storage account to see if your `frames_dir` and `audio_file` is loaded."
   ]
  },
  {
   "cell_type": "code",
   "execution_count": null,
   "metadata": {},
   "outputs": [],
   "source": [
    "!python aci/preprocess.py \\\n",
    "    --video orangutan.mp4 \\\n",
    "    --frames-dir $input_frames_dir \\\n",
    "    --audio $audio_file"
   ]
  },
  {
   "cell_type": "markdown",
   "metadata": {},
   "source": [
    "### Test neural style transfer locally\n",
    "\n",
    "Now that the video is preprocessed into individual frames, test the style transfer script locally:\n",
    "- Add 10 images to queue\n",
    "- Dequeue those 10 images and apply neural style transfer locally\n",
    "- Check that the queue is now empty"
   ]
  },
  {
   "cell_type": "code",
   "execution_count": null,
   "metadata": {},
   "outputs": [],
   "source": [
    "output_frames_dir = \"orangutan_frames_local_test_processed\""
   ]
  },
  {
   "cell_type": "code",
   "execution_count": null,
   "metadata": {},
   "outputs": [],
   "source": [
    "!python aci/add_images_to_queue.py \\\n",
    "    --input-dir $input_frames_dir \\\n",
    "    --output-dir $output_frames_dir \\\n",
    "    --style \"mosaic\" \\\n",
    "    --queue-limit 10"
   ]
  },
  {
   "cell_type": "markdown",
   "metadata": {},
   "source": [
    "The `--input-dir` is the directory in your blob container that corresponds to the queue messages (the script will look inside the directory specified by `--input-dir` to find and process the message that it dequeued)."
   ]
  },
  {
   "cell_type": "code",
   "execution_count": null,
   "metadata": {},
   "outputs": [],
   "source": [
    "!python aks/main.py --terminate"
   ]
  },
  {
   "cell_type": "code",
   "execution_count": null,
   "metadata": {},
   "outputs": [],
   "source": [
    "!az servicebus queue show \\\n",
    "    --name {get_key(env_path, \"SB_QUEUE\")} \\\n",
    "    --namespace-name {get_key(env_path, \"SB_NAMESPACE\")} \\\n",
    "    --resource-group {get_key(env_path, \"RESOURCE_GROUP\")} \\\n",
    "    --query \"countDetails.activeMessageCount\""
   ]
  },
  {
   "cell_type": "markdown",
   "metadata": {},
   "source": [
    "---"
   ]
  },
  {
   "cell_type": "markdown",
   "metadata": {},
   "source": [
    "### Conclusion"
   ]
  },
  {
   "cell_type": "markdown",
   "metadata": {},
   "source": [
    "Check that our `.env` file looks correct."
   ]
  },
  {
   "cell_type": "code",
   "execution_count": null,
   "metadata": {},
   "outputs": [],
   "source": [
    "!cat .env"
   ]
  },
  {
   "cell_type": "markdown",
   "metadata": {},
   "source": [
    "Continue to the next [notebook](/notebooks/03_style_transfer_on_aks.ipynb)."
   ]
  }
 ],
 "metadata": {
  "kernelspec": {
   "display_name": "Python [conda env:batchscoringdl_aks]",
   "language": "python",
   "name": "conda-env-batchscoringdl_aks-py"
  },
  "language_info": {
   "codemirror_mode": {
    "name": "ipython",
    "version": 3
   },
   "file_extension": ".py",
   "mimetype": "text/x-python",
   "name": "python",
   "nbconvert_exporter": "python",
   "pygments_lexer": "ipython3",
   "version": "3.6.7"
  }
 },
 "nbformat": 4,
 "nbformat_minor": 2
}
