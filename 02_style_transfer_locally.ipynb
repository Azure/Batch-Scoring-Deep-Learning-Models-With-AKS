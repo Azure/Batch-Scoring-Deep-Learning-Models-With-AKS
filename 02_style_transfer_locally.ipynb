{
 "cells": [
  {
   "cell_type": "markdown",
   "metadata": {},
   "source": [
    "# 2. Neural Style Transfer on your local machine\n",
    "\n",
    "To make sure all the scripts that are working correctly, we need to test them on our local machine first. Specifically, we'll be testing the components that will be in our __aci app__ and our __aks app__.\n",
    "\n",
    "The __aci app__ is responsible for:\n",
    "1. preprocessing the images into individual frames and extracting the audio file\n",
    "2. adding references of the individual images to the Service Bus queue\n",
    "3. waiting until style transfer has been applied to all images\n",
    "4. postprocessing the style transfer images by stitching them together into a video and re-adding the audio clip\n",
    "\n",
    "The __aks app__ is responsible for:\n",
    "1. polling the Service Bus queue for new images \n",
    "2. applying style transfer to those images and saving them back to storage"
   ]
  },
  {
   "cell_type": "markdown",
   "metadata": {},
   "source": [
    "---"
   ]
  },
  {
   "cell_type": "markdown",
   "metadata": {},
   "source": [
    "### Import package and load .env"
   ]
  },
  {
   "cell_type": "code",
   "execution_count": 1,
   "metadata": {},
   "outputs": [],
   "source": [
    "from dotenv import set_key, get_key, find_dotenv, load_dotenv\n",
    "from pathlib import Path\n",
    "import json\n",
    "import os"
   ]
  },
  {
   "cell_type": "code",
   "execution_count": 2,
   "metadata": {},
   "outputs": [
    {
     "data": {
      "text/plain": [
       "True"
      ]
     },
     "execution_count": 2,
     "metadata": {},
     "output_type": "execute_result"
    }
   ],
   "source": [
    "env_path = find_dotenv(raise_error_if_not_found=True)\n",
    "load_dotenv(env_path)"
   ]
  },
  {
   "cell_type": "markdown",
   "metadata": {},
   "source": [
    "### Preprocess video \n",
    "The first thing we want to test locally is the preprocessing step. This step will use a reference to the video file in blob and perform the following:\n",
    "1. Download the video to a tmp location\n",
    "2. Use `ffmpeg` to extract the audio file from the video and save the file to a tmp location\n",
    "3. Use `ffmpeg` to split the video up into individual frames and save all frames to the tmp location\n",
    "4. Upload the extracted audio file & frames to storage to be consumed by the next step"
   ]
  },
  {
   "cell_type": "code",
   "execution_count": 3,
   "metadata": {},
   "outputs": [],
   "source": [
    "input_frames_dir = \"orangutan_frames_test\"\n",
    "audio_file = \"orangutan_audio_test.aac\""
   ]
  },
  {
   "cell_type": "markdown",
   "metadata": {},
   "source": [
    "Run the preprocess script:\n",
    "- `--frames-dir` is the directory in Azure blob that will be created to store individual frames from preprocessing the video.\n",
    "- `--audio` is the audio file name in Azure blob to save the extracted audio clip to.\n",
    "\n",
    "After running this step, check your storage account to see if your `frames_dir` and `audio_file` is loaded."
   ]
  },
  {
   "cell_type": "code",
   "execution_count": 4,
   "metadata": {
    "scrolled": true
   },
   "outputs": [
    {
     "name": "stdout",
     "output_type": "stream",
     "text": [
      "ffmpeg version 4.0.2 Copyright (c) 2000-2018 the FFmpeg developers\n",
      "  built with gcc 4.8.2 (GCC) 20140120 (Red Hat 4.8.2-15)\n",
      "  configuration: --prefix=/home/jiata/anaconda3/envs/batchscoringdl --disable-doc --disable-openssl --enable-shared --enable-static --extra-cflags='-Wall -g -m64 -pipe -O3 -march=x86-64 -fPIC' --extra-cxxflags='-Wall -g -m64 -pipe -O3 -march=x86-64 -fPIC' --extra-libs='-lpthread -lm -lz' --enable-zlib --enable-pic --enable-pthreads --enable-gpl --enable-version3 --enable-hardcoded-tables --enable-avresample --enable-libfreetype --enable-gnutls --enable-libx264 --enable-libopenh264\n",
      "  libavutil      56. 14.100 / 56. 14.100\n",
      "  libavcodec     58. 18.100 / 58. 18.100\n",
      "  libavformat    58. 12.100 / 58. 12.100\n",
      "  libavdevice    58.  3.100 / 58.  3.100\n",
      "  libavfilter     7. 16.100 /  7. 16.100\n",
      "  libavresample   4.  0.  0 /  4.  0.  0\n",
      "  libswscale      5.  1.100 /  5.  1.100\n",
      "  libswresample   3.  1.100 /  3.  1.100\n",
      "  libpostproc    55.  1.100 / 55.  1.100\n",
      "Input #0, mov,mp4,m4a,3gp,3g2,mj2, from '.aci_pre/orangutan.mp4':\n",
      "  Metadata:\n",
      "    major_brand     : isom\n",
      "    minor_version   : 512\n",
      "    compatible_brands: isomiso2avc1mp41\n",
      "    encoder         : Lavf58.12.100\n",
      "  Duration: 00:00:27.48, start: 0.000000, bitrate: 2317 kb/s\n",
      "    Stream #0:0(und): Video: h264 (High) (avc1 / 0x31637661), yuv420p, 720x720, 2242 kb/s, 30 fps, 30 tbr, 15360 tbn, 60 tbc (default)\n",
      "    Metadata:\n",
      "      handler_name    : VideoHandler\n",
      "    Stream #0:1(eng): Audio: aac (LC) (mp4a / 0x6134706D), 48000 Hz, mono, fltp, 69 kb/s (default)\n",
      "    Metadata:\n",
      "      handler_name    : SoundHandler\n",
      "Stream mapping:\n",
      "  Stream #0:1 -> #0:0 (aac (native) -> aac (native))\n",
      "Press [q] to stop, [?] for help\n",
      "Output #0, adts, to '.aci_pre/orangutan_audio_test.aac':\n",
      "  Metadata:\n",
      "    major_brand     : isom\n",
      "    minor_version   : 512\n",
      "    compatible_brands: isomiso2avc1mp41\n",
      "    encoder         : Lavf58.12.100\n",
      "    Stream #0:0(eng): Audio: aac (LC), 48000 Hz, mono, fltp, 69 kb/s (default)\n",
      "    Metadata:\n",
      "      handler_name    : SoundHandler\n",
      "      encoder         : Lavc58.18.100 aac\n",
      "size=     242kB time=00:00:27.45 bitrate=  72.2kbits/s speed= 157x    \n",
      "video:0kB audio:233kB subtitle:0kB other streams:0kB global headers:0kB muxing overhead: 3.777506%\n",
      "\u001b[1;36m[aac @ 0x21f41c0] \u001b[0mQavg: 424.962\n",
      "Input #0, mov,mp4,m4a,3gp,3g2,mj2, from '.aci_pre/orangutan.mp4':\n",
      "  Metadata:\n",
      "    major_brand     : isom\n",
      "    minor_version   : 512\n",
      "    compatible_brands: isomiso2avc1mp41\n",
      "    encoder         : Lavf58.12.100\n",
      "  Duration: 00:00:27.48, start: 0.000000, bitrate: 2317 kb/s\n",
      "    Stream #0:0(und): Video: h264 (High) (avc1 / 0x31637661), yuv420p, 720x720, 2242 kb/s, 30 fps, 30 tbr, 15360 tbn, 60 tbc (default)\n",
      "    Metadata:\n",
      "      handler_name    : VideoHandler\n",
      "    Stream #0:1(eng): Audio: aac (LC) (mp4a / 0x6134706D), 48000 Hz, mono, fltp, 69 kb/s (default)\n",
      "    Metadata:\n",
      "      handler_name    : SoundHandler\n",
      "Stream mapping:\n",
      "  Stream #0:0 -> #0:0 (h264 (native) -> mjpeg (native))\n",
      "Press [q] to stop, [?] for help\n",
      "\u001b[1;34m[swscaler @ 0x250e7c0] \u001b[0m\u001b[0;33mdeprecated pixel format used, make sure you did set range correctly\n",
      "\u001b[0mOutput #0, image2, to '.aci_pre/orangutan_frames_test/%06d_frame.jpg':\n",
      "  Metadata:\n",
      "    major_brand     : isom\n",
      "    minor_version   : 512\n",
      "    compatible_brands: isomiso2avc1mp41\n",
      "    encoder         : Lavf58.12.100\n",
      "    Stream #0:0(und): Video: mjpeg, yuvj420p(pc), 720x720, q=2-31, 200 kb/s, 30 fps, 30 tbn, 30 tbc (default)\n",
      "    Metadata:\n",
      "      handler_name    : VideoHandler\n",
      "      encoder         : Lavc58.18.100 mjpeg\n",
      "    Side data:\n",
      "      cpb: bitrate max/min/avg: 0/0/200000 buffer size: 0 vbv_delay: -1\n",
      "frame=  823 fps=262 q=24.8 Lsize=N/A time=00:00:27.43 bitrate=N/A speed=8.75x    \n",
      "video:17559kB audio:0kB subtitle:0kB other streams:0kB global headers:0kB muxing overhead: unknown\n"
     ]
    }
   ],
   "source": [
    "!python aci/preprocess.py \\\n",
    "    --video orangutan.mp4 \\\n",
    "    --frames-dir {input_frames_dir} \\\n",
    "    --audio {audio_file}"
   ]
  },
  {
   "cell_type": "markdown",
   "metadata": {},
   "source": [
    "### Test neural style transfer locally\n",
    "\n",
    "Now that the video is preprocessed into individual frames, test the style transfer script locally:\n",
    "- Add 10 images to queue\n",
    "- Dequeue those 10 images and apply neural style transfer locally\n",
    "- Check that the queue is now empty"
   ]
  },
  {
   "cell_type": "code",
   "execution_count": 5,
   "metadata": {},
   "outputs": [],
   "source": [
    "output_frames_dir = \"orangutan_frames_local_test_processed\""
   ]
  },
  {
   "cell_type": "code",
   "execution_count": 6,
   "metadata": {},
   "outputs": [
    {
     "name": "stdout",
     "output_type": "stream",
     "text": [
      "Adding images from 'orangutan_frames_test' in storage to queue 'batchscoringdlqueue'\n",
      "2018-12-07 20:36:02,364 [root:add_images_to_queue.py:48] DEBUG - Queue limit is reached. Exiting process...\n"
     ]
    }
   ],
   "source": [
    "!python aci/add_images_to_queue.py \\\n",
    "    --input-dir {input_frames_dir} \\\n",
    "    --output-dir {output_frames_dir} \\\n",
    "    --queue-limit 10"
   ]
  },
  {
   "cell_type": "markdown",
   "metadata": {},
   "source": [
    "The `--input-dir` is the directory in your blob container that corresponds to the queue messages (the script will look inside the directory specified by `--input-dir` to find and process the message that it dequeued)."
   ]
  },
  {
   "cell_type": "code",
   "execution_count": 7,
   "metadata": {},
   "outputs": [
    {
     "name": "stdout",
     "output_type": "stream",
     "text": [
      "2018-12-07 20:36:03,072 [root:process_images_from_queue.py:35] DEBUG - Downloading style model from directory models\n",
      "2018-12-07 20:36:03,740 [root:process_images_from_queue.py:50] DEBUG - The following model were downloaded: [\"candy.pth\",\"model.pth\",\"mosaic.pth\",\"rain_princess.pth\",\"udnie.pth\"]\n",
      "2018-12-07 20:36:03,740 [root:process_images_from_queue.py:88] DEBUG - It took 0.70 seconds to download style model.\n",
      "2018-12-07 20:36:03,740 [root:process_images_from_queue.py:91] DEBUG - Start listening to queue 'batchscoringdlqueue' on service bus...\n",
      "2018-12-07 20:36:03,740 [root:process_images_from_queue.py:96] DEBUG - Peek queue...\n",
      "2018-12-07 20:36:03,759 [root:process_images_from_queue.py:123] DEBUG - Queue message body: {'input_frame': '000001_frame.jpg', 'input_dir': 'orangutan_frames_test', 'output_dir': 'orangutan_frames_local_test_processed'}\n",
      "2018-12-07 20:36:03,767 [root:process_images_from_queue.py:140] DEBUG - Starting style transfer on orangutan_frames_test/000001_frame.jpg\n",
      "2018-12-07 20:36:07,208 [root:style_transfer.py:157] DEBUG - Processing .aks/input/000001_frame.jpg\n",
      "/home/jiata/anaconda3/envs/batchscoringdl/lib/python3.6/site-packages/torch/nn/modules/upsampling.py:122: UserWarning: nn.Upsampling is deprecated. Use nn.functional.interpolate instead.\n",
      "  warnings.warn(\"nn.Upsampling is deprecated. Use nn.functional.interpolate instead.\")\n",
      "2018-12-07 20:36:07,322 [root:process_images_from_queue.py:150] DEBUG - Finished style transfer on orangutan_frames_test/000001_frame.jpg\n",
      "2018-12-07 20:36:07,354 [root:process_images_from_queue.py:162] DEBUG - Uploaded output file and log file to storage\n",
      "2018-12-07 20:36:07,354 [root:process_images_from_queue.py:171] DEBUG - Deleting queue message...\n",
      "2018-12-07 20:36:07,380 [root:process_images_from_queue.py:96] DEBUG - Peek queue...\n",
      "2018-12-07 20:36:07,385 [root:process_images_from_queue.py:123] DEBUG - Queue message body: {'input_frame': '000002_frame.jpg', 'input_dir': 'orangutan_frames_test', 'output_dir': 'orangutan_frames_local_test_processed'}\n",
      "2018-12-07 20:36:07,397 [root:process_images_from_queue.py:140] DEBUG - Starting style transfer on orangutan_frames_test/000002_frame.jpg\n",
      "2018-12-07 20:36:07,424 [root:style_transfer.py:157] DEBUG - Processing .aks/input/000002_frame.jpg\n",
      "2018-12-07 20:36:07,522 [root:process_images_from_queue.py:150] DEBUG - Finished style transfer on orangutan_frames_test/000002_frame.jpg\n",
      "2018-12-07 20:36:07,548 [root:process_images_from_queue.py:162] DEBUG - Uploaded output file and log file to storage\n",
      "2018-12-07 20:36:07,548 [root:process_images_from_queue.py:171] DEBUG - Deleting queue message...\n",
      "2018-12-07 20:36:07,648 [root:process_images_from_queue.py:96] DEBUG - Peek queue...\n",
      "2018-12-07 20:36:07,653 [root:process_images_from_queue.py:123] DEBUG - Queue message body: {'input_frame': '000003_frame.jpg', 'input_dir': 'orangutan_frames_test', 'output_dir': 'orangutan_frames_local_test_processed'}\n",
      "2018-12-07 20:36:07,666 [root:process_images_from_queue.py:140] DEBUG - Starting style transfer on orangutan_frames_test/000003_frame.jpg\n",
      "2018-12-07 20:36:07,693 [root:style_transfer.py:157] DEBUG - Processing .aks/input/000003_frame.jpg\n",
      "2018-12-07 20:36:07,788 [root:process_images_from_queue.py:150] DEBUG - Finished style transfer on orangutan_frames_test/000003_frame.jpg\n",
      "2018-12-07 20:36:07,815 [root:process_images_from_queue.py:162] DEBUG - Uploaded output file and log file to storage\n",
      "2018-12-07 20:36:07,816 [root:process_images_from_queue.py:171] DEBUG - Deleting queue message...\n",
      "2018-12-07 20:36:07,905 [root:process_images_from_queue.py:96] DEBUG - Peek queue...\n",
      "2018-12-07 20:36:07,910 [root:process_images_from_queue.py:123] DEBUG - Queue message body: {'input_frame': '000004_frame.jpg', 'input_dir': 'orangutan_frames_test', 'output_dir': 'orangutan_frames_local_test_processed'}\n",
      "2018-12-07 20:36:07,918 [root:process_images_from_queue.py:140] DEBUG - Starting style transfer on orangutan_frames_test/000004_frame.jpg\n",
      "2018-12-07 20:36:07,945 [root:style_transfer.py:157] DEBUG - Processing .aks/input/000004_frame.jpg\n",
      "2018-12-07 20:36:08,035 [root:process_images_from_queue.py:150] DEBUG - Finished style transfer on orangutan_frames_test/000004_frame.jpg\n",
      "2018-12-07 20:36:08,105 [root:process_images_from_queue.py:162] DEBUG - Uploaded output file and log file to storage\n",
      "2018-12-07 20:36:08,105 [root:process_images_from_queue.py:171] DEBUG - Deleting queue message...\n",
      "2018-12-07 20:36:08,146 [root:process_images_from_queue.py:96] DEBUG - Peek queue...\n",
      "2018-12-07 20:36:08,152 [root:process_images_from_queue.py:123] DEBUG - Queue message body: {'input_frame': '000005_frame.jpg', 'input_dir': 'orangutan_frames_test', 'output_dir': 'orangutan_frames_local_test_processed'}\n",
      "2018-12-07 20:36:08,159 [root:process_images_from_queue.py:140] DEBUG - Starting style transfer on orangutan_frames_test/000005_frame.jpg\n",
      "2018-12-07 20:36:08,185 [root:style_transfer.py:157] DEBUG - Processing .aks/input/000005_frame.jpg\n",
      "2018-12-07 20:36:08,270 [root:process_images_from_queue.py:150] DEBUG - Finished style transfer on orangutan_frames_test/000005_frame.jpg\n",
      "2018-12-07 20:36:08,308 [root:process_images_from_queue.py:162] DEBUG - Uploaded output file and log file to storage\n",
      "2018-12-07 20:36:08,309 [root:process_images_from_queue.py:171] DEBUG - Deleting queue message...\n",
      "2018-12-07 20:36:08,351 [root:process_images_from_queue.py:96] DEBUG - Peek queue...\n",
      "2018-12-07 20:36:08,358 [root:process_images_from_queue.py:123] DEBUG - Queue message body: {'input_frame': '000006_frame.jpg', 'input_dir': 'orangutan_frames_test', 'output_dir': 'orangutan_frames_local_test_processed'}\n",
      "2018-12-07 20:36:08,365 [root:process_images_from_queue.py:140] DEBUG - Starting style transfer on orangutan_frames_test/000006_frame.jpg\n",
      "2018-12-07 20:36:08,392 [root:style_transfer.py:157] DEBUG - Processing .aks/input/000006_frame.jpg\n",
      "2018-12-07 20:36:08,475 [root:process_images_from_queue.py:150] DEBUG - Finished style transfer on orangutan_frames_test/000006_frame.jpg\n",
      "2018-12-07 20:36:08,497 [root:process_images_from_queue.py:162] DEBUG - Uploaded output file and log file to storage\n",
      "2018-12-07 20:36:08,498 [root:process_images_from_queue.py:171] DEBUG - Deleting queue message...\n",
      "2018-12-07 20:36:08,524 [root:process_images_from_queue.py:96] DEBUG - Peek queue...\n",
      "2018-12-07 20:36:08,530 [root:process_images_from_queue.py:123] DEBUG - Queue message body: {'input_frame': '000007_frame.jpg', 'input_dir': 'orangutan_frames_test', 'output_dir': 'orangutan_frames_local_test_processed'}\n",
      "2018-12-07 20:36:08,537 [root:process_images_from_queue.py:140] DEBUG - Starting style transfer on orangutan_frames_test/000007_frame.jpg\n",
      "2018-12-07 20:36:08,563 [root:style_transfer.py:157] DEBUG - Processing .aks/input/000007_frame.jpg\n",
      "2018-12-07 20:36:08,646 [root:process_images_from_queue.py:150] DEBUG - Finished style transfer on orangutan_frames_test/000007_frame.jpg\n",
      "2018-12-07 20:36:08,671 [root:process_images_from_queue.py:162] DEBUG - Uploaded output file and log file to storage\n",
      "2018-12-07 20:36:08,672 [root:process_images_from_queue.py:171] DEBUG - Deleting queue message...\n",
      "2018-12-07 20:36:08,786 [root:process_images_from_queue.py:96] DEBUG - Peek queue...\n",
      "2018-12-07 20:36:08,791 [root:process_images_from_queue.py:123] DEBUG - Queue message body: {'input_frame': '000008_frame.jpg', 'input_dir': 'orangutan_frames_test', 'output_dir': 'orangutan_frames_local_test_processed'}\n",
      "2018-12-07 20:36:08,798 [root:process_images_from_queue.py:140] DEBUG - Starting style transfer on orangutan_frames_test/000008_frame.jpg\n",
      "2018-12-07 20:36:08,824 [root:style_transfer.py:157] DEBUG - Processing .aks/input/000008_frame.jpg\n",
      "2018-12-07 20:36:08,909 [root:process_images_from_queue.py:150] DEBUG - Finished style transfer on orangutan_frames_test/000008_frame.jpg\n",
      "2018-12-07 20:36:08,936 [root:process_images_from_queue.py:162] DEBUG - Uploaded output file and log file to storage\n",
      "2018-12-07 20:36:08,936 [root:process_images_from_queue.py:171] DEBUG - Deleting queue message...\n",
      "2018-12-07 20:36:09,054 [root:process_images_from_queue.py:96] DEBUG - Peek queue...\n",
      "2018-12-07 20:36:09,059 [root:process_images_from_queue.py:123] DEBUG - Queue message body: {'input_frame': '000009_frame.jpg', 'input_dir': 'orangutan_frames_test', 'output_dir': 'orangutan_frames_local_test_processed'}\n",
      "2018-12-07 20:36:09,070 [root:process_images_from_queue.py:140] DEBUG - Starting style transfer on orangutan_frames_test/000009_frame.jpg\n"
     ]
    },
    {
     "name": "stdout",
     "output_type": "stream",
     "text": [
      "2018-12-07 20:36:09,098 [root:style_transfer.py:157] DEBUG - Processing .aks/input/000009_frame.jpg\n",
      "2018-12-07 20:36:09,180 [root:process_images_from_queue.py:150] DEBUG - Finished style transfer on orangutan_frames_test/000009_frame.jpg\n",
      "2018-12-07 20:36:09,204 [root:process_images_from_queue.py:162] DEBUG - Uploaded output file and log file to storage\n",
      "2018-12-07 20:36:09,204 [root:process_images_from_queue.py:171] DEBUG - Deleting queue message...\n",
      "2018-12-07 20:36:09,304 [root:process_images_from_queue.py:96] DEBUG - Peek queue...\n",
      "2018-12-07 20:36:09,310 [root:process_images_from_queue.py:123] DEBUG - Queue message body: {'input_frame': '000010_frame.jpg', 'input_dir': 'orangutan_frames_test', 'output_dir': 'orangutan_frames_local_test_processed'}\n",
      "2018-12-07 20:36:09,356 [root:process_images_from_queue.py:140] DEBUG - Starting style transfer on orangutan_frames_test/000010_frame.jpg\n",
      "2018-12-07 20:36:09,383 [root:style_transfer.py:157] DEBUG - Processing .aks/input/000010_frame.jpg\n",
      "2018-12-07 20:36:09,468 [root:process_images_from_queue.py:150] DEBUG - Finished style transfer on orangutan_frames_test/000010_frame.jpg\n",
      "2018-12-07 20:36:09,492 [root:process_images_from_queue.py:162] DEBUG - Uploaded output file and log file to storage\n",
      "2018-12-07 20:36:09,492 [root:process_images_from_queue.py:171] DEBUG - Deleting queue message...\n",
      "2018-12-07 20:36:09,523 [root:process_images_from_queue.py:96] DEBUG - Peek queue...\n",
      "2018-12-07 20:36:39,610 [root:process_images_from_queue.py:102] DEBUG - Receiver has timed out, queue is empty. Exiting program...\n"
     ]
    }
   ],
   "source": [
    "!python aks/main.py --terminate"
   ]
  },
  {
   "cell_type": "code",
   "execution_count": 8,
   "metadata": {},
   "outputs": [
    {
     "name": "stdout",
     "output_type": "stream",
     "text": [
      "0\r\n"
     ]
    }
   ],
   "source": [
    "!az servicebus queue show \\\n",
    "    --name {get_key(env_path, \"SB_QUEUE\")} \\\n",
    "    --namespace-name {get_key(env_path, \"SB_NAMESPACE\")} \\\n",
    "    --resource-group {get_key(env_path, \"RESOURCE_GROUP\")} \\\n",
    "    --query \"countDetails.activeMessageCount\""
   ]
  },
  {
   "cell_type": "markdown",
   "metadata": {},
   "source": [
    "---"
   ]
  },
  {
   "cell_type": "markdown",
   "metadata": {},
   "source": [
    "Continue to the next [notebook](/notebooks/03_style_transfer_on_aks.ipynb)."
   ]
  }
 ],
 "metadata": {
  "kernelspec": {
   "display_name": "Python [conda env:batchscoringdl]",
   "language": "python",
   "name": "conda-env-batchscoringdl-py"
  },
  "language_info": {
   "codemirror_mode": {
    "name": "ipython",
    "version": 3
   },
   "file_extension": ".py",
   "mimetype": "text/x-python",
   "name": "python",
   "nbconvert_exporter": "python",
   "pygments_lexer": "ipython3",
   "version": "3.6.7"
  }
 },
 "nbformat": 4,
 "nbformat_minor": 2
}
