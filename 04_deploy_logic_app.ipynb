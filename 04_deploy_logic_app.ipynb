{
 "cells": [
  {
   "cell_type": "markdown",
   "metadata": {},
   "source": [
    "# Deploy Logic App + ACI"
   ]
  },
  {
   "cell_type": "markdown",
   "metadata": {},
   "source": [
    "In this notebook, we will perform the final deployment so that the whole architecture is on Azure.\n",
    "\n",
    "### Recap of the architecture:\n",
    "The architecture for this workflow is centered on two main components:\n",
    "- The AKS cluster that will perform the scoring by pulling (references of) images off the queue\n",
    "- The Logic App + ACI that will trigger the workflow and populate the queue\n",
    "\n",
    "At this point, we already have an AKS cluster up and running. It is continuously polling out Service Bus queue to check if there are any incoming messages to process. \n",
    "\n",
    "The next step is to deploy our Logic App + ACI components so that the workflow can be triggered by new videos that appear in blob storage. Once a new video is found in blob, Logic App will trigger the creation of an ACI container that will run the video preprocessing script, the add-to-queue script, and finally the postprocessing script. \n",
    "\n",
    "As soon as new items are added to the queue (from ACI), our AKS cluster will start pulling those items off and start processing them.\n",
    "\n",
    "### Steps in this notebook:\n",
    "1. Create the Docker image that will run inside of our ACI container\n",
    "2. Test the Docker image by runnning it locally. \n",
    "3. Deploy the Logic App. The Logic App will go live once deployed. \n",
    "4. Test the Logic App deployment. To do so, we upload a new video to blob, which will triger the entire workflow."
   ]
  },
  {
   "cell_type": "markdown",
   "metadata": {},
   "source": [
    "---"
   ]
  },
  {
   "cell_type": "markdown",
   "metadata": {},
   "source": [
    "### Import packages and load .env"
   ]
  },
  {
   "cell_type": "code",
   "execution_count": 7,
   "metadata": {},
   "outputs": [],
   "source": [
    "from dotenv import set_key, get_key, find_dotenv, load_dotenv\n",
    "from pathlib import Path\n",
    "import json\n",
    "import jinja2\n",
    "import os"
   ]
  },
  {
   "cell_type": "code",
   "execution_count": 8,
   "metadata": {},
   "outputs": [
    {
     "data": {
      "text/plain": [
       "True"
      ]
     },
     "execution_count": 8,
     "metadata": {},
     "output_type": "execute_result"
    }
   ],
   "source": [
    "env_path = find_dotenv(raise_error_if_not_found=True)\n",
    "load_dotenv(env_path)"
   ]
  },
  {
   "cell_type": "markdown",
   "metadata": {},
   "source": [
    "### Deploy Logic App"
   ]
  },
  {
   "cell_type": "markdown",
   "metadata": {},
   "source": [
    "![Logic Apps](https://happypathspublic.blob.core.windows.net/assets/batch_scoring_for_dl/azure_logic_app.PNG)\n",
    "\n",
    "The *logic* behind the Logic App deployment is shown above:\n",
    "1. When a blob is added, begin the workflow.\n",
    "2. Check the blob name. \n",
    "    - if the blob name ends with `.mp4`:\n",
    "        - create an ACI \n",
    "    - otherwise:\n",
    "        - terminate in cancellation\n"
   ]
  },
  {
   "cell_type": "markdown",
   "metadata": {},
   "source": [
    "Using Jinja, populate the `template.logic_app.json` file and output the new file as `logic_app.json`. This file will be saved in the working directory."
   ]
  },
  {
   "cell_type": "code",
   "execution_count": null,
   "metadata": {},
   "outputs": [],
   "source": [
    "# use jinja to fill in variables from .env file\n",
    "env = jinja2.Environment(\n",
    "    loader=jinja2.FileSystemLoader('.')\n",
    ")\n",
    "template = env.get_template('template.logic_app.json')\n",
    "\n",
    "e = os.environ\n",
    "rendered_template = template.render(env=e)\n",
    "\n",
    "out = open('logic_app.json', 'w')\n",
    "out.write(rendered_template)\n",
    "out.close()"
   ]
  },
  {
   "cell_type": "markdown",
   "metadata": {},
   "source": [
    "Deploy our ARM template `logic_app.json`."
   ]
  },
  {
   "cell_type": "code",
   "execution_count": null,
   "metadata": {
    "tags": [
     "strip_out"
    ]
   },
   "outputs": [],
   "source": [
    "!az group deployment create \\\n",
    "    --name {get_key(env_path, \"LOGIC_APP\")} \\\n",
    "    --resource-group {get_key(env_path, \"RESOURCE_GROUP\")} \\\n",
    "    --template-file logic_app.json"
   ]
  },
  {
   "cell_type": "markdown",
   "metadata": {},
   "source": [
    "Once the Logic App is deployed, go into the Azure portal and open up the ACI connector and the Azure blob connector to authenticate. \n",
    "\n",
    "When you open up up the Azure ACI connector, it should look like this:\n",
    "\n",
    "![azure_aci_connector_auth](https://happypathspublic.blob.core.windows.net/assets/batch_scoring_for_dl/azure_aci_connector_auth.PNG)\n",
    "\n",
    "When you open up up the Azure blob connector, it should look like this:\n",
    "\n",
    "![azure_blob_connector_auth](https://happypathspublic.blob.core.windows.net/assets/batch_scoring_for_dl/azure_blob_connector_auth.PNG)\n",
    "\n",
    "For both of these connectors, click on the orange bar at the top to authenticate.\n",
    "\n",
    "Once authenticated, your Logic App should be all set up and ready to trigger the workflow."
   ]
  },
  {
   "cell_type": "markdown",
   "metadata": {},
   "source": [
    "### Trigger logic app by adding a new video to the Azure blob container"
   ]
  },
  {
   "cell_type": "markdown",
   "metadata": {},
   "source": [
    "Re-upload the orangutan video to blob with a new name: `new_video.mp4`"
   ]
  },
  {
   "cell_type": "code",
   "execution_count": null,
   "metadata": {},
   "outputs": [],
   "source": [
    "!azcopy \\\n",
    "    --source orangutan.mp4 \\\n",
    "    --destination https://{get_key(env_path, \"STORAGE_ACCOUNT_NAME\")}.blob.core.windows.net/{get_key(env_path, \"STORAGE_CONTAINER_NAME\")}/new_video.mp4 \\\n",
    "    --dest-key {get_key(env_path, \"STORAGE_ACCOUNT_KEY\")} \\\n",
    "    --resume \".\""
   ]
  },
  {
   "cell_type": "markdown",
   "metadata": {},
   "source": [
    "Check that there are items in the Service Bus queue. It will take some time before we see any items in the queue because Logic App has to detect a new video, kick of ACI (which includes downloading the ACI image), perform the preprocessing, and finally add the preprocessed frames to the queue."
   ]
  },
  {
   "cell_type": "code",
   "execution_count": null,
   "metadata": {},
   "outputs": [],
   "source": [
    "!az servicebus queue show \\\n",
    "    --name {get_key(env_path, \"SB_QUEUE\")} \\\n",
    "    --namespace-name {get_key(env_path, \"SB_NAMESPACE\")} \\\n",
    "    --resource-group {get_key(env_path, \"RESOURCE_GROUP\")} \\\n",
    "    --query 'countDetails.activeMessageCount'"
   ]
  },
  {
   "cell_type": "markdown",
   "metadata": {},
   "source": [
    "Check the logs from one of the pods in your AKS cluster:"
   ]
  },
  {
   "cell_type": "code",
   "execution_count": null,
   "metadata": {},
   "outputs": [],
   "source": [
    "pod_json = !kubectl get pods -o json\n",
    "pod_dict = json.loads(''.join(pod_json))\n",
    "!kubectl logs {pod_dict['items'][0]['metadata']['name']}"
   ]
  },
  {
   "cell_type": "markdown",
   "metadata": {},
   "source": [
    "---"
   ]
  },
  {
   "cell_type": "markdown",
   "metadata": {},
   "source": [
    "Continue to the next [notebook](/notebooks/05_clean_up.ipynb)."
   ]
  }
 ],
 "metadata": {
  "kernelspec": {
   "display_name": "Python [conda env:batchscoringdl]",
   "language": "python",
   "name": "conda-env-batchscoringdl-py"
  },
  "language_info": {
   "codemirror_mode": {
    "name": "ipython",
    "version": 3
   },
   "file_extension": ".py",
   "mimetype": "text/x-python",
   "name": "python",
   "nbconvert_exporter": "python",
   "pygments_lexer": "ipython3",
   "version": "3.6.7"
  }
 },
 "nbformat": 4,
 "nbformat_minor": 2
}
