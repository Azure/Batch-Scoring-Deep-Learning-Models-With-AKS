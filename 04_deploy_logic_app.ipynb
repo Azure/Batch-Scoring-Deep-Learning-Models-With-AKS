{
 "cells": [
  {
   "cell_type": "code",
   "execution_count": null,
   "metadata": {},
   "outputs": [],
   "source": [
    "from dotenv import set_key, get_key, find_dotenv, load_dotenv\n",
    "from pathlib import Path\n",
    "import json\n",
    "import jinja2\n",
    "import os\n",
    "%load_ext dotenv\n",
    "%dotenv"
   ]
  },
  {
   "cell_type": "code",
   "execution_count": null,
   "metadata": {},
   "outputs": [],
   "source": [
    "env_path = find_dotenv(raise_error_if_not_found=True)\n",
    "load_dotenv(env_path)"
   ]
  },
  {
   "cell_type": "markdown",
   "metadata": {},
   "source": [
    "## Deploy Logic App\n",
    "- create docker image that will trigger on new video and preprocess images\n",
    "- deploy logic app\n",
    "- trigger logic app"
   ]
  },
  {
   "cell_type": "markdown",
   "metadata": {},
   "source": [
    "### Create Docker image "
   ]
  },
  {
   "cell_type": "code",
   "execution_count": null,
   "metadata": {},
   "outputs": [],
   "source": [
    "docker_login = \"<your-docker-login>\"\n",
    "aci_image_repo = \"batchscoringdl_aci_app\""
   ]
  },
  {
   "cell_type": "code",
   "execution_count": null,
   "metadata": {},
   "outputs": [],
   "source": [
    "%%writefile aci/requirements.txt\n",
    "azure==4.0.0"
   ]
  },
  {
   "cell_type": "code",
   "execution_count": null,
   "metadata": {},
   "outputs": [],
   "source": [
    "%%writefile aci/Dockerfile\n",
    "\n",
    "FROM continuumio/miniconda3\n",
    "\n",
    "RUN mkdir /app\n",
    "WORKDIR /app\n",
    "ADD add_images_to_queue.py /app\n",
    "ADD preprocess.py /app\n",
    "ADD util.py /app\n",
    "ADD main.py /app\n",
    "ADD requirements.txt /app\n",
    "\n",
    "RUN conda install -c anaconda ffmpeg\n",
    "RUN pip install --no-cache-dir -r requirements.txt\n",
    "\n",
    "CMD [\"python\", \"main.py\"]"
   ]
  },
  {
   "cell_type": "code",
   "execution_count": null,
   "metadata": {},
   "outputs": [],
   "source": [
    "# slow\n",
    "!sudo docker build -t $aci_image_repo aci"
   ]
  },
  {
   "cell_type": "code",
   "execution_count": null,
   "metadata": {},
   "outputs": [],
   "source": [
    "!sed -e \"s/=\\\"/=/g\" -e \"s/\\\"$//g\" .env > .env.docker"
   ]
  },
  {
   "cell_type": "code",
   "execution_count": null,
   "metadata": {},
   "outputs": [],
   "source": [
    "!cat .env.docker"
   ]
  },
  {
   "cell_type": "code",
   "execution_count": null,
   "metadata": {},
   "outputs": [],
   "source": [
    "!sudo docker run -e VIDEO=\"orangutan.mp4\" --env-file \".env.docker\" $aci_image_repo"
   ]
  },
  {
   "cell_type": "code",
   "execution_count": null,
   "metadata": {},
   "outputs": [],
   "source": [
    "!rm .env.docker"
   ]
  },
  {
   "cell_type": "code",
   "execution_count": null,
   "metadata": {},
   "outputs": [],
   "source": [
    "!az servicebus queue show \\\n",
    "    --name {get_key(env_path, \"SB_QUEUE\")} \\\n",
    "    --namespace-name {get_key(env_path, \"SB_NAMESPACE\")} \\\n",
    "    --resource-group {get_key(env_path, \"RESOURCE_GROUP\")} \\\n",
    "    --query 'countDetails.activeMessageCount'"
   ]
  },
  {
   "cell_type": "code",
   "execution_count": null,
   "metadata": {},
   "outputs": [],
   "source": [
    "!sudo docker tag $aci_image_repo $docker_login/$aci_image_repo"
   ]
  },
  {
   "cell_type": "code",
   "execution_count": null,
   "metadata": {},
   "outputs": [],
   "source": [
    "!sudo docker push $docker_login/$aci_image_repo"
   ]
  },
  {
   "cell_type": "code",
   "execution_count": null,
   "metadata": {},
   "outputs": [],
   "source": [
    "set_key(env_path, \"ACI_IMAGE\", aci_image_repo)"
   ]
  },
  {
   "cell_type": "markdown",
   "metadata": {},
   "source": [
    "### Deploy Logic App"
   ]
  },
  {
   "cell_type": "markdown",
   "metadata": {},
   "source": [
    "Set variables we'll need for Logic App deployment:\n",
    "\n",
    "- `logic_app` - the name of your logic app\n",
    "- `aci_container_group` - the name of your ACI \n",
    "- `aci_display_name` - a display name used for your ACI deployment"
   ]
  },
  {
   "cell_type": "code",
   "execution_count": null,
   "metadata": {},
   "outputs": [],
   "source": [
    "logic_app = \"<your-logic-app>\"\n",
    "aci_container_group = \"<your-aci-group-name>\"\n",
    "aci_display_name = \"<your-aci-display-name>\""
   ]
  },
  {
   "cell_type": "code",
   "execution_count": null,
   "metadata": {},
   "outputs": [],
   "source": [
    "set_key(env_path, \"LOGIC_APP\", logic_app)\n",
    "set_key(env_path, \"ACI_CONTAINER_GROUP\", aci_container_group)\n",
    "set_key(env_path, \"ACI_DISPLAY_NAME\", aci_display_name)"
   ]
  },
  {
   "cell_type": "markdown",
   "metadata": {},
   "source": [
    "Using Jinja, populate the `template.logic_app.json` file and output the new file as `logic_app.json`. This file will be saved in the working directory."
   ]
  },
  {
   "cell_type": "code",
   "execution_count": null,
   "metadata": {},
   "outputs": [],
   "source": [
    "# use jinja to fill in variables from .env file\n",
    "env = jinja2.Environment(\n",
    "    loader=jinja2.FileSystemLoader('.')\n",
    ")\n",
    "template = env.get_template('template.logic_app.json')\n",
    "\n",
    "e = os.environ\n",
    "rendered_template = template.render(env=e)\n",
    "\n",
    "out = open('logic_app.json', 'w')\n",
    "out.write(rendered_template)\n",
    "out.close()"
   ]
  },
  {
   "cell_type": "code",
   "execution_count": null,
   "metadata": {},
   "outputs": [],
   "source": [
    "!az group deployment create \\\n",
    "    --name {get_key(env_path, \"LOGIC_APP\")} \\\n",
    "    --resource-group {get_key(env_path, \"RESOURCE_GROUP\")} \\\n",
    "    --template-file logic_app.json"
   ]
  },
  {
   "cell_type": "markdown",
   "metadata": {},
   "source": [
    "Once the Logic App is deployed, go into the Azure portal and open up the ACI connector and the Azure blob connector to authenticate. \n",
    "\n",
    "When you open up up the Azure ACI connector, it should look like this:\n",
    "\n",
    "![azure_aci_connector_auth](https://happypathspublic.blob.core.windows.net/assets/batch_scoring_for_dl/azure_aci_connector_auth.PNG)\n",
    "\n",
    "When you open up up the Azure blob connector, it should look like this:\n",
    "\n",
    "![azure_blob_connector_auth](https://happypathspublic.blob.core.windows.net/assets/batch_scoring_for_dl/azure_blob_connector_auth.PNG)\n",
    "\n",
    "For both of these connectors, click on the orange bar at the top to authenticate.\n",
    "\n",
    "Once authenticated, your Logic App should be all set up and ready to trigger the workflow."
   ]
  },
  {
   "cell_type": "markdown",
   "metadata": {},
   "source": [
    "### Trigger logic app by adding a new video to the Azure blob container"
   ]
  },
  {
   "cell_type": "code",
   "execution_count": null,
   "metadata": {},
   "outputs": [],
   "source": [
    "!wget https://happypathspublic.blob.core.windows.net/videos/orangutan.mp4"
   ]
  },
  {
   "cell_type": "code",
   "execution_count": null,
   "metadata": {},
   "outputs": [],
   "source": [
    "!azcopy \\\n",
    "    --source orangutan.mp4 \\\n",
    "    --destination https://{get_key(env_path, \"STORAGE_ACCOUNT_NAME\")}.blob.core.windows.net/{get_key(env_path, \"STORAGE_CONTAINER_NAME\")}/orangutan2.mp4 \\\n",
    "    --dest-key {get_key(env_path, \"STORAGE_ACCOUNT_KEY\")} \\\n",
    "    --resume \".\""
   ]
  },
  {
   "cell_type": "code",
   "execution_count": null,
   "metadata": {},
   "outputs": [],
   "source": [
    "!rm orangutan.mp4"
   ]
  }
 ],
 "metadata": {
  "kernelspec": {
   "display_name": "Python [conda env:batchscoringdl_aks]",
   "language": "python",
   "name": "conda-env-batchscoringdl_aks-py"
  },
  "language_info": {
   "codemirror_mode": {
    "name": "ipython",
    "version": 3
   },
   "file_extension": ".py",
   "mimetype": "text/x-python",
   "name": "python",
   "nbconvert_exporter": "python",
   "pygments_lexer": "ipython3",
   "version": "3.6.7"
  }
 },
 "nbformat": 4,
 "nbformat_minor": 2
}
