{
 "cells": [
  {
   "cell_type": "markdown",
   "metadata": {},
   "source": [
    "# 4. Neural Style Transfer on AKS\n",
    "\n",
    "Now that the AKS cluster is up, we need to deploy our __flask app__ and __scoring app__ onto it.\n",
    "\n",
    "To do so, we'll do the following:\n",
    "1. Build our __flask app__ and __scoring app__ push it to Dockerhub\n",
    "2. Create our dot-yaml files for each of these apps (these dot-yaml files will need to have the proper configuration for the pods to use blobfuse to access our blob storage container). We should end up creating: `flask_app_deployment.json` and `scoring_app_deployment.json`\n",
    "3. Use `kubectl` to make these deployments to our AKS cluster\n",
    "4. Expose the __flask app__ REST endpoint so that it can be accessed externally\n",
    "\n",
    "### Kubernetes Deployment\n",
    "In this notebook, we will deploy our __flask app__ and __scoring app__ on the kubernetes cluster. Since the __flask app__ does not require heavy computation, we will deploy it on one node and reserve the remaining nodes for the __scoring app__ as it will perform the parallel computation."
   ]
  },
  {
   "cell_type": "markdown",
   "metadata": {},
   "source": [
    "---"
   ]
  },
  {
   "cell_type": "markdown",
   "metadata": {},
   "source": [
    "### Import packages and load .env"
   ]
  },
  {
   "cell_type": "code",
   "execution_count": 1,
   "metadata": {},
   "outputs": [],
   "source": [
    "from dotenv import set_key, get_key, find_dotenv, load_dotenv\n",
    "from pathlib import Path\n",
    "import subprocess\n",
    "import json\n",
    "import os"
   ]
  },
  {
   "cell_type": "code",
   "execution_count": 2,
   "metadata": {},
   "outputs": [
    {
     "data": {
      "text/plain": [
       "True"
      ]
     },
     "execution_count": 2,
     "metadata": {},
     "output_type": "execute_result"
    }
   ],
   "source": [
    "env_path = find_dotenv(raise_error_if_not_found=True)\n",
    "load_dotenv(env_path)"
   ]
  },
  {
   "cell_type": "markdown",
   "metadata": {},
   "source": [
    "### Build Scoring App Docker Image"
   ]
  },
  {
   "cell_type": "code",
   "execution_count": 3,
   "metadata": {},
   "outputs": [
    {
     "name": "stdout",
     "output_type": "stream",
     "text": [
      "Writing scoring_app/requirements.txt\n"
     ]
    }
   ],
   "source": [
    "%%writefile scoring_app/requirements.txt\n",
    "azure==4.0.0\n",
    "torch==0.4.1\n",
    "torchvision==0.2.1"
   ]
  },
  {
   "cell_type": "code",
   "execution_count": 4,
   "metadata": {},
   "outputs": [
    {
     "name": "stdout",
     "output_type": "stream",
     "text": [
      "Writing scoring_app/Dockerfile\n"
     ]
    }
   ],
   "source": [
    "%%writefile scoring_app/Dockerfile\n",
    "\n",
    "FROM nvidia/cuda:9.0-cudnn7-devel-ubuntu16.04\n",
    "\n",
    "RUN echo \"deb http://developer.download.nvidia.com/compute/machine-learning/repos/ubuntu1604/x86_64 /\" > /etc/apt/sources.list.d/nvidia-ml.list\n",
    "\n",
    "RUN apt-get update && apt-get install -y --no-install-recommends \\\n",
    "        build-essential \\\n",
    "        ca-certificates \\\n",
    "        cmake \\\n",
    "        curl \\\n",
    "        git \\\n",
    "        nginx \\\n",
    "        supervisor \\\n",
    "        wget && \\\n",
    "        rm -rf /var/lib/apt/lists/*\n",
    "\n",
    "ENV PYTHON_VERSION=3.6\n",
    "RUN curl -o ~/miniconda.sh -O  https://repo.continuum.io/miniconda/Miniconda3-latest-Linux-x86_64.sh  && \\\n",
    "    chmod +x ~/miniconda.sh && \\\n",
    "    ~/miniconda.sh -b -p /opt/conda && \\\n",
    "    rm ~/miniconda.sh && \\\n",
    "    /opt/conda/bin/conda create -y --name py$PYTHON_VERSION python=$PYTHON_VERSION && \\\n",
    "    /opt/conda/bin/conda clean -ya\n",
    "ENV PATH /opt/conda/envs/py$PYTHON_VERSION/bin:$PATH\n",
    "ENV LD_LIBRARY_PATH /opt/conda/envs/py$PYTHON_VERSION/lib:/usr/local/cuda/lib64/:$LD_LIBRARY_PATH\n",
    "ENV PYTHONPATH /code/:$PYTHONPATH\n",
    "\n",
    "RUN mkdir /app\n",
    "WORKDIR /app\n",
    "ADD process_images_from_queue.py /app\n",
    "ADD style_transfer.py /app\n",
    "ADD main.py /app\n",
    "ADD util.py /app\n",
    "ADD requirements.txt /app\n",
    "\n",
    "RUN pip install --no-cache-dir -r requirements.txt\n",
    "\n",
    "CMD [\"python\", \"main.py\"]"
   ]
  },
  {
   "cell_type": "code",
   "execution_count": 5,
   "metadata": {},
   "outputs": [
    {
     "name": "stdout",
     "output_type": "stream",
     "text": [
      "Sending build context to Docker daemon  35.84kB\n",
      "Step 1/17 : FROM nvidia/cuda:9.0-cudnn7-devel-ubuntu16.04\n",
      " ---> f4f6aaaaa057\n",
      "Step 2/17 : RUN echo \"deb http://developer.download.nvidia.com/compute/machine-learning/repos/ubuntu1604/x86_64 /\" > /etc/apt/sources.list.d/nvidia-ml.list\n",
      " ---> Using cache\n",
      " ---> 4196af2ba86e\n",
      "Step 3/17 : RUN apt-get update && apt-get install -y --no-install-recommends         build-essential         ca-certificates         cmake         curl         git         nginx         supervisor         wget &&         rm -rf /var/lib/apt/lists/*\n",
      " ---> Using cache\n",
      " ---> 8ddcde9d280a\n",
      "Step 4/17 : ENV PYTHON_VERSION=3.6\n",
      " ---> Using cache\n",
      " ---> 5a047de1f83a\n",
      "Step 5/17 : RUN curl -o ~/miniconda.sh -O  https://repo.continuum.io/miniconda/Miniconda3-latest-Linux-x86_64.sh  &&     chmod +x ~/miniconda.sh &&     ~/miniconda.sh -b -p /opt/conda &&     rm ~/miniconda.sh &&     /opt/conda/bin/conda create -y --name py$PYTHON_VERSION python=$PYTHON_VERSION &&     /opt/conda/bin/conda clean -ya\n",
      " ---> Using cache\n",
      " ---> 42fd602eabaa\n",
      "Step 6/17 : ENV PATH /opt/conda/envs/py$PYTHON_VERSION/bin:$PATH\n",
      " ---> Using cache\n",
      " ---> e15ad65c7c32\n",
      "Step 7/17 : ENV LD_LIBRARY_PATH /opt/conda/envs/py$PYTHON_VERSION/lib:/usr/local/cuda/lib64/:$LD_LIBRARY_PATH\n",
      " ---> Using cache\n",
      " ---> 2281999563de\n",
      "Step 8/17 : ENV PYTHONPATH /code/:$PYTHONPATH\n",
      " ---> Using cache\n",
      " ---> e73919aaabd9\n",
      "Step 9/17 : RUN mkdir /app\n",
      " ---> Using cache\n",
      " ---> a586b032becf\n",
      "Step 10/17 : WORKDIR /app\n",
      " ---> Using cache\n",
      " ---> 379f3f867f7a\n",
      "Step 11/17 : ADD process_images_from_queue.py /app\n",
      " ---> Using cache\n",
      " ---> b5e1255d5fa6\n",
      "Step 12/17 : ADD style_transfer.py /app\n",
      " ---> Using cache\n",
      " ---> 0ae2e350f9f9\n",
      "Step 13/17 : ADD main.py /app\n",
      " ---> Using cache\n",
      " ---> 1965d8e0206f\n",
      "Step 14/17 : ADD util.py /app\n",
      " ---> Using cache\n",
      " ---> fe49b449e922\n",
      "Step 15/17 : ADD requirements.txt /app\n",
      " ---> deda42b59920\n",
      "Step 16/17 : RUN pip install --no-cache-dir -r requirements.txt\n",
      " ---> Running in 31676e0db18a\n",
      "Collecting azure==4.0.0 (from -r requirements.txt (line 1))\n",
      "  Downloading https://files.pythonhosted.org/packages/5a/5e/f94bd8091ab0ccc68ee902e188d4e8cd3b38dc77155a1c187cbf4767d0e4/azure-4.0.0-py2.py3-none-any.whl\n",
      "Collecting torch==0.4.1 (from -r requirements.txt (line 2))\n",
      "  Downloading https://files.pythonhosted.org/packages/49/0e/e382bcf1a6ae8225f50b99cc26effa2d4cc6d66975ccf3fa9590efcbedce/torch-0.4.1-cp36-cp36m-manylinux1_x86_64.whl (519.5MB)\n",
      "Collecting torchvision==0.2.1 (from -r requirements.txt (line 3))\n",
      "  Downloading https://files.pythonhosted.org/packages/ca/0d/f00b2885711e08bd71242ebe7b96561e6f6d01fdb4b9dcf4d37e2e13c5e1/torchvision-0.2.1-py2.py3-none-any.whl (54kB)\n",
      "Collecting azure-graphrbac~=0.40.0 (from azure==4.0.0->-r requirements.txt (line 1))\n",
      "  Downloading https://files.pythonhosted.org/packages/89/0a/29f7e2914033e2536026b8f0d7f8deb1edda68c9a93ce4757b2b1e39568b/azure_graphrbac-0.40.0-py2.py3-none-any.whl (63kB)\n",
      "Collecting azure-servicemanagement-legacy~=0.20.6 (from azure==4.0.0->-r requirements.txt (line 1))\n",
      "  Downloading https://files.pythonhosted.org/packages/a3/2b/0813d459df7ec04bb8c6a250882ee88b672a5f8d16a237978c89436a053e/azure_servicemanagement_legacy-0.20.6-py2.py3-none-any.whl (78kB)\n",
      "Collecting azure-storage-file~=1.3 (from azure==4.0.0->-r requirements.txt (line 1))\n",
      "  Downloading https://files.pythonhosted.org/packages/c9/33/6c611563412ffc409b2413ac50e3a063133ea235b86c137759774c77f3ad/azure_storage_file-1.4.0-py2.py3-none-any.whl\n",
      "Collecting azure-cosmosdb-table~=1.0 (from azure==4.0.0->-r requirements.txt (line 1))\n",
      "  Downloading https://files.pythonhosted.org/packages/55/81/f57fea1cdab4490bc185e48a4db2451795fde37eb8fed1808e7e8fd2c99e/azure_cosmosdb_table-1.0.5-py2.py3-none-any.whl (80kB)\n",
      "Collecting azure-storage-queue~=1.3 (from azure==4.0.0->-r requirements.txt (line 1))\n",
      "  Downloading https://files.pythonhosted.org/packages/72/94/4db044f1c155b40c5ebc037bfd9d1c24562845692c06798fbe869fe160e6/azure_storage_queue-1.4.0-py2.py3-none-any.whl\n",
      "Collecting azure-applicationinsights~=0.1.0 (from azure==4.0.0->-r requirements.txt (line 1))\n",
      "  Downloading https://files.pythonhosted.org/packages/3b/f7/3af9ce8a9a597998629436889cf5d69d1a0c96713e795fd372e4af785635/azure_applicationinsights-0.1.0-py2.py3-none-any.whl (104kB)\n",
      "Collecting azure-storage-blob~=1.3 (from azure==4.0.0->-r requirements.txt (line 1))\n",
      "  Downloading https://files.pythonhosted.org/packages/f7/b7/9b20c39bf411e896d110d01f2551e6e7b397fde6eb06b07293fe29705d13/azure_storage_blob-1.4.0-py2.py3-none-any.whl (75kB)\n",
      "Collecting azure-batch~=4.1 (from azure==4.0.0->-r requirements.txt (line 1))\n",
      "  Downloading https://files.pythonhosted.org/packages/b1/fa/1053b5dcd88e5de8e8cd70a4d7189ffad037542963ea86b518deb612c498/azure_batch-4.1.3-py2.py3-none-any.whl (314kB)\n",
      "Collecting azure-mgmt~=4.0 (from azure==4.0.0->-r requirements.txt (line 1))\n",
      "  Downloading https://files.pythonhosted.org/packages/19/8e/6fa401c437579127e726487582a9861fef09022c4ab50901bb499a8e4fc1/azure_mgmt-4.0.0-py2.py3-none-any.whl\n",
      "Collecting azure-datalake-store~=0.0.18 (from azure==4.0.0->-r requirements.txt (line 1))\n",
      "  Downloading https://files.pythonhosted.org/packages/7f/7d/aa6a696ec3e1b62ff5e0c7f22eddc10cfefc355460a91106e459ee23f777/azure_datalake_store-0.0.40-py2.py3-none-any.whl (51kB)\n",
      "Collecting azure-keyvault~=1.0 (from azure==4.0.0->-r requirements.txt (line 1))\n",
      "  Downloading https://files.pythonhosted.org/packages/80/37/e80f577570b32648c4b88c8c48a46501a4868ae4c8d905774fd02c2b01fc/azure_keyvault-1.1.0-py2.py3-none-any.whl (352kB)\n",
      "Collecting azure-servicefabric~=6.3.0.0 (from azure==4.0.0->-r requirements.txt (line 1))\n",
      "  Downloading https://files.pythonhosted.org/packages/2c/d9/3e33ad19eb57988dff3aac06bab241736f86dc692a38c5ff6bb6fb959243/azure_servicefabric-6.3.0.0-py2.py3-none-any.whl (1.1MB)\n",
      "Collecting azure-eventgrid~=1.1 (from azure==4.0.0->-r requirements.txt (line 1))\n",
      "  Downloading https://files.pythonhosted.org/packages/03/73/2880452058ce2ccaed5f358ad0c8c45e79cfd2725a8d5add17b12680aff5/azure_eventgrid-1.2.0-py2.py3-none-any.whl (84kB)\n",
      "Collecting azure-loganalytics~=0.1.0 (from azure==4.0.0->-r requirements.txt (line 1))\n",
      "  Downloading https://files.pythonhosted.org/packages/54/e2/1d30270441a50efce1d52eb426710fc98269eb8bdac44ee966bbd07846da/azure_loganalytics-0.1.0-py2.py3-none-any.whl\n",
      "Collecting azure-servicebus~=0.21.1 (from azure==4.0.0->-r requirements.txt (line 1))\n",
      "  Downloading https://files.pythonhosted.org/packages/b8/de/47c0df32b57512ac9640ba239c7eeca22cb908bd8b645235729ec4f37196/azure_servicebus-0.21.1-py2.py3-none-any.whl\n",
      "Collecting six (from torchvision==0.2.1->-r requirements.txt (line 3))\n",
      "  Downloading https://files.pythonhosted.org/packages/73/fb/00a976f728d0d1fecfe898238ce23f502a721c0ac0ecfedb80e0d88c64e9/six-1.12.0-py2.py3-none-any.whl\n",
      "Collecting numpy (from torchvision==0.2.1->-r requirements.txt (line 3))\n",
      "  Downloading https://files.pythonhosted.org/packages/7b/74/54c5f9bb9bd4dae27a61ec1b39076a39d359b3fb7ba15da79ef23858a9d8/numpy-1.16.0-cp36-cp36m-manylinux1_x86_64.whl (17.3MB)\n",
      "Collecting pillow>=4.1.1 (from torchvision==0.2.1->-r requirements.txt (line 3))\n",
      "  Downloading https://files.pythonhosted.org/packages/85/5e/e91792f198bbc5a0d7d3055ad552bc4062942d27eaf75c3e2783cf64eae5/Pillow-5.4.1-cp36-cp36m-manylinux1_x86_64.whl (2.0MB)\n",
      "Collecting azure-nspkg>=2.0.0 (from azure-graphrbac~=0.40.0->azure==4.0.0->-r requirements.txt (line 1))\n",
      "  Downloading https://files.pythonhosted.org/packages/c4/0c/c562be95a9a2ed52454f598571cf300b1114d0db2aa27f5b8ed3bb9cd0c0/azure_nspkg-3.0.2-py3-none-any.whl\n",
      "Collecting msrestazure<2.0.0,>=0.4.20 (from azure-graphrbac~=0.40.0->azure==4.0.0->-r requirements.txt (line 1))\n",
      "  Downloading https://files.pythonhosted.org/packages/46/ba/7870308e3d3b4b3956880eed2df20669a5690436793e6fc1442c8b73e01c/msrestazure-0.6.0-py2.py3-none-any.whl\n",
      "Collecting azure-common~=1.1 (from azure-graphrbac~=0.40.0->azure==4.0.0->-r requirements.txt (line 1))\n",
      "  Downloading https://files.pythonhosted.org/packages/a5/b2/12c7c906a560e1f0171664c28cadfd989ecf874562cc9c21beea851bf7d1/azure_common-1.1.17-py2.py3-none-any.whl\n",
      "Collecting requests (from azure-servicemanagement-legacy~=0.20.6->azure==4.0.0->-r requirements.txt (line 1))\n",
      "  Downloading https://files.pythonhosted.org/packages/7d/e3/20f3d364d6c8e5d2353c72a67778eb189176f08e873c9900e10c0287b84b/requests-2.21.0-py2.py3-none-any.whl (57kB)\n",
      "Collecting azure-storage-common~=1.4 (from azure-storage-file~=1.3->azure==4.0.0->-r requirements.txt (line 1))\n",
      "  Downloading https://files.pythonhosted.org/packages/73/84/025ac436a6a1d5516d1a67887d7122b3b2ea04ba6b2d2c46fe949accb62b/azure_storage_common-1.4.0-py2.py3-none-any.whl (46kB)\n"
     ]
    },
    {
     "name": "stdout",
     "output_type": "stream",
     "text": [
      "Collecting cryptography (from azure-cosmosdb-table~=1.0->azure==4.0.0->-r requirements.txt (line 1))\n",
      "  Downloading https://files.pythonhosted.org/packages/98/71/e632e222f34632e0527dd41799f7847305e701f38f512d81bdf96009bca4/cryptography-2.5-cp34-abi3-manylinux1_x86_64.whl (2.4MB)\n",
      "Collecting python-dateutil (from azure-cosmosdb-table~=1.0->azure==4.0.0->-r requirements.txt (line 1))\n",
      "  Downloading https://files.pythonhosted.org/packages/74/68/d87d9b36af36f44254a8d512cbfc48369103a3b9e474be9bdfe536abfc45/python_dateutil-2.7.5-py2.py3-none-any.whl (225kB)\n",
      "Collecting azure-cosmosdb-nspkg>=2.0.0 (from azure-cosmosdb-table~=1.0->azure==4.0.0->-r requirements.txt (line 1))\n",
      "  Downloading https://files.pythonhosted.org/packages/58/0d/1329b47e5386b0acf4e42ada2284851eff60ef3337a87e5b2dfedabbfcb1/azure_cosmosdb_nspkg-2.0.2-py2.py3-none-any.whl\n",
      "Collecting msrest<2.0.0,>=0.5.4 (from azure-applicationinsights~=0.1.0->azure==4.0.0->-r requirements.txt (line 1))\n",
      "  Downloading https://files.pythonhosted.org/packages/eb/96/1cf56e4cfd221b7f6eb6ab096dc23b0d21361393f0784276531e49b0b2a1/msrest-0.6.4-py2.py3-none-any.whl (81kB)\n",
      "Collecting azure-mgmt-rdbms~=1.2 (from azure-mgmt~=4.0->azure==4.0.0->-r requirements.txt (line 1))\n",
      "  Downloading https://files.pythonhosted.org/packages/0c/74/802ef2de77c77d40cdecd99ac041e42758941a237cbc70332e626ab90a15/azure_mgmt_rdbms-1.5.0-py2.py3-none-any.whl (249kB)\n",
      "Collecting azure-mgmt-loganalytics~=0.2.0 (from azure-mgmt~=4.0->azure==4.0.0->-r requirements.txt (line 1))\n",
      "  Downloading https://files.pythonhosted.org/packages/70/40/c9b77bf82916e963aa701fb396673f7ddc4cdab95524b6d2edf927b05630/azure_mgmt_loganalytics-0.2.0-py2.py3-none-any.whl (89kB)\n",
      "Collecting azure-mgmt-datalake-analytics~=0.6.0 (from azure-mgmt~=4.0->azure==4.0.0->-r requirements.txt (line 1))\n",
      "  Downloading https://files.pythonhosted.org/packages/73/e7/5d909ef5812fc31f2871f3510ef43af93157ba51be03b6f798afba7a29d8/azure_mgmt_datalake_analytics-0.6.0-py2.py3-none-any.whl (288kB)\n",
      "Collecting azure-mgmt-recoveryservicesbackup~=0.3.0 (from azure-mgmt~=4.0->azure==4.0.0->-r requirements.txt (line 1))\n",
      "  Downloading https://files.pythonhosted.org/packages/c5/af/13b10d76bc0ff9188c9e5cd9f2726a5745029b76125938491f9abac5399d/azure_mgmt_recoveryservicesbackup-0.3.0-py2.py3-none-any.whl (568kB)\n",
      "Collecting azure-mgmt-signalr~=0.1.0 (from azure-mgmt~=4.0->azure==4.0.0->-r requirements.txt (line 1))\n",
      "  Downloading https://files.pythonhosted.org/packages/10/32/379137548a4c6e4dfd15da6b1c476f2b1af52e8d7fe243fdac9ea2064427/azure_mgmt_signalr-0.1.1-py2.py3-none-any.whl (49kB)\n",
      "Collecting azure-mgmt-redis~=5.0 (from azure-mgmt~=4.0->azure==4.0.0->-r requirements.txt (line 1))\n",
      "  Downloading https://files.pythonhosted.org/packages/90/a7/42342a984b2916972c5c5e24df94e3cd5e4377a8dc465a83415706d9be6f/azure_mgmt_redis-5.0.0-py2.py3-none-any.whl (43kB)\n",
      "Collecting azure-mgmt-authorization~=0.50.0 (from azure-mgmt~=4.0->azure==4.0.0->-r requirements.txt (line 1))\n",
      "  Downloading https://files.pythonhosted.org/packages/6f/17/55b974603c16be89c7a7c16bac57b7bce48527bf1bebc3f116f7215176e6/azure_mgmt_authorization-0.50.0-py2.py3-none-any.whl (81kB)\n",
      "Collecting azure-mgmt-keyvault~=1.0 (from azure-mgmt~=4.0->azure==4.0.0->-r requirements.txt (line 1))\n",
      "  Downloading https://files.pythonhosted.org/packages/49/de/0d69aedae7c5f6428314640b65947203ab80409c12b5d4e66fb5b7a4182e/azure_mgmt_keyvault-1.1.0-py2.py3-none-any.whl (111kB)\n",
      "Collecting azure-mgmt-msi~=0.2.0 (from azure-mgmt~=4.0->azure==4.0.0->-r requirements.txt (line 1))\n",
      "  Downloading https://files.pythonhosted.org/packages/ae/95/b451721e38ca0feddce03ee3ce86158e208d0150253bd371207a8df4e9c5/azure_mgmt_msi-0.2.0-py2.py3-none-any.whl\n",
      "Collecting azure-mgmt-managementpartner~=0.1.0 (from azure-mgmt~=4.0->azure==4.0.0->-r requirements.txt (line 1))\n",
      "  Downloading https://files.pythonhosted.org/packages/98/4c/df713fcdc3710dca74b375c968b17b479c64ef19965e15b478def074a4ce/azure_mgmt_managementpartner-0.1.0-py2.py3-none-any.whl\n",
      "Collecting azure-mgmt-dns~=2.0 (from azure-mgmt~=4.0->azure==4.0.0->-r requirements.txt (line 1))\n",
      "  Downloading https://files.pythonhosted.org/packages/c7/d7/0f986a64b06db93cf29b76f9a188f5778eb959624a00ed6aedc335ee58d2/azure_mgmt_dns-2.1.0-py2.py3-none-any.whl (134kB)\n",
      "Collecting azure-mgmt-billing~=0.2.0 (from azure-mgmt~=4.0->azure==4.0.0->-r requirements.txt (line 1))\n",
      "  Downloading https://files.pythonhosted.org/packages/0f/24/5106287ea0f6562d965afb055e3c6c0da058f7844a70464e67bab56c6c4b/azure_mgmt_billing-0.2.0-py2.py3-none-any.whl\n",
      "Collecting azure-mgmt-resource~=2.0 (from azure-mgmt~=4.0->azure==4.0.0->-r requirements.txt (line 1))\n",
      "  Downloading https://files.pythonhosted.org/packages/2b/2e/e79a278bedfc21308ab0c632759cfda5d7ff02d62260bcc4632449937dcf/azure_mgmt_resource-2.1.0-py2.py3-none-any.whl (757kB)\n",
      "Collecting azure-mgmt-advisor~=1.0 (from azure-mgmt~=4.0->azure==4.0.0->-r requirements.txt (line 1))\n",
      "  Downloading https://files.pythonhosted.org/packages/cb/f3/a86ba3e0784d12c8fe5cbf1f24e1b9255575a2f0892e08c46cddd0795dfd/azure_mgmt_advisor-1.0.1-py2.py3-none-any.whl\n",
      "Collecting azure-mgmt-servicebus~=0.5.1 (from azure-mgmt~=4.0->azure==4.0.0->-r requirements.txt (line 1))\n",
      "  Downloading https://files.pythonhosted.org/packages/28/ad/9e90f8bab40a9682410e57ed08a799be113c5e470bec247b099038c6389e/azure_mgmt_servicebus-0.5.3-py2.py3-none-any.whl (112kB)\n",
      "Collecting azure-mgmt-managementgroups~=0.1.0 (from azure-mgmt~=4.0->azure==4.0.0->-r requirements.txt (line 1))\n",
      "  Downloading https://files.pythonhosted.org/packages/f2/50/591adac2a6cd8d77cccd38bdf5d177ad6a2e95b9217daa9a60b5d86de5cd/azure_mgmt_managementgroups-0.1.0-py2.py3-none-any.whl (59kB)\n",
      "Collecting azure-mgmt-storage~=2.0 (from azure-mgmt~=4.0->azure==4.0.0->-r requirements.txt (line 1))\n",
      "  Downloading https://files.pythonhosted.org/packages/67/5b/15e6a8109af53e4c2228142ea816532036700757d035fc1b9cd0f6a63b02/azure_mgmt_storage-2.0.0-py2.py3-none-any.whl (558kB)\n",
      "Collecting azure-mgmt-policyinsights~=0.1.0 (from azure-mgmt~=4.0->azure==4.0.0->-r requirements.txt (line 1))\n",
      "  Downloading https://files.pythonhosted.org/packages/19/84/7021951ae69572a19af0ff9cca1d2abf3542d35af38796656ded1be08358/azure_mgmt_policyinsights-0.1.0-py2.py3-none-any.whl (44kB)\n",
      "Collecting azure-mgmt-containerservice~=4.2 (from azure-mgmt~=4.0->azure==4.0.0->-r requirements.txt (line 1))\n",
      "  Downloading https://files.pythonhosted.org/packages/5b/2f/0eba2dbd5d3f66c076a66b0020ccfe9c7e78534ac132afaa104c138680c1/azure_mgmt_containerservice-4.4.0-py2.py3-none-any.whl (206kB)\n",
      "Collecting azure-mgmt-devtestlabs~=2.2 (from azure-mgmt~=4.0->azure==4.0.0->-r requirements.txt (line 1))\n",
      "  Downloading https://files.pythonhosted.org/packages/2f/93/a64abaede2fc6a52476af8ceab9cedb368c49e948d9385cbe7cd4ce5ffff/azure_mgmt_devtestlabs-2.2.0-py2.py3-none-any.whl (194kB)\n",
      "Collecting azure-mgmt-network~=2.0 (from azure-mgmt~=4.0->azure==4.0.0->-r requirements.txt (line 1))\n",
      "  Downloading https://files.pythonhosted.org/packages/66/4f/435d28af3efd642cb850ccbb968682aacfb32039f4aa877b8063d2236cae/azure_mgmt_network-2.5.1-py2.py3-none-any.whl (9.6MB)\n",
      "Collecting azure-mgmt-cognitiveservices~=3.0 (from azure-mgmt~=4.0->azure==4.0.0->-r requirements.txt (line 1))\n",
      "  Downloading https://files.pythonhosted.org/packages/8d/c8/222ea2f533c6b8f8656f3091101b4c3aa32c162d2a609d07d1ae00172515/azure_mgmt_cognitiveservices-3.0.0-py2.py3-none-any.whl (58kB)\n",
      "Collecting azure-mgmt-containerinstance~=1.0 (from azure-mgmt~=4.0->azure==4.0.0->-r requirements.txt (line 1))\n",
      "  Downloading https://files.pythonhosted.org/packages/77/50/f7f419e0ac788d41d080d5f25daf988b993063aab3bfd90def54e93e72d7/azure_mgmt_containerinstance-1.4.0-py2.py3-none-any.whl (87kB)\n",
      "Collecting azure-mgmt-sql~=0.9.1 (from azure-mgmt~=4.0->azure==4.0.0->-r requirements.txt (line 1))\n",
      "  Downloading https://files.pythonhosted.org/packages/c5/bb/219c76af961e9e6d1f5055d70c3cc06889b91375727a04367149c3aad640/azure_mgmt_sql-0.9.1-py2.py3-none-any.whl (485kB)\n",
      "Collecting azure-mgmt-iothub~=0.5.0 (from azure-mgmt~=4.0->azure==4.0.0->-r requirements.txt (line 1))\n",
      "  Downloading https://files.pythonhosted.org/packages/19/d6/b422df467b3d7f4e2975b590fbf6e12aaae0a497c7d080b4955a6a6d794a/azure_mgmt_iothub-0.5.0-py2.py3-none-any.whl (102kB)\n"
     ]
    },
    {
     "name": "stdout",
     "output_type": "stream",
     "text": [
      "Collecting azure-mgmt-subscription~=0.2.0 (from azure-mgmt~=4.0->azure==4.0.0->-r requirements.txt (line 1))\n",
      "  Downloading https://files.pythonhosted.org/packages/27/72/f63f72d9c27659f96aae287f7ba67c9ba2877213c2c10d8b797e0dee5059/azure_mgmt_subscription-0.2.0-py2.py3-none-any.whl (40kB)\n",
      "Collecting azure-mgmt-powerbiembedded~=2.0 (from azure-mgmt~=4.0->azure==4.0.0->-r requirements.txt (line 1))\n",
      "  Downloading https://files.pythonhosted.org/packages/64/2b/5a69d118626a83055ce577fb6ba35c114e72f0273d0c4d943b909ee8d51e/azure_mgmt_powerbiembedded-2.0.0-py2.py3-none-any.whl\n",
      "Collecting azure-mgmt-consumption~=2.0 (from azure-mgmt~=4.0->azure==4.0.0->-r requirements.txt (line 1))\n",
      "  Downloading https://files.pythonhosted.org/packages/11/f4/2db9557494dfb17ff3edeae5726981143a7baace17df3712b189e343bd8c/azure_mgmt_consumption-2.0.0-py2.py3-none-any.whl (46kB)\n",
      "Collecting azure-mgmt-machinelearningcompute~=0.4.1 (from azure-mgmt~=4.0->azure==4.0.0->-r requirements.txt (line 1))\n",
      "  Downloading https://files.pythonhosted.org/packages/b4/9c/f8eb81b307df4465809b182f2fe44c288eeb41c0ab54f91b61ac554998a9/azure_mgmt_machinelearningcompute-0.4.1-py2.py3-none-any.whl\n",
      "Collecting azure-mgmt-commerce~=1.0 (from azure-mgmt~=4.0->azure==4.0.0->-r requirements.txt (line 1))\n",
      "  Downloading https://files.pythonhosted.org/packages/7e/13/f421e77dd1fe3c9657a890f9c085f433fe422f54003ee03e631a8be5c4e7/azure_mgmt_commerce-1.0.1-py2.py3-none-any.whl\n",
      "Collecting azure-mgmt-cosmosdb~=0.4.1 (from azure-mgmt~=4.0->azure==4.0.0->-r requirements.txt (line 1))\n",
      "  Downloading https://files.pythonhosted.org/packages/17/ed/d97a04c8c26e2432f2cf000b711daeb053e1cfbdb046bd5d070c941b4fcb/azure_mgmt_cosmosdb-0.4.1-py2.py3-none-any.whl (100kB)\n",
      "Collecting azure-mgmt-scheduler~=2.0 (from azure-mgmt~=4.0->azure==4.0.0->-r requirements.txt (line 1))\n",
      "  Downloading https://files.pythonhosted.org/packages/e8/55/f3490698ff622244438e667e0321808e84389e69c5fb77a1d6db869d9bb7/azure_mgmt_scheduler-2.0.0-py2.py3-none-any.whl (67kB)\n",
      "Collecting azure-mgmt-iothubprovisioningservices~=0.2.0 (from azure-mgmt~=4.0->azure==4.0.0->-r requirements.txt (line 1))\n",
      "  Downloading https://files.pythonhosted.org/packages/84/ce/3500c731a5c5b31028e662aa41bc45f75301834a0c03adeacfe7ef7bd86e/azure_mgmt_iothubprovisioningservices-0.2.0-py2.py3-none-any.whl (60kB)\n",
      "Collecting azure-mgmt-eventgrid~=1.0 (from azure-mgmt~=4.0->azure==4.0.0->-r requirements.txt (line 1))\n",
      "  Downloading https://files.pythonhosted.org/packages/54/5b/e91e616021ae9be0019c9c19cffb92b97d787246ca51cfcc0b0a0c6da77a/azure_mgmt_eventgrid-1.0.0-py2.py3-none-any.whl (51kB)\n",
      "Collecting azure-mgmt-trafficmanager~=0.50.0 (from azure-mgmt~=4.0->azure==4.0.0->-r requirements.txt (line 1))\n",
      "  Downloading https://files.pythonhosted.org/packages/ed/4f/c322d72dc92dde543471bc23f9ac0eb6b9d0dc2441bb5ce938250040e307/azure_mgmt_trafficmanager-0.50.0-py2.py3-none-any.whl (52kB)\n",
      "Collecting azure-mgmt-compute~=4.0 (from azure-mgmt~=4.0->azure==4.0.0->-r requirements.txt (line 1))\n",
      "  Downloading https://files.pythonhosted.org/packages/b7/c4/2ba0af13ecfcd8a3dc2a43cb7306d8b1fe6881b93028afb3820458a1a3e2/azure_mgmt_compute-4.4.0-py2.py3-none-any.whl (2.5MB)\n",
      "Collecting azure-mgmt-relay~=0.1.0 (from azure-mgmt~=4.0->azure==4.0.0->-r requirements.txt (line 1))\n",
      "  Downloading https://files.pythonhosted.org/packages/00/f7/f5c72bd19829cfaf9f070ec294c901ad7f98835ba9560fdad652afb1071f/azure_mgmt_relay-0.1.0-py2.py3-none-any.whl\n",
      "Collecting azure-mgmt-search~=2.0 (from azure-mgmt~=4.0->azure==4.0.0->-r requirements.txt (line 1))\n",
      "  Downloading https://files.pythonhosted.org/packages/e2/52/46a5984eca50393057d4e760b9ef4adc5d6b8738f333427632991c6f3739/azure_mgmt_search-2.0.0-py2.py3-none-any.whl\n",
      "Collecting azure-mgmt-recoveryservices~=0.3.0 (from azure-mgmt~=4.0->azure==4.0.0->-r requirements.txt (line 1))\n",
      "  Downloading https://files.pythonhosted.org/packages/fd/7f/80327a27e03473101afb136e872279ad1386adf1bac14a58a9f839cd8352/azure_mgmt_recoveryservices-0.3.0-py2.py3-none-any.whl (70kB)\n",
      "Collecting azure-mgmt-web~=0.35.0 (from azure-mgmt~=4.0->azure==4.0.0->-r requirements.txt (line 1))\n",
      "  Downloading https://files.pythonhosted.org/packages/21/04/3f2622720664c972d927fd9e58c0066e998739b7891649207765be674126/azure_mgmt_web-0.35.0-py2.py3-none-any.whl (358kB)\n",
      "Collecting azure-mgmt-datalake-store~=0.5.0 (from azure-mgmt~=4.0->azure==4.0.0->-r requirements.txt (line 1))\n",
      "  Downloading https://files.pythonhosted.org/packages/ff/ac/5685cd06dc8b245bb6b894815764a14bd62245ba4579b45148682f510fdd/azure_mgmt_datalake_store-0.5.0-py2.py3-none-any.whl (88kB)\n",
      "Collecting azure-mgmt-cdn~=3.0 (from azure-mgmt~=4.0->azure==4.0.0->-r requirements.txt (line 1))\n",
      "  Downloading https://files.pythonhosted.org/packages/ab/17/1684f274bd57ff81b0ac9000030d5796bf88c9735a093ba8b693c39ca6fd/azure_mgmt_cdn-3.0.0-py2.py3-none-any.whl (108kB)\n",
      "Collecting azure-mgmt-batch~=5.0 (from azure-mgmt~=4.0->azure==4.0.0->-r requirements.txt (line 1))\n",
      "  Downloading https://files.pythonhosted.org/packages/97/81/a9eb3fd2ab070159105b4cfe9640c24410ac8195286729d62bfdf871de94/azure_mgmt_batch-5.0.1-py2.py3-none-any.whl (87kB)\n",
      "Collecting azure-mgmt-eventhub~=2.1 (from azure-mgmt~=4.0->azure==4.0.0->-r requirements.txt (line 1))\n",
      "  Downloading https://files.pythonhosted.org/packages/ad/bf/2f455fc65898b99f9a504de508f81cbf73d0797b3233a15bf7a1d2ff6606/azure_mgmt_eventhub-2.2.0-py2.py3-none-any.whl (67kB)\n",
      "Collecting azure-mgmt-media~=1.0.0rc2 (from azure-mgmt~=4.0->azure==4.0.0->-r requirements.txt (line 1))\n",
      "  Downloading https://files.pythonhosted.org/packages/65/2e/6d9649bd5645ac32a179adfea5707f640fc51a57e493c27f0ab575789e85/azure_mgmt_media-1.0.0-py2.py3-none-any.whl (335kB)\n",
      "Collecting azure-mgmt-applicationinsights~=0.1.1 (from azure-mgmt~=4.0->azure==4.0.0->-r requirements.txt (line 1))\n",
      "  Downloading https://files.pythonhosted.org/packages/30/61/1d95a5ef3a9119a0d375d8670129375515de20e20409612e9671c99bd19f/azure_mgmt_applicationinsights-0.1.1-py2.py3-none-any.whl (42kB)\n",
      "Collecting azure-mgmt-datamigration~=1.0 (from azure-mgmt~=4.0->azure==4.0.0->-r requirements.txt (line 1))\n",
      "  Downloading https://files.pythonhosted.org/packages/8b/4f/7b149487e77d94e701288e1d0b066a7d522bdfe8595e992b5d39dfb00f80/azure_mgmt_datamigration-1.0.0-py2.py3-none-any.whl (185kB)\n",
      "Collecting azure-mgmt-servicefabric~=0.2.0 (from azure-mgmt~=4.0->azure==4.0.0->-r requirements.txt (line 1))\n",
      "  Downloading https://files.pythonhosted.org/packages/6e/06/fafe8b5d881cfa68927e61557c8419dcfacb93e07f4ab17cc60959707a53/azure_mgmt_servicefabric-0.2.0-py2.py3-none-any.whl (142kB)\n",
      "Collecting azure-mgmt-logic~=3.0 (from azure-mgmt~=4.0->azure==4.0.0->-r requirements.txt (line 1))\n",
      "  Downloading https://files.pythonhosted.org/packages/88/98/693c515e97043520f5cebf1ecae7bf198df100f5f9870b53d4be3bcaa5ce/azure_mgmt_logic-3.0.0-py2.py3-none-any.whl (303kB)\n",
      "Collecting azure-mgmt-iotcentral~=0.1.0 (from azure-mgmt~=4.0->azure==4.0.0->-r requirements.txt (line 1))\n",
      "  Downloading https://files.pythonhosted.org/packages/58/4e/e2e5f2d545a46ada3705c85c45c12882a443d40f60e1a908c78058e15cf2/azure_mgmt_iotcentral-0.1.0-py2.py3-none-any.whl\n",
      "Collecting azure-mgmt-monitor~=0.5.2 (from azure-mgmt~=4.0->azure==4.0.0->-r requirements.txt (line 1))\n",
      "  Downloading https://files.pythonhosted.org/packages/6a/3b/a8b95ee25f1c209ad82ad06de39f4efbfb9dc8a8dc5da5a7a48d7897bf3e/azure_mgmt_monitor-0.5.2-py2.py3-none-any.whl (247kB)\n",
      "Collecting azure-mgmt-hanaonazure~=0.1.1 (from azure-mgmt~=4.0->azure==4.0.0->-r requirements.txt (line 1))\n",
      "  Downloading https://files.pythonhosted.org/packages/f3/1b/50d300ae02158ab092f923132050b56c148f1b784c7b594d3275d4449769/azure_mgmt_hanaonazure-0.1.1-py2.py3-none-any.whl\n",
      "Collecting azure-mgmt-maps~=0.1.0 (from azure-mgmt~=4.0->azure==4.0.0->-r requirements.txt (line 1))\n",
      "  Downloading https://files.pythonhosted.org/packages/e4/04/c64326729e842f3eab1fd527f7582e269e4b0e5b9324a4562edaf0371953/azure_mgmt_maps-0.1.0-py2.py3-none-any.whl\n",
      "Collecting azure-mgmt-marketplaceordering~=0.1.0 (from azure-mgmt~=4.0->azure==4.0.0->-r requirements.txt (line 1))\n",
      "  Downloading https://files.pythonhosted.org/packages/a8/cb/13502fdbaf520d08fb280eb31ecfe5d926b9cf92259c22280bbde96b307d/azure_mgmt_marketplaceordering-0.1.0-py2.py3-none-any.whl\n",
      "Collecting azure-mgmt-devspaces~=0.1.0 (from azure-mgmt~=4.0->azure==4.0.0->-r requirements.txt (line 1))\n",
      "  Downloading https://files.pythonhosted.org/packages/f4/d3/ff9c39578f24fb4bd158a882788c7795b177cf3f23ce7cf1d8b52066a64e/azure_mgmt_devspaces-0.1.0-py2.py3-none-any.whl\n"
     ]
    },
    {
     "name": "stdout",
     "output_type": "stream",
     "text": [
      "Collecting azure-mgmt-reservations~=0.2.1 (from azure-mgmt~=4.0->azure==4.0.0->-r requirements.txt (line 1))\n",
      "  Downloading https://files.pythonhosted.org/packages/a9/2b/e0edb8dbe85e447005cde508b869e564f58270f631219f036d8ab71184f9/azure_mgmt_reservations-0.2.1-py2.py3-none-any.whl (50kB)\n",
      "Collecting azure-mgmt-containerregistry~=2.1 (from azure-mgmt~=4.0->azure==4.0.0->-r requirements.txt (line 1))\n",
      "  Downloading https://files.pythonhosted.org/packages/4e/93/982bdd8f38379405beab963ee2abf1ab42a826a57cc2157228216cfc62e4/azure_mgmt_containerregistry-2.6.0-py2.py3-none-any.whl (501kB)\n",
      "Collecting azure-mgmt-notificationhubs~=2.0 (from azure-mgmt~=4.0->azure==4.0.0->-r requirements.txt (line 1))\n",
      "  Downloading https://files.pythonhosted.org/packages/b1/7f/283067cf30dd72707bbdfa608838509663328e533d7e362f7630c785679c/azure_mgmt_notificationhubs-2.0.0-py2.py3-none-any.whl (71kB)\n",
      "Collecting azure-mgmt-datafactory~=0.6.0 (from azure-mgmt~=4.0->azure==4.0.0->-r requirements.txt (line 1))\n",
      "  Downloading https://files.pythonhosted.org/packages/cf/01/32a6ad5ad348d965f7c106d819a1f6dc613f6aa98a720ffc529ef468016b/azure_mgmt_datafactory-0.6.0-py2.py3-none-any.whl (418kB)\n",
      "Collecting azure-mgmt-batchai~=2.0 (from azure-mgmt~=4.0->azure==4.0.0->-r requirements.txt (line 1))\n",
      "  Downloading https://files.pythonhosted.org/packages/d9/a5/ab796c2a490155c14f9ac4240724ca5c56723315d4dc753030712e6f2e80/azure_mgmt_batchai-2.0.0-py2.py3-none-any.whl (174kB)\n",
      "Collecting cffi (from azure-datalake-store~=0.0.18->azure==4.0.0->-r requirements.txt (line 1))\n",
      "  Downloading https://files.pythonhosted.org/packages/6d/c0/47db8f624f3e4e2f3f27be03a93379d1ba16a1450a7b1aacfa0366e2c0dd/cffi-1.11.5-cp36-cp36m-manylinux1_x86_64.whl (421kB)\n",
      "Collecting adal>=0.4.2 (from azure-datalake-store~=0.0.18->azure==4.0.0->-r requirements.txt (line 1))\n",
      "  Downloading https://files.pythonhosted.org/packages/2d/2f/14882b8dae0977e85577abde3065c141fb94dbb242adfb80e21797e4f7c9/adal-1.2.0-py2.py3-none-any.whl (52kB)\n",
      "Collecting urllib3<1.25,>=1.21.1 (from requests->azure-servicemanagement-legacy~=0.20.6->azure==4.0.0->-r requirements.txt (line 1))\n",
      "  Downloading https://files.pythonhosted.org/packages/62/00/ee1d7de624db8ba7090d1226aebefab96a2c71cd5cfa7629d6ad3f61b79e/urllib3-1.24.1-py2.py3-none-any.whl (118kB)\n",
      "Collecting chardet<3.1.0,>=3.0.2 (from requests->azure-servicemanagement-legacy~=0.20.6->azure==4.0.0->-r requirements.txt (line 1))\n",
      "  Downloading https://files.pythonhosted.org/packages/bc/a9/01ffebfb562e4274b6487b4bb1ddec7ca55ec7510b22e4c51f14098443b8/chardet-3.0.4-py2.py3-none-any.whl (133kB)\n",
      "Requirement already satisfied: certifi>=2017.4.17 in /opt/conda/envs/py3.6/lib/python3.6/site-packages (from requests->azure-servicemanagement-legacy~=0.20.6->azure==4.0.0->-r requirements.txt (line 1)) (2018.10.15)\n",
      "Collecting idna<2.9,>=2.5 (from requests->azure-servicemanagement-legacy~=0.20.6->azure==4.0.0->-r requirements.txt (line 1))\n",
      "  Downloading https://files.pythonhosted.org/packages/14/2c/cd551d81dbe15200be1cf41cd03869a46fe7226e7450af7a6545bfc474c9/idna-2.8-py2.py3-none-any.whl (58kB)\n",
      "Collecting asn1crypto>=0.21.0 (from cryptography->azure-cosmosdb-table~=1.0->azure==4.0.0->-r requirements.txt (line 1))\n",
      "  Downloading https://files.pythonhosted.org/packages/ea/cd/35485615f45f30a510576f1a56d1e0a7ad7bd8ab5ed7cdc600ef7cd06222/asn1crypto-0.24.0-py2.py3-none-any.whl (101kB)\n",
      "Collecting isodate>=0.6.0 (from msrest<2.0.0,>=0.5.4->azure-applicationinsights~=0.1.0->azure==4.0.0->-r requirements.txt (line 1))\n",
      "  Downloading https://files.pythonhosted.org/packages/9b/9f/b36f7774ff5ea8e428fdcfc4bb332c39ee5b9362ddd3d40d9516a55221b2/isodate-0.6.0-py2.py3-none-any.whl (45kB)\n",
      "Collecting requests-oauthlib>=0.5.0 (from msrest<2.0.0,>=0.5.4->azure-applicationinsights~=0.1.0->azure==4.0.0->-r requirements.txt (line 1))\n",
      "  Downloading https://files.pythonhosted.org/packages/c2/e2/9fd03d55ffb70fe51f587f20bcf407a6927eb121de86928b34d162f0b1ac/requests_oauthlib-1.2.0-py2.py3-none-any.whl\n",
      "Collecting azure-mgmt-nspkg>=2.0.0 (from azure-mgmt-loganalytics~=0.2.0->azure-mgmt~=4.0->azure==4.0.0->-r requirements.txt (line 1))\n",
      "  Downloading https://files.pythonhosted.org/packages/b3/c2/af4b47845f27dc7d206ed4908b9e580f8bc94a4b2f3956a0d87c40719d90/azure_mgmt_nspkg-3.0.2-py3-none-any.whl\n",
      "Collecting azure-mgmt-datalake-nspkg>=2.0.0 (from azure-mgmt-datalake-analytics~=0.6.0->azure-mgmt~=4.0->azure==4.0.0->-r requirements.txt (line 1))\n",
      "  Downloading https://files.pythonhosted.org/packages/48/3d/c65a520d93448923a96784582a0deafaae096cb37b444ae5d63b57f0562d/azure_mgmt_datalake_nspkg-3.0.1-py3-none-any.whl\n",
      "Collecting pycparser (from cffi->azure-datalake-store~=0.0.18->azure==4.0.0->-r requirements.txt (line 1))\n",
      "  Downloading https://files.pythonhosted.org/packages/68/9e/49196946aee219aead1290e00d1e7fdeab8567783e83e1b9ab5585e6206a/pycparser-2.19.tar.gz (158kB)\n",
      "Collecting PyJWT>=1.0.0 (from adal>=0.4.2->azure-datalake-store~=0.0.18->azure==4.0.0->-r requirements.txt (line 1))\n",
      "  Downloading https://files.pythonhosted.org/packages/87/8b/6a9f14b5f781697e51259d81657e6048fd31a113229cf346880bb7545565/PyJWT-1.7.1-py2.py3-none-any.whl\n",
      "Collecting oauthlib>=3.0.0 (from requests-oauthlib>=0.5.0->msrest<2.0.0,>=0.5.4->azure-applicationinsights~=0.1.0->azure==4.0.0->-r requirements.txt (line 1))\n",
      "  Downloading https://files.pythonhosted.org/packages/b8/03/ec2be6c125f330361afe33bff48ef7549c47da8fefc658a2df2242175b4b/oauthlib-3.0.0-py2.py3-none-any.whl (142kB)\n",
      "Installing collected packages: azure-nspkg, urllib3, chardet, idna, requests, six, isodate, oauthlib, requests-oauthlib, msrest, PyJWT, python-dateutil, pycparser, cffi, asn1crypto, cryptography, adal, msrestazure, azure-common, azure-graphrbac, azure-servicemanagement-legacy, azure-storage-common, azure-storage-file, azure-cosmosdb-nspkg, azure-cosmosdb-table, azure-storage-queue, azure-applicationinsights, azure-storage-blob, azure-batch, azure-mgmt-rdbms, azure-mgmt-nspkg, azure-mgmt-loganalytics, azure-mgmt-datalake-nspkg, azure-mgmt-datalake-analytics, azure-mgmt-recoveryservicesbackup, azure-mgmt-signalr, azure-mgmt-redis, azure-mgmt-authorization, azure-mgmt-keyvault, azure-mgmt-msi, azure-mgmt-managementpartner, azure-mgmt-dns, azure-mgmt-billing, azure-mgmt-resource, azure-mgmt-advisor, azure-mgmt-servicebus, azure-mgmt-managementgroups, azure-mgmt-storage, azure-mgmt-policyinsights, azure-mgmt-containerservice, azure-mgmt-devtestlabs, azure-mgmt-network, azure-mgmt-cognitiveservices, azure-mgmt-containerinstance, azure-mgmt-sql, azure-mgmt-iothub, azure-mgmt-subscription, azure-mgmt-powerbiembedded, azure-mgmt-consumption, azure-mgmt-machinelearningcompute, azure-mgmt-commerce, azure-mgmt-cosmosdb, azure-mgmt-scheduler, azure-mgmt-iothubprovisioningservices, azure-mgmt-eventgrid, azure-mgmt-trafficmanager, azure-mgmt-compute, azure-mgmt-relay, azure-mgmt-search, azure-mgmt-recoveryservices, azure-mgmt-web, azure-mgmt-datalake-store, azure-mgmt-cdn, azure-mgmt-batch, azure-mgmt-eventhub, azure-mgmt-media, azure-mgmt-applicationinsights, azure-mgmt-datamigration, azure-mgmt-servicefabric, azure-mgmt-logic, azure-mgmt-iotcentral, azure-mgmt-monitor, azure-mgmt-hanaonazure, azure-mgmt-maps, azure-mgmt-marketplaceordering, azure-mgmt-devspaces, azure-mgmt-reservations, azure-mgmt-containerregistry, azure-mgmt-notificationhubs, azure-mgmt-datafactory, azure-mgmt-batchai, azure-mgmt, azure-datalake-store, azure-keyvault, azure-servicefabric, azure-eventgrid, azure-loganalytics, azure-servicebus, azure, torch, numpy, pillow, torchvision\n",
      "  Running setup.py install for pycparser: started\n",
      "    Running setup.py install for pycparser: finished with status 'done'\n",
      "Successfully installed PyJWT-1.7.1 adal-1.2.0 asn1crypto-0.24.0 azure-4.0.0 azure-applicationinsights-0.1.0 azure-batch-4.1.3 azure-common-1.1.17 azure-cosmosdb-nspkg-2.0.2 azure-cosmosdb-table-1.0.5 azure-datalake-store-0.0.40 azure-eventgrid-1.2.0 azure-graphrbac-0.40.0 azure-keyvault-1.1.0 azure-loganalytics-0.1.0 azure-mgmt-4.0.0 azure-mgmt-advisor-1.0.1 azure-mgmt-applicationinsights-0.1.1 azure-mgmt-authorization-0.50.0 azure-mgmt-batch-5.0.1 azure-mgmt-batchai-2.0.0 azure-mgmt-billing-0.2.0 azure-mgmt-cdn-3.0.0 azure-mgmt-cognitiveservices-3.0.0 azure-mgmt-commerce-1.0.1 azure-mgmt-compute-4.4.0 azure-mgmt-consumption-2.0.0 azure-mgmt-containerinstance-1.4.0 azure-mgmt-containerregistry-2.6.0 azure-mgmt-containerservice-4.4.0 azure-mgmt-cosmosdb-0.4.1 azure-mgmt-datafactory-0.6.0 azure-mgmt-datalake-analytics-0.6.0 azure-mgmt-datalake-nspkg-3.0.1 azure-mgmt-datalake-store-0.5.0 azure-mgmt-datamigration-1.0.0 azure-mgmt-devspaces-0.1.0 azure-mgmt-devtestlabs-2.2.0 azure-mgmt-dns-2.1.0 azure-mgmt-eventgrid-1.0.0 azure-mgmt-eventhub-2.2.0 azure-mgmt-hanaonazure-0.1.1 azure-mgmt-iotcentral-0.1.0 azure-mgmt-iothub-0.5.0 azure-mgmt-iothubprovisioningservices-0.2.0 azure-mgmt-keyvault-1.1.0 azure-mgmt-loganalytics-0.2.0 azure-mgmt-logic-3.0.0 azure-mgmt-machinelearningcompute-0.4.1 azure-mgmt-managementgroups-0.1.0 azure-mgmt-managementpartner-0.1.0 azure-mgmt-maps-0.1.0 azure-mgmt-marketplaceordering-0.1.0 azure-mgmt-media-1.0.0 azure-mgmt-monitor-0.5.2 azure-mgmt-msi-0.2.0 azure-mgmt-network-2.5.1 azure-mgmt-notificationhubs-2.0.0 azure-mgmt-nspkg-3.0.2 azure-mgmt-policyinsights-0.1.0 azure-mgmt-powerbiembedded-2.0.0 azure-mgmt-rdbms-1.5.0 azure-mgmt-recoveryservices-0.3.0 azure-mgmt-recoveryservicesbackup-0.3.0 azure-mgmt-redis-5.0.0 azure-mgmt-relay-0.1.0 azure-mgmt-reservations-0.2.1 azure-mgmt-resource-2.1.0 azure-mgmt-scheduler-2.0.0 azure-mgmt-search-2.0.0 azure-mgmt-servicebus-0.5.3 azure-mgmt-servicefabric-0.2.0 azure-mgmt-signalr-0.1.1 azure-mgmt-sql-0.9.1 azure-mgmt-storage-2.0.0 azure-mgmt-subscription-0.2.0 azure-mgmt-trafficmanager-0.50.0 azure-mgmt-web-0.35.0 azure-nspkg-3.0.2 azure-servicebus-0.21.1 azure-servicefabric-6.3.0.0 azure-servicemanagement-legacy-0.20.6 azure-storage-blob-1.4.0 azure-storage-common-1.4.0 azure-storage-file-1.4.0 azure-storage-queue-1.4.0 cffi-1.11.5 chardet-3.0.4 cryptography-2.5 idna-2.8 isodate-0.6.0 msrest-0.6.4 msrestazure-0.6.0 numpy-1.16.0 oauthlib-3.0.0 pillow-5.4.1 pycparser-2.19 python-dateutil-2.7.5 requests-2.21.0 requests-oauthlib-1.2.0 six-1.12.0 torch-0.4.1 torchvision-0.2.1 urllib3-1.24.1\n"
     ]
    },
    {
     "name": "stdout",
     "output_type": "stream",
     "text": [
      "Removing intermediate container 31676e0db18a\n",
      " ---> eb2150d4a8d1\n",
      "Step 17/17 : CMD [\"python\", \"main.py\"]\n",
      " ---> Running in 6b34aec254e0\n",
      "Removing intermediate container 6b34aec254e0\n",
      " ---> 044133dd4a7b\n",
      "Successfully built 044133dd4a7b\n",
      "Successfully tagged batchscoringdl_scoring_app:latest\n"
     ]
    }
   ],
   "source": [
    "!sudo docker build -t {get_key(env_path, \"SCORING_IMAGE\")} scoring_app"
   ]
  },
  {
   "cell_type": "markdown",
   "metadata": {},
   "source": [
    "Tag and push docker image"
   ]
  },
  {
   "cell_type": "code",
   "execution_count": 6,
   "metadata": {},
   "outputs": [],
   "source": [
    "repo = \"{}/{}\".format(get_key(env_path, \"DOCKER_LOGIN\"), get_key(env_path, \"SCORING_IMAGE\"))"
   ]
  },
  {
   "cell_type": "code",
   "execution_count": 7,
   "metadata": {},
   "outputs": [],
   "source": [
    "!sudo docker tag {get_key(env_path, \"SCORING_IMAGE\")} {repo}"
   ]
  },
  {
   "cell_type": "code",
   "execution_count": 8,
   "metadata": {},
   "outputs": [
    {
     "name": "stdout",
     "output_type": "stream",
     "text": [
      "The push refers to repository [docker.io/jiata/batchscoringdl_scoring_app]\n",
      "\n",
      "\u001b[1Bd55a0991: Preparing \n",
      "\u001b[1B3a48a106: Preparing \n",
      "\u001b[1B27fe773a: Preparing \n",
      "\u001b[1B9cf2b9f2: Preparing \n",
      "\u001b[1B6063fec7: Preparing \n",
      "\u001b[1B2632d196: Preparing \n",
      "\u001b[1B8452f77e: Preparing \n",
      "\u001b[1Baad0d176: Preparing \n",
      "\u001b[1Bff05626e: Preparing \n",
      "\u001b[1B9048222b: Preparing \n",
      "\u001b[1Bf7dc85a1: Preparing \n",
      "\u001b[1B2df89268: Preparing \n",
      "\u001b[1Bd8f0884d: Preparing \n",
      "\u001b[1B87fdb58c: Preparing \n",
      "\u001b[1B8fb03d12: Preparing \n",
      "\u001b[1B843615e2: Preparing \n",
      "\u001b[1Ba8049aa6: Preparing \n",
      "\u001b[1B9c0f8a0b: Preparing \n",
      "\u001b[1B8ccd260b: Preparing \n",
      "\u001b[20B55a0991: Pushed   1.319GB/1.286GBK\u001b[K\u001b[19A\u001b[1K\u001b[K\u001b[20A\u001b[1K\u001b[KLayer already exists \u001b[20A\u001b[1K\u001b[K\u001b[20A\u001b[1K\u001b[K\u001b[14A\u001b[1K\u001b[K\u001b[20A\u001b[1K\u001b[K\u001b[13A\u001b[1K\u001b[K\u001b[20A\u001b[1K\u001b[K\u001b[15A\u001b[1K\u001b[K\u001b[11A\u001b[1K\u001b[K\u001b[9A\u001b[1K\u001b[K\u001b[7A\u001b[1K\u001b[K\u001b[20A\u001b[1K\u001b[K\u001b[5A\u001b[1K\u001b[K\u001b[19A\u001b[1K\u001b[K\u001b[20A\u001b[1K\u001b[K\u001b[3A\u001b[1K\u001b[K\u001b[20A\u001b[1K\u001b[K\u001b[20A\u001b[1K\u001b[K\u001b[20A\u001b[1K\u001b[K\u001b[20A\u001b[1K\u001b[K\u001b[20A\u001b[1K\u001b[K\u001b[20A\u001b[1K\u001b[K\u001b[20A\u001b[1K\u001b[K\u001b[20A\u001b[1K\u001b[K\u001b[20A\u001b[1K\u001b[K\u001b[20A\u001b[1K\u001b[K\u001b[20A\u001b[1K\u001b[K\u001b[20A\u001b[1K\u001b[K\u001b[20A\u001b[1K\u001b[K\u001b[20A\u001b[1K\u001b[K\u001b[20A\u001b[1K\u001b[K\u001b[20A\u001b[1K\u001b[K\u001b[20A\u001b[1K\u001b[K\u001b[20A\u001b[1K\u001b[K\u001b[20A\u001b[1K\u001b[K\u001b[20A\u001b[1K\u001b[K\u001b[20A\u001b[1K\u001b[K\u001b[20A\u001b[1K\u001b[K\u001b[20A\u001b[1K\u001b[K\u001b[20A\u001b[1K\u001b[K\u001b[20A\u001b[1K\u001b[K\u001b[20A\u001b[1K\u001b[K\u001b[20A\u001b[1K\u001b[K\u001b[20A\u001b[1K\u001b[K\u001b[20A\u001b[1K\u001b[K\u001b[20A\u001b[1K\u001b[K\u001b[20A\u001b[1K\u001b[K\u001b[20A\u001b[1K\u001b[K\u001b[20A\u001b[1K\u001b[K\u001b[20A\u001b[1K\u001b[K\u001b[20A\u001b[1K\u001b[K\u001b[20A\u001b[1K\u001b[K\u001b[20A\u001b[1K\u001b[K\u001b[20A\u001b[1K\u001b[K\u001b[20A\u001b[1K\u001b[K\u001b[20A\u001b[1K\u001b[K\u001b[20A\u001b[1K\u001b[K\u001b[20A\u001b[1K\u001b[K\u001b[20A\u001b[1K\u001b[K\u001b[20A\u001b[1K\u001b[K\u001b[20A\u001b[1K\u001b[K\u001b[20A\u001b[1K\u001b[K\u001b[20A\u001b[1K\u001b[K\u001b[20A\u001b[1K\u001b[K\u001b[20A\u001b[1K\u001b[K\u001b[20A\u001b[1K\u001b[K\u001b[20A\u001b[1K\u001b[K\u001b[20A\u001b[1K\u001b[K\u001b[20A\u001b[1K\u001b[K\u001b[20A\u001b[1K\u001b[K\u001b[20A\u001b[1K\u001b[K\u001b[20A\u001b[1K\u001b[K\u001b[20A\u001b[1K\u001b[K\u001b[20A\u001b[1K\u001b[K\u001b[20A\u001b[1K\u001b[K\u001b[20A\u001b[1K\u001b[K\u001b[20A\u001b[1K\u001b[K\u001b[20A\u001b[1K\u001b[K\u001b[20A\u001b[1K\u001b[K\u001b[20A\u001b[1K\u001b[K\u001b[20A\u001b[1K\u001b[K\u001b[20A\u001b[1K\u001b[K\u001b[20A\u001b[1K\u001b[K\u001b[20A\u001b[1K\u001b[K\u001b[20A\u001b[1K\u001b[K\u001b[20A\u001b[1K\u001b[K\u001b[20A\u001b[1K\u001b[K\u001b[20A\u001b[1K\u001b[K\u001b[20A\u001b[1K\u001b[K\u001b[20A\u001b[1K\u001b[K\u001b[20A\u001b[1K\u001b[K\u001b[20A\u001b[1K\u001b[K\u001b[20A\u001b[1K\u001b[K\u001b[20A\u001b[1K\u001b[K\u001b[20A\u001b[1K\u001b[K\u001b[20A\u001b[1K\u001b[K\u001b[20A\u001b[1K\u001b[K\u001b[20A\u001b[1K\u001b[K\u001b[20A\u001b[1K\u001b[K\u001b[20A\u001b[1K\u001b[K\u001b[20A\u001b[1K\u001b[K\u001b[20A\u001b[1K\u001b[K\u001b[20A\u001b[1K\u001b[K\u001b[20A\u001b[1K\u001b[K\u001b[20A\u001b[1K\u001b[K\u001b[20A\u001b[1K\u001b[K\u001b[20A\u001b[1K\u001b[KPushing  282.5MB/1.286GB\u001b[20A\u001b[1K\u001b[K\u001b[20A\u001b[1K\u001b[K\u001b[20A\u001b[1K\u001b[K\u001b[20A\u001b[1K\u001b[K\u001b[20A\u001b[1K\u001b[K\u001b[20A\u001b[1K\u001b[K\u001b[20A\u001b[1K\u001b[K\u001b[20A\u001b[1K\u001b[KPushing  305.3MB/1.286GB\u001b[20A\u001b[1K\u001b[K\u001b[20A\u001b[1K\u001b[K\u001b[20A\u001b[1K\u001b[K\u001b[20A\u001b[1K\u001b[K\u001b[20A\u001b[1K\u001b[K\u001b[20A\u001b[1K\u001b[K\u001b[20A\u001b[1K\u001b[K\u001b[20A\u001b[1K\u001b[K\u001b[20A\u001b[1K\u001b[K\u001b[20A\u001b[1K\u001b[K\u001b[20A\u001b[1K\u001b[K\u001b[20A\u001b[1K\u001b[K\u001b[20A\u001b[1K\u001b[K\u001b[20A\u001b[1K\u001b[K\u001b[20A\u001b[1K\u001b[K\u001b[20A\u001b[1K\u001b[K\u001b[20A\u001b[1K\u001b[K\u001b[20A\u001b[1K\u001b[K\u001b[20A\u001b[1K\u001b[K\u001b[20A\u001b[1K\u001b[K\u001b[20A\u001b[1K\u001b[K\u001b[20A\u001b[1K\u001b[K\u001b[20A\u001b[1K\u001b[K\u001b[20A\u001b[1K\u001b[K\u001b[20A\u001b[1K\u001b[K\u001b[20A\u001b[1K\u001b[K\u001b[20A\u001b[1K\u001b[K\u001b[20A\u001b[1K\u001b[K\u001b[20A\u001b[1K\u001b[K\u001b[20A\u001b[1K\u001b[K\u001b[20A\u001b[1K\u001b[K\u001b[20A\u001b[1K\u001b[K\u001b[20A\u001b[1K\u001b[K\u001b[20A\u001b[1K\u001b[K\u001b[20A\u001b[1K\u001b[K\u001b[20A\u001b[1K\u001b[K\u001b[20A\u001b[1K\u001b[K\u001b[20A\u001b[1K\u001b[K\u001b[20A\u001b[1K\u001b[K\u001b[20A\u001b[1K\u001b[K\u001b[20A\u001b[1K\u001b[K\u001b[20A\u001b[1K\u001b[K\u001b[20A\u001b[1K\u001b[K\u001b[20A\u001b[1K\u001b[K\u001b[20A\u001b[1K\u001b[K\u001b[20A\u001b[1K\u001b[K\u001b[20A\u001b[1K\u001b[K\u001b[20A\u001b[1K\u001b[K\u001b[20A\u001b[1K\u001b[K\u001b[20A\u001b[1K\u001b[K\u001b[20A\u001b[1K\u001b[K\u001b[20A\u001b[1K\u001b[K\u001b[20A\u001b[1K\u001b[K\u001b[20A\u001b[1K\u001b[K\u001b[20A\u001b[1K\u001b[K\u001b[20A\u001b[1K\u001b[K\u001b[20A\u001b[1K\u001b[K\u001b[20A\u001b[1K\u001b[K\u001b[20A\u001b[1K\u001b[K\u001b[20A\u001b[1K\u001b[K\u001b[20A\u001b[1K\u001b[K\u001b[20A\u001b[1K\u001b[K\u001b[20A\u001b[1K\u001b[K\u001b[20A\u001b[1K\u001b[K\u001b[20A\u001b[1K\u001b[K\u001b[20A\u001b[1K\u001b[K\u001b[20A\u001b[1K\u001b[K\u001b[20A\u001b[1K\u001b[K\u001b[20A\u001b[1K\u001b[K\u001b[20A\u001b[1K\u001b[K\u001b[20A\u001b[1K\u001b[K\u001b[20A\u001b[1K\u001b[K\u001b[20A\u001b[1K\u001b[K\u001b[20A\u001b[1K\u001b[K\u001b[20A\u001b[1K\u001b[K\u001b[20A\u001b[1K\u001b[K\u001b[20A\u001b[1K\u001b[K\u001b[20A\u001b[1K\u001b[K\u001b[20A\u001b[1K\u001b[K\u001b[20A\u001b[1K\u001b[K\u001b[20A\u001b[1K\u001b[K\u001b[20A\u001b[1K\u001b[K\u001b[20A\u001b[1K\u001b[K\u001b[20A\u001b[1K\u001b[K\u001b[20A\u001b[1K\u001b[K\u001b[20A\u001b[1K\u001b[K\u001b[20A\u001b[1K\u001b[K\u001b[20A\u001b[1K\u001b[K\u001b[20A\u001b[1K\u001b[K\u001b[20A\u001b[1K\u001b[K\u001b[20A\u001b[1K\u001b[K\u001b[20A\u001b[1K\u001b[K\u001b[20A\u001b[1K\u001b[K\u001b[20A\u001b[1K\u001b[K\u001b[20A\u001b[1K\u001b[K\u001b[20A\u001b[1K\u001b[K\u001b[20A\u001b[1K\u001b[K\u001b[20A\u001b[1K\u001b[K\u001b[20A\u001b[1K\u001b[K\u001b[20A\u001b[1K\u001b[K\u001b[20A\u001b[1K\u001b[K\u001b[20A\u001b[1K\u001b[K\u001b[20A\u001b[1K\u001b[K\u001b[20A\u001b[1K\u001b[K\u001b[20A\u001b[1K\u001b[K\u001b[20A\u001b[1K\u001b[K\u001b[20A\u001b[1K\u001b[K\u001b[20A\u001b[1K\u001b[K\u001b[20A\u001b[1K\u001b[K\u001b[20A\u001b[1K\u001b[K\u001b[20A\u001b[1K\u001b[K\u001b[20A\u001b[1K\u001b[K\u001b[20A\u001b[1K\u001b[K\u001b[20A\u001b[1K\u001b[K\u001b[20A\u001b[1K\u001b[K\u001b[20A\u001b[1K\u001b[K\u001b[20A\u001b[1K\u001b[K\u001b[20A\u001b[1K\u001b[K\u001b[20A\u001b[1K\u001b[K\u001b[20A\u001b[1K\u001b[K\u001b[20A\u001b[1K\u001b[K\u001b[20A\u001b[1K\u001b[K\u001b[20A\u001b[1K\u001b[K\u001b[20A\u001b[1K\u001b[K\u001b[20A\u001b[1K\u001b[K\u001b[20A\u001b[1K\u001b[K\u001b[20A\u001b[1K\u001b[K\u001b[20A\u001b[1K\u001b[K\u001b[20A\u001b[1K\u001b[K\u001b[20A\u001b[1K\u001b[K\u001b[20A\u001b[1K\u001b[K\u001b[20A\u001b[1K\u001b[K\u001b[20A\u001b[1K\u001b[K\u001b[20A\u001b[1K\u001b[K\u001b[20A\u001b[1K\u001b[K\u001b[20A\u001b[1K\u001b[K\u001b[20A\u001b[1K\u001b[K\u001b[20A\u001b[1K\u001b[K\u001b[20A\u001b[1K\u001b[K\u001b[20A\u001b[1K\u001b[K\u001b[20A\u001b[1K\u001b[K\u001b[20A\u001b[1K\u001b[K\u001b[20A\u001b[1K\u001b[K\u001b[20A\u001b[1K\u001b[K\u001b[20A\u001b[1K\u001b[K\u001b[20A\u001b[1K\u001b[K\u001b[20A\u001b[1K\u001b[K\u001b[20A\u001b[1K\u001b[K\u001b[20A\u001b[1K\u001b[K\u001b[20A\u001b[1K\u001b[K\u001b[20A\u001b[1K\u001b[K\u001b[20A\u001b[1K\u001b[K\u001b[20A\u001b[1K\u001b[K\u001b[20A\u001b[1K\u001b[K\u001b[20A\u001b[1K\u001b[K\u001b[20A\u001b[1K\u001b[K\u001b[20A\u001b[1K\u001b[K\u001b[20A\u001b[1K\u001b[K\u001b[20A\u001b[1K\u001b[K\u001b[20A\u001b[1K\u001b[K\u001b[20A\u001b[1K\u001b[K\u001b[20A\u001b[1K\u001b[K\u001b[20A\u001b[1K\u001b[K\u001b[20A\u001b[1K\u001b[K\u001b[20A\u001b[1K\u001b[K\u001b[20A\u001b[1K\u001b[K\u001b[20A\u001b[1K\u001b[K\u001b[20A\u001b[1K\u001b[K\u001b[20A\u001b[1K\u001b[K\u001b[20A\u001b[1K\u001b[K\u001b[20A\u001b[1K\u001b[K\u001b[20A\u001b[1K\u001b[K\u001b[20A\u001b[1K\u001b[K\u001b[20A\u001b[1K\u001b[K\u001b[20A\u001b[1K\u001b[K\u001b[20A\u001b[1K\u001b[K\u001b[20A\u001b[1K\u001b[K\u001b[20A\u001b[1K\u001b[K\u001b[20A\u001b[1K\u001b[K\u001b[20A\u001b[1K\u001b[K\u001b[20A\u001b[1K\u001b[K\u001b[20A\u001b[1K\u001b[K\u001b[20A\u001b[1K\u001b[K\u001b[20A\u001b[1K\u001b[K\u001b[20A\u001b[1K\u001b[K\u001b[20A\u001b[1K\u001b[K\u001b[20A\u001b[1K\u001b[K\u001b[20A\u001b[1K\u001b[K\u001b[20A\u001b[1K\u001b[K\u001b[20A\u001b[1K\u001b[K\u001b[20A\u001b[1K\u001b[K\u001b[20A\u001b[1K\u001b[K\u001b[20A\u001b[1K\u001b[K\u001b[20A\u001b[1K\u001b[K\u001b[20A\u001b[1K\u001b[K\u001b[20A\u001b[1K\u001b[K\u001b[20A\u001b[1K\u001b[K\u001b[20A\u001b[1K\u001b[K\u001b[20A\u001b[1K\u001b[K\u001b[20A\u001b[1K\u001b[K\u001b[20A\u001b[1K\u001b[K\u001b[20A\u001b[1K\u001b[K\u001b[20A\u001b[1K\u001b[K\u001b[20A\u001b[1K\u001b[K\u001b[20A\u001b[1K\u001b[K\u001b[20A\u001b[1K\u001b[K\u001b[20A\u001b[1K\u001b[K\u001b[20A\u001b[1K\u001b[K\u001b[20A\u001b[1K\u001b[K\u001b[20A\u001b[1K\u001b[K\u001b[20A\u001b[1K\u001b[K\u001b[20A\u001b[1K\u001b[K\u001b[20A\u001b[1K\u001b[K\u001b[20A\u001b[1K\u001b[K\u001b[20A\u001b[1K\u001b[K\u001b[20A\u001b[1K\u001b[K\u001b[20A\u001b[1K\u001b[K\u001b[20A\u001b[1K\u001b[K\u001b[20A\u001b[1K\u001b[K\u001b[20A\u001b[1K\u001b[K\u001b[20A\u001b[1K\u001b[K\u001b[20A\u001b[1K\u001b[K\u001b[20A\u001b[1K\u001b[K\u001b[20A\u001b[1K\u001b[K\u001b[20A\u001b[1K\u001b[K\u001b[20A\u001b[1K\u001b[K\u001b[20A\u001b[1K\u001b[K\u001b[20A\u001b[1K\u001b[K\u001b[20A\u001b[1K\u001b[K\u001b[20A\u001b[1K\u001b[K\u001b[20A\u001b[1K\u001b[K\u001b[20A\u001b[1K\u001b[K\u001b[20A\u001b[1K\u001b[K\u001b[20A\u001b[1K\u001b[K\u001b[20A\u001b[1K\u001b[K\u001b[20A\u001b[1K\u001b[K\u001b[20A\u001b[1K\u001b[K\u001b[20A\u001b[1K\u001b[K\u001b[20A\u001b[1K\u001b[K\u001b[20A\u001b[1K\u001b[K\u001b[20A\u001b[1K\u001b[K\u001b[20A\u001b[1K\u001b[K\u001b[20A\u001b[1K\u001b[K\u001b[20A\u001b[1K\u001b[K\u001b[20A\u001b[1K\u001b[K\u001b[20A\u001b[1K\u001b[K\u001b[20A\u001b[1K\u001b[K\u001b[20A\u001b[1K\u001b[K\u001b[20A\u001b[1K\u001b[K\u001b[20A\u001b[1K\u001b[K\u001b[20A\u001b[1K\u001b[K\u001b[20A\u001b[1K\u001b[K\u001b[20A\u001b[1K\u001b[K\u001b[20A\u001b[1K\u001b[K\u001b[20A\u001b[1K\u001b[K\u001b[20A\u001b[1K\u001b[K\u001b[20A\u001b[1K\u001b[K\u001b[20A\u001b[1K\u001b[K\u001b[20A\u001b[1K\u001b[K\u001b[20A\u001b[1K\u001b[K\u001b[20A\u001b[1K\u001b[K\u001b[20A\u001b[1K\u001b[K\u001b[20A\u001b[1K\u001b[K\u001b[20A\u001b[1K\u001b[K\u001b[20A\u001b[1K\u001b[K\u001b[20A\u001b[1K\u001b[K\u001b[20A\u001b[1K\u001b[K\u001b[20A\u001b[1K\u001b[K\u001b[20A\u001b[1K\u001b[K\u001b[20A\u001b[1K\u001b[K\u001b[20A\u001b[1K\u001b[K\u001b[20A\u001b[1K\u001b[K\u001b[20A\u001b[1K\u001b[K\u001b[20A\u001b[1K\u001b[K\u001b[20A\u001b[1K\u001b[K\u001b[20A\u001b[1K\u001b[K\u001b[20A\u001b[1K\u001b[K\u001b[20A\u001b[1K\u001b[K\u001b[20A\u001b[1K\u001b[K\u001b[20A\u001b[1K\u001b[K\u001b[20A\u001b[1K\u001b[K\u001b[20A\u001b[1K\u001b[K\u001b[20A\u001b[1K\u001b[K\u001b[20A\u001b[1K\u001b[K\u001b[20A\u001b[1K\u001b[K\u001b[20A\u001b[1K\u001b[K\u001b[20A\u001b[1K\u001b[K\u001b[20A\u001b[1K\u001b[K\u001b[20A\u001b[1K\u001b[K\u001b[20A\u001b[1K\u001b[K\u001b[20A\u001b[1K\u001b[K\u001b[20A\u001b[1K\u001b[K\u001b[20A\u001b[1K\u001b[K\u001b[20A\u001b[1K\u001b[K\u001b[20A\u001b[1K\u001b[K\u001b[20A\u001b[1K\u001b[K\u001b[20A\u001b[1K\u001b[K\u001b[20A\u001b[1K\u001b[K\u001b[20A\u001b[1K\u001b[K\u001b[20A\u001b[1K\u001b[K\u001b[20A\u001b[1K\u001b[K\u001b[20A\u001b[1K\u001b[K\u001b[20A\u001b[1K\u001b[K\u001b[20A\u001b[1K\u001b[K\u001b[20A\u001b[1K\u001b[K\u001b[20A\u001b[1K\u001b[K\u001b[20A\u001b[1K\u001b[K\u001b[20A\u001b[1K\u001b[K\u001b[20A\u001b[1K\u001b[K\u001b[20A\u001b[1K\u001b[K\u001b[20A\u001b[1K\u001b[K\u001b[20A\u001b[1K\u001b[K\u001b[20A\u001b[1K\u001b[K\u001b[20A\u001b[1K\u001b[K\u001b[20A\u001b[1K\u001b[K\u001b[20A\u001b[1K\u001b[K\u001b[20A\u001b[1K\u001b[K\u001b[20A\u001b[1K\u001b[K\u001b[20A\u001b[1K\u001b[K\u001b[20A\u001b[1K\u001b[K\u001b[20A\u001b[1K\u001b[K\u001b[20A\u001b[1K\u001b[K\u001b[20A\u001b[1K\u001b[K\u001b[20A\u001b[1K\u001b[K\u001b[20A\u001b[1K\u001b[K\u001b[20A\u001b[1K\u001b[K\u001b[20A\u001b[1K\u001b[K\u001b[20A\u001b[1K\u001b[K\u001b[20A\u001b[1K\u001b[K\u001b[20A\u001b[1K\u001b[K\u001b[20A\u001b[1K\u001b[K\u001b[20A\u001b[1K\u001b[K\u001b[20A\u001b[1K\u001b[K\u001b[20A\u001b[1K\u001b[K\u001b[20A\u001b[1K\u001b[K\u001b[20A\u001b[1K\u001b[K\u001b[20A\u001b[1K\u001b[K\u001b[20A\u001b[1K\u001b[K\u001b[20A\u001b[1K\u001b[K\u001b[20A\u001b[1K\u001b[K\u001b[20A\u001b[1K\u001b[K\u001b[20A\u001b[1K\u001b[K\u001b[20A\u001b[1K\u001b[K\u001b[20A\u001b[1K\u001b[K\u001b[20A\u001b[1K\u001b[K\u001b[20A\u001b[1K\u001b[K\u001b[20A\u001b[1K\u001b[K\u001b[20A\u001b[1K\u001b[K\u001b[20A\u001b[1K\u001b[K\u001b[20A\u001b[1K\u001b[K\u001b[20A\u001b[1K\u001b[Klatest: digest: sha256:c9f17f8e0bf322b2ddeab7647d594dfe7ed19a79bdd1712b7a8d2d817a22a99f size: 4507\n"
     ]
    }
   ],
   "source": [
    "!sudo docker push {repo}"
   ]
  },
  {
   "cell_type": "markdown",
   "metadata": {},
   "source": [
    "### Build Flask App Docker Image"
   ]
  },
  {
   "cell_type": "markdown",
   "metadata": {},
   "source": [
    "Create our Dockerfile and save it to the directory, `flask_app/`."
   ]
  },
  {
   "cell_type": "code",
   "execution_count": 9,
   "metadata": {},
   "outputs": [
    {
     "name": "stdout",
     "output_type": "stream",
     "text": [
      "Writing flask_app/Dockerfile\n"
     ]
    }
   ],
   "source": [
    "%%writefile flask_app/Dockerfile\n",
    "\n",
    "FROM continuumio/miniconda3\n",
    "\n",
    "RUN mkdir /app\n",
    "WORKDIR /app\n",
    "ADD add_images_to_queue.py /app\n",
    "ADD preprocess.py /app\n",
    "ADD postprocess.py /app\n",
    "ADD util.py /app\n",
    "ADD main.py /app\n",
    "\n",
    "RUN conda install -c conda-forge -y ffmpeg\n",
    "RUN pip install azure\n",
    "RUN pip install flask\n",
    "\n",
    "CMD [\"python\", \"main.py\"]"
   ]
  },
  {
   "cell_type": "markdown",
   "metadata": {},
   "source": [
    "Build the Docker image"
   ]
  },
  {
   "cell_type": "code",
   "execution_count": 10,
   "metadata": {},
   "outputs": [
    {
     "name": "stdout",
     "output_type": "stream",
     "text": [
      "Sending build context to Docker daemon  24.06kB\n",
      "Step 1/12 : FROM continuumio/miniconda3\n",
      " ---> d3c252f8727b\n",
      "Step 2/12 : RUN mkdir /app\n",
      " ---> Using cache\n",
      " ---> 3d09918b3c53\n",
      "Step 3/12 : WORKDIR /app\n",
      " ---> Using cache\n",
      " ---> cdb65a76c343\n",
      "Step 4/12 : ADD add_images_to_queue.py /app\n",
      " ---> Using cache\n",
      " ---> 7c1787f853f4\n",
      "Step 5/12 : ADD preprocess.py /app\n",
      " ---> Using cache\n",
      " ---> 71901a55c05e\n",
      "Step 6/12 : ADD postprocess.py /app\n",
      " ---> Using cache\n",
      " ---> 3d38f2424ba4\n",
      "Step 7/12 : ADD util.py /app\n",
      " ---> Using cache\n",
      " ---> a8454a26df6d\n",
      "Step 8/12 : ADD main.py /app\n",
      " ---> Using cache\n",
      " ---> 8f7fb47b3a27\n",
      "Step 9/12 : RUN conda install -c conda-forge -y ffmpeg\n",
      " ---> Using cache\n",
      " ---> ea75d4d4cb83\n",
      "Step 10/12 : RUN pip install azure\n",
      " ---> Using cache\n",
      " ---> 2cb7be8f73e8\n",
      "Step 11/12 : RUN pip install flask\n",
      " ---> Using cache\n",
      " ---> b29b139e3081\n",
      "Step 12/12 : CMD [\"python\", \"main.py\"]\n",
      " ---> Using cache\n",
      " ---> ccc092782af4\n",
      "Successfully built ccc092782af4\n",
      "Successfully tagged batchscoringdl_flask_app:latest\n"
     ]
    }
   ],
   "source": [
    "!sudo docker build -t {get_key(env_path, \"FLASK_IMAGE\")} flask_app"
   ]
  },
  {
   "cell_type": "markdown",
   "metadata": {},
   "source": [
    "Tag and push."
   ]
  },
  {
   "cell_type": "code",
   "execution_count": 11,
   "metadata": {},
   "outputs": [],
   "source": [
    "repo = \"{}/{}\".format(get_key(env_path, \"DOCKER_LOGIN\"), get_key(env_path, \"FLASK_IMAGE\"))"
   ]
  },
  {
   "cell_type": "code",
   "execution_count": 12,
   "metadata": {},
   "outputs": [],
   "source": [
    "!sudo docker tag {get_key(env_path, \"FLASK_IMAGE\")} {repo}"
   ]
  },
  {
   "cell_type": "code",
   "execution_count": 13,
   "metadata": {},
   "outputs": [
    {
     "name": "stdout",
     "output_type": "stream",
     "text": [
      "The push refers to repository [docker.io/jiata/batchscoringdl_flask_app]\n",
      "\n",
      "\u001b[1B4e17c344: Preparing \n",
      "\u001b[1B4b743574: Preparing \n",
      "\u001b[1B5b7e80f6: Preparing \n",
      "\u001b[1B3289740b: Preparing \n",
      "\u001b[1Bb3c10e7f: Preparing \n",
      "\u001b[1B2fb3d239: Preparing \n",
      "\u001b[1B5a465adc: Preparing \n",
      "\u001b[1B0c665bf2: Preparing \n",
      "\u001b[1B59854246: Preparing \n",
      "\u001b[1Bb5c98f73: Preparing \n",
      "\u001b[1B31f7d329: Preparing \n",
      "\u001b[1Bcc4bbc9d: Preparing \n",
      "\u001b[1Bae060f2d: Preparing \n",
      "\u001b[7B0c665bf2: Layer already exists \u001b[11A\u001b[1K\u001b[K\u001b[10A\u001b[1K\u001b[K\u001b[9A\u001b[1K\u001b[K\u001b[8A\u001b[1K\u001b[K\u001b[4A\u001b[1K\u001b[K\u001b[12A\u001b[1K\u001b[K\u001b[1A\u001b[1K\u001b[K\u001b[7A\u001b[1K\u001b[Klatest: digest: sha256:594a861ebbe3db25b661173aec23762eb0440666ac9b95b993fdc80a1985cf01 size: 3248\n"
     ]
    }
   ],
   "source": [
    "!sudo docker push {repo}"
   ]
  },
  {
   "cell_type": "markdown",
   "metadata": {},
   "source": [
    "### Create our Flask App and Scoring App deployments on AKS"
   ]
  },
  {
   "cell_type": "markdown",
   "metadata": {},
   "source": [
    "We need to deploy both our aci and aks docker images to the AKS cluster. Since we'll need to set up our gpu and drivers and blobfuse mount point for both deployments, we'll set these up first:"
   ]
  },
  {
   "cell_type": "code",
   "execution_count": 14,
   "metadata": {},
   "outputs": [],
   "source": [
    "volume_mounts = [\n",
    "    {\"name\": \"nvidia\", \"mountPath\": \"/usr/local/nvidia\"},\n",
    "    {\"name\": \"blob\", \"mountPath\": get_key(env_path, \"MOUNT_DIR\")},\n",
    "]\n",
    "\n",
    "resources = {\n",
    "    \"requests\": {\"alpha.kubernetes.io/nvidia-gpu\": 1},\n",
    "    \"limits\": {\"alpha.kubernetes.io/nvidia-gpu\": 1},\n",
    "}\n",
    "\n",
    "volumes = [\n",
    "    {\"name\": \"nvidia\", \"hostPath\": {\"path\": \"/usr/local/nvidia\"}},\n",
    "    {\n",
    "        \"name\": \"blob\",\n",
    "        \"flexVolume\": {\n",
    "            \"driver\": \"azure/blobfuse\",\n",
    "            \"readOnly\": False,\n",
    "            \"secretRef\": {\"name\": \"blobfusecreds\"},\n",
    "            \"options\": {\n",
    "                \"container\": get_key(env_path, \"STORAGE_CONTAINER_NAME\"),\n",
    "                \"tmppath\": \"/tmp/blobfuse\",\n",
    "                \"mountoptions\": \"--file-cache-timeout-in-seconds=120 --use-https=true\",\n",
    "            },\n",
    "        },\n",
    "    },\n",
    "]\n",
    "\n",
    "env = [\n",
    "    {\n",
    "        \"name\": \"MOUNT_DIR\", \n",
    "        \"value\": get_key(env_path, \"MOUNT_DIR\")\n",
    "    },\n",
    "    {\n",
    "        \"name\": \"LB_LIBRARY_PATH\",\n",
    "        \"value\": \"$LD_LIBRARY_PATH:/usr/local/nvidia/lib64:/opt/conda/envs/py3.6/lib\",\n",
    "    },\n",
    "    {\n",
    "        \"name\": \"DP_DISABLE_HEALTHCHECKS\", \n",
    "        \"value\": \"xids\"\n",
    "    },\n",
    "    {\n",
    "        \"name\": \"STORAGE_MODEL_DIR\",\n",
    "        \"value\": get_key(env_path, \"STORAGE_MODEL_DIR\")\n",
    "    },\n",
    "    {\n",
    "        \"name\": \"SUBSCRIPTION_ID\",\n",
    "        \"value\": get_key(env_path, \"SUBSCRIPTION_ID\")\n",
    "    },\n",
    "    {\n",
    "        \"name\": \"RESOURCE_GROUP\",\n",
    "        \"value\": get_key(env_path, \"RESOURCE_GROUP\")\n",
    "    },\n",
    "    {\n",
    "        \"name\": \"REGION\",\n",
    "        \"value\": get_key(env_path, \"REGION\")\n",
    "    },\n",
    "    {\n",
    "        \"name\": \"SB_SHARED_ACCESS_KEY_NAME\",\n",
    "        \"value\": get_key(env_path, \"SB_SHARED_ACCESS_KEY_NAME\")\n",
    "    },\n",
    "    {\n",
    "        \"name\": \"SB_SHARED_ACCESS_KEY_VALUE\",\n",
    "        \"value\": get_key(env_path, \"SB_SHARED_ACCESS_KEY_VALUE\")\n",
    "    },\n",
    "    {\n",
    "        \"name\": \"SB_NAMESPACE\",\n",
    "        \"value\": get_key(env_path, \"SB_NAMESPACE\")\n",
    "    },\n",
    "    {\n",
    "        \"name\": \"SB_QUEUE\", \n",
    "        \"value\": get_key(env_path, \"SB_QUEUE\")\n",
    "    },\n",
    "]"
   ]
  },
  {
   "cell_type": "markdown",
   "metadata": {},
   "source": [
    "Define the aks deployment and save it to a `scoring_app_deployment.json` file using the variables set above."
   ]
  },
  {
   "cell_type": "code",
   "execution_count": 15,
   "metadata": {},
   "outputs": [],
   "source": [
    "scoring_app_deployment_json = {\n",
    "    \"apiVersion\": \"apps/v1beta1\",\n",
    "    \"kind\": \"Deployment\",\n",
    "    \"metadata\": {\n",
    "        \"name\": \"scoring-app\", \n",
    "        \"labels\": {\n",
    "            \"purpose\": \"dequeue_messages_and_apply_style_transfer\"\n",
    "        }\n",
    "    },\n",
    "    \"spec\": {\n",
    "        \"replicas\": int(get_key(env_path, \"NODE_COUNT\")) - 1,\n",
    "        \"template\": {\n",
    "            \"metadata\": {\n",
    "                \"labels\": {\n",
    "                    \"app\": \"scoring-app\"\n",
    "                }\n",
    "            },\n",
    "            \"spec\": {\n",
    "                \"containers\": [\n",
    "                    {\n",
    "                        \"name\": \"scoring-app\",\n",
    "                        \"image\": \"{}/{}:latest\".format(get_key(env_path, \"DOCKER_LOGIN\"), get_key(env_path, \"SCORING_IMAGE\")),\n",
    "                        \"volumeMounts\": volume_mounts,\n",
    "                        \"resources\": resources,\n",
    "                        \"ports\": [{\n",
    "                            \"containerPort\": 433\n",
    "                        }],\n",
    "                        \"env\": env,\n",
    "                    }\n",
    "                ],\n",
    "                \"volumes\": volumes\n",
    "            },\n",
    "        },\n",
    "    },\n",
    "}\n",
    "\n",
    "with open(\"scoring_app_deployment.json\", \"w\") as outfile:\n",
    "    json.dump(scoring_app_deployment_json, outfile, indent=4, sort_keys=True)\n",
    "    outfile.write('\\n\\n')"
   ]
  },
  {
   "cell_type": "markdown",
   "metadata": {},
   "source": [
    "Using the `scoring_app_deployment.json` we created, create our deployment on AKS. This can take a few minutes..."
   ]
  },
  {
   "cell_type": "code",
   "execution_count": 16,
   "metadata": {},
   "outputs": [
    {
     "name": "stdout",
     "output_type": "stream",
     "text": [
      "deployment.apps/scoring-app created\r\n"
     ]
    }
   ],
   "source": [
    "!kubectl create -f scoring_app_deployment.json"
   ]
  },
  {
   "cell_type": "markdown",
   "metadata": {},
   "source": [
    "Define the flask app deployment and save it to a `flask_app_deployment.json` file using the variables set above."
   ]
  },
  {
   "cell_type": "code",
   "execution_count": 17,
   "metadata": {},
   "outputs": [],
   "source": [
    "flask_app_deployment_json = {\n",
    "    \"apiVersion\": \"apps/v1beta1\",\n",
    "    \"kind\": \"Deployment\",\n",
    "    \"metadata\": {\n",
    "        \"name\": \"flask-app\", \n",
    "        \"labels\": {\n",
    "            \"purpose\": \"pre_and_post_processing_and_queue_images\"\n",
    "        }\n",
    "    },\n",
    "    \"spec\": {\n",
    "        \"replicas\": 1,\n",
    "        \"template\": {\n",
    "            \"metadata\": {\n",
    "                \"labels\": {\n",
    "                    \"app\": \"flask-app\"\n",
    "                }\n",
    "            },\n",
    "            \"spec\": {\n",
    "                \"containers\": [\n",
    "                    {\n",
    "                        \"name\": \"flask-app\",\n",
    "                        \"image\": \"{}/{}:latest\".format(get_key(env_path, \"DOCKER_LOGIN\"), get_key(env_path, \"FLASK_IMAGE\")),\n",
    "                        \"volumeMounts\": volume_mounts,\n",
    "                        \"resources\": resources,\n",
    "                        \"ports\": [{\n",
    "                            \"containerPort\": 8080\n",
    "                        }],\n",
    "                        \"env\": env,\n",
    "                    }\n",
    "                ],\n",
    "                \"volumes\": volumes\n",
    "            },\n",
    "        },\n",
    "    },\n",
    "}\n",
    "\n",
    "with open(\"flask_app_deployment.json\", \"w\") as outfile:\n",
    "    json.dump(flask_app_deployment_json, outfile, indent=4, sort_keys=True)\n",
    "    outfile.write('\\n\\n')"
   ]
  },
  {
   "cell_type": "markdown",
   "metadata": {},
   "source": [
    "Using the `flask_app_deployment.json` we created, create our flask app deployment on AKS. This can take a few minutes..."
   ]
  },
  {
   "cell_type": "code",
   "execution_count": 18,
   "metadata": {},
   "outputs": [
    {
     "name": "stdout",
     "output_type": "stream",
     "text": [
      "deployment.apps/flask-app created\r\n"
     ]
    }
   ],
   "source": [
    "!kubectl create -f flask_app_deployment.json"
   ]
  },
  {
   "cell_type": "markdown",
   "metadata": {},
   "source": [
    "These deployments may take a few minutes. You can inspect the state of the pods by running the command: `kubectl get pods`. When the deployment is done, the results may look as follows:\n",
    "```bash\n",
    "NAME                           READY   STATUS              RESTARTS   AGE\n",
    "flask-app-6db66c97ff-x8rq4     1/1     Running             0          78s\n",
    "scoring-app-846dd6bc79-5nm5b   1/1     Running             0          73s\n",
    "scoring-app-846dd6bc79-6qc6k   1/1     Running             0          73s\n",
    "scoring-app-846dd6bc79-8gtsv   1/1     Running             0          73s\n",
    "scoring-app-846dd6bc79-hjsfc   1/1     Running             0          73s\n",
    "```"
   ]
  },
  {
   "cell_type": "markdown",
   "metadata": {},
   "source": [
    "Expose the flask-app in the kubernetes cluster. This will open a public endpoint."
   ]
  },
  {
   "cell_type": "code",
   "execution_count": 19,
   "metadata": {},
   "outputs": [
    {
     "name": "stdout",
     "output_type": "stream",
     "text": [
      "service/flask-app exposed\r\n"
     ]
    }
   ],
   "source": [
    "!kubectl expose deployment flask-app --type=\"LoadBalancer\""
   ]
  },
  {
   "cell_type": "markdown",
   "metadata": {},
   "source": [
    "Run `!watch kubectl get services` and wait until the external ip goes from pending to being realized. It can take some time.\n",
    "\n",
    "NOTE: If the following command is run without the external ip being realized, an error will be thrown. "
   ]
  },
  {
   "cell_type": "code",
   "execution_count": 20,
   "metadata": {},
   "outputs": [],
   "source": [
    "external_ip = !kubectl get services -o=jsonpath={.items[*].status.loadBalancer.ingress[0].ip}\n",
    "external_ip = external_ip[0]"
   ]
  },
  {
   "cell_type": "markdown",
   "metadata": {},
   "source": [
    "Since we'll use the `external_ip` later on, save it to the dot-env file."
   ]
  },
  {
   "cell_type": "code",
   "execution_count": 21,
   "metadata": {
    "tags": [
     "strip_out"
    ]
   },
   "outputs": [],
   "source": [
    "set_key(env_path, \"AKS_EXTERNAL_IP\", external_ip)"
   ]
  },
  {
   "cell_type": "markdown",
   "metadata": {},
   "source": [
    "### Test that the deployment works end-to-end"
   ]
  },
  {
   "cell_type": "markdown",
   "metadata": {},
   "source": [
    "Set the name of the new test video."
   ]
  },
  {
   "cell_type": "code",
   "execution_count": 22,
   "metadata": {},
   "outputs": [],
   "source": [
    "new_video_name = \"aks_test_orangutan.mp4\""
   ]
  },
  {
   "cell_type": "markdown",
   "metadata": {},
   "source": [
    "Make a copy the old `orangutan.mp4` video but named with the `<new_video_name>`. "
   ]
  },
  {
   "cell_type": "code",
   "execution_count": 23,
   "metadata": {},
   "outputs": [],
   "source": [
    "!cp data/orangutan.mp4 data/{new_video_name}"
   ]
  },
  {
   "cell_type": "markdown",
   "metadata": {},
   "source": [
    "Use `curl` to hit the endpoint of the kubernetes cluster we just deployed."
   ]
  },
  {
   "cell_type": "code",
   "execution_count": 24,
   "metadata": {},
   "outputs": [
    {
     "name": "stdout",
     "output_type": "stream",
     "text": [
      "Processing aks_test_orangutan.mp4 in background...\r\n"
     ]
    }
   ],
   "source": [
    "!curl {external_ip}\":8080/process?video_name=\"{new_video_name}"
   ]
  },
  {
   "cell_type": "markdown",
   "metadata": {},
   "source": [
    "Inspect your kubernetes cluster to see that the process is running. You can use the commands below to do so. Alternatively, you can also inspect the blob storage container to see that the images are being created.\n",
    "\n",
    "When the video completes, you can play the video file directly from your mounted blob container:"
   ]
  },
  {
   "cell_type": "code",
   "execution_count": 26,
   "metadata": {},
   "outputs": [
    {
     "data": {
      "text/html": [
       "<video width=\"320\" height=\"240\" controls>\n",
       "  <source src=\"data/aks_test_orangutan/aks_test_orangutan_processed.mp4\" type=\"video/mp4\">\n",
       "</video>"
      ],
      "text/plain": [
       "<IPython.core.display.HTML object>"
      ]
     },
     "metadata": {},
     "output_type": "display_data"
    }
   ],
   "source": [
    "%%HTML\n",
    "<video width=\"320\" height=\"240\" controls>\n",
    "  <source src=\"data/aks_test_orangutan/aks_test_orangutan_processed.mp4\" type=\"video/mp4\">\n",
    "</video>"
   ]
  },
  {
   "cell_type": "markdown",
   "metadata": {},
   "source": [
    "### Basic Kubectl usage\n",
    "You can use kubectl to perform basic monitoring. Use the following commands:\n",
    "```bash\n",
    "# monitor pods\n",
    "!kubectl get pods\n",
    "\n",
    "# print logs from a pod (<pod-name> can be found when calling 'get pods')\n",
    "!kubectl logs <pod-name>\n",
    "\n",
    "# check all services running on the cluster\n",
    "!kubectl get services\n",
    "\n",
    "# delete a service\n",
    "!kubectl delete services <service-name>\n",
    "\n",
    "# delete a deployment\n",
    "!kubectl delete -f scoring_app_deployment.json\n",
    "!kubectl delete -f flask_app_deployment.json\n",
    "```"
   ]
  },
  {
   "cell_type": "markdown",
   "metadata": {},
   "source": [
    "### Monitor in kubernetes dashboard\n",
    "You can use the Kubernetes dashboard to monitor the cluster using the following commands:\n",
    "\n",
    "```bash\n",
    "# use the kube_dashboard_access.yaml to create a deployment\n",
    "!kubectl create -f kube_dashboard_access.yaml\n",
    "\n",
    "# use this command to browse\n",
    "!az aks browse -n {get_key(env_path, \"AKS_CLUSTER\")} -g {get_key(env_path, \"RESOURCE_GROUP\")}\n",
    "```\n",
    "\n",
    "If you're not able to access the dashboard, follow the instructions [here](https://blog.tekspace.io/kubernetes-dashboard-remote-access/)."
   ]
  },
  {
   "cell_type": "markdown",
   "metadata": {},
   "source": [
    "### Additional commands for AKS"
   ]
  },
  {
   "cell_type": "markdown",
   "metadata": {},
   "source": [
    "Scale your AKS cluster:\n",
    "\n",
    "```bash \n",
    "!az aks scale \\\n",
    "    --name {get_key(env_path, \"AKS_CLUSTER\")} \\\n",
    "    --resource-group {get_key(env_path, \"RESOURCE_GROUP\")} \\\n",
    "    --node-count 10\n",
    "```\n",
    "\n",
    "Scale your deployment:\n",
    "```bash\n",
    "!kubectl scale deployment.apps/aks-app --replicas=10\n",
    "```"
   ]
  },
  {
   "cell_type": "markdown",
   "metadata": {},
   "source": [
    "---"
   ]
  },
  {
   "cell_type": "markdown",
   "metadata": {},
   "source": [
    "Continue to the next [notebook](/notebooks/05_deploy_logic_app.ipynb)."
   ]
  }
 ],
 "metadata": {
  "celltoolbar": "Tags",
  "kernelspec": {
   "display_name": "Python [conda env:batchscoringdl_aks]",
   "language": "python",
   "name": "conda-env-batchscoringdl_aks-py"
  },
  "language_info": {
   "codemirror_mode": {
    "name": "ipython",
    "version": 3
   },
   "file_extension": ".py",
   "mimetype": "text/x-python",
   "name": "python",
   "nbconvert_exporter": "python",
   "pygments_lexer": "ipython3",
   "version": "3.6.7"
  }
 },
 "nbformat": 4,
 "nbformat_minor": 2
}
