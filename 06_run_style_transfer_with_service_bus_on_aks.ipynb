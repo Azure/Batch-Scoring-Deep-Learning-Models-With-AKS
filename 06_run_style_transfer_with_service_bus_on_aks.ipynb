{
 "cells": [
  {
   "cell_type": "code",
   "execution_count": null,
   "metadata": {},
   "outputs": [],
   "source": [
    "from dotenv import set_key, get_key, find_dotenv, load_dotenv\n",
    "from pathlib import Path\n",
    "import json\n",
    "import os"
   ]
  },
  {
   "cell_type": "code",
   "execution_count": null,
   "metadata": {},
   "outputs": [],
   "source": [
    "env_path = find_dotenv(raise_error_if_not_found=True)"
   ]
  },
  {
   "cell_type": "markdown",
   "metadata": {},
   "source": [
    "## Create an AKS cluster"
   ]
  },
  {
   "cell_type": "code",
   "execution_count": null,
   "metadata": {},
   "outputs": [],
   "source": [
    "aks_cluster = \"<your-aks-cluster-name>\"\n",
    "set_key(env_path, \"AKS_CLUSTER\", aks_cluster)"
   ]
  },
  {
   "cell_type": "code",
   "execution_count": null,
   "metadata": {},
   "outputs": [],
   "source": [
    "!az aks create \\\n",
    "    --resource-group {get_key(env_path, \"RESOURCE_GROUP\")} \\\n",
    "    --name {get_key(env_path, \"AKS_CLUSTER\")} \\\n",
    "    --node-count 3 \\\n",
    "    --node-vm-size \"Standard_NC6s_v2\""
   ]
  },
  {
   "cell_type": "markdown",
   "metadata": {},
   "source": [
    "## Install kubectl"
   ]
  },
  {
   "cell_type": "code",
   "execution_count": null,
   "metadata": {},
   "outputs": [],
   "source": [
    "!sudo az aks install-cli"
   ]
  },
  {
   "cell_type": "code",
   "execution_count": null,
   "metadata": {},
   "outputs": [],
   "source": [
    "!az aks get-credentials \\\n",
    "    --resource-group {get_key(env_path, 'RESOURCE_GROUP')}\\\n",
    "    --name {get_key(env_path, 'AKS_CLUSTER')}"
   ]
  },
  {
   "cell_type": "code",
   "execution_count": null,
   "metadata": {},
   "outputs": [],
   "source": [
    "!kubectl get nodes"
   ]
  },
  {
   "cell_type": "code",
   "execution_count": null,
   "metadata": {},
   "outputs": [],
   "source": [
    "!kubectl get pods --all-namespaces"
   ]
  },
  {
   "cell_type": "markdown",
   "metadata": {},
   "source": [
    "## Add items to queue"
   ]
  },
  {
   "cell_type": "code",
   "execution_count": null,
   "metadata": {},
   "outputs": [],
   "source": [
    "!python queuer_app/add_images_to_queue.py --blob-dir \"input\" --queue-limit 9"
   ]
  },
  {
   "cell_type": "code",
   "execution_count": null,
   "metadata": {},
   "outputs": [],
   "source": [
    "!az servicebus queue show \\\n",
    "    --name {get_key(env_path, \"SB_QUEUE\")} \\\n",
    "    --namespace-name {get_key(env_path, \"SB_NAMESPACE\")} \\\n",
    "    --resource-group {get_key(env_path, \"RESOURCE_GROUP\")} \\\n",
    "    --query \"countDetails.activeMessageCount\""
   ]
  },
  {
   "cell_type": "markdown",
   "metadata": {},
   "source": [
    "## Deploy your dequeuer app to the AKS cluster"
   ]
  },
  {
   "cell_type": "code",
   "execution_count": null,
   "metadata": {},
   "outputs": [],
   "source": [
    "dequeuer_json = {\n",
    "    \"apiVersion\": \"apps/v1beta1\",\n",
    "    \"kind\": \"Deployment\",\n",
    "    \"metadata\": {\n",
    "        \"name\": \"dequeuer\", \n",
    "        \"labels\": {\n",
    "            \"purpose\": \"dequeue_messages\"\n",
    "        }\n",
    "    },\n",
    "    \"spec\": {\n",
    "        \"replicas\": 3,\n",
    "        \"template\": {\n",
    "            \"metadata\": {\n",
    "                \"labels\": {\n",
    "                    \"app\": \"dequeuer\"\n",
    "                }\n",
    "            },\n",
    "            \"spec\": {\n",
    "                \"containers\": [\n",
    "                    {\n",
    "                        \"name\": \"dequeuer\",\n",
    "                        \"image\": \"{}/{}:latest\".format(get_key(env_path, \"DOCKER_LOGIN\"), get_key(env_path, \"DEQUEUER_IMAGE_REPO\")),\n",
    "                        \"volumeMounts\": [\n",
    "                            {\n",
    "                                \"mountPath\": \"/usr/local/nvidia\", \n",
    "                                \"name\": \"nvidia\"\n",
    "                            }\n",
    "                        ],\n",
    "                        \"resources\": {\n",
    "                            \"requests\": {\n",
    "                                \"alpha.kubernetes.io/nvidia-gpu\": 1\n",
    "                            },\n",
    "                            \"limits\": {\n",
    "                                \"alpha.kubernetes.io/nvidia-gpu\": 1\n",
    "                            },\n",
    "                        },\n",
    "                        \"ports\": [{\n",
    "                            \"containerPort\": 433\n",
    "                        }],\n",
    "                        \"env\": [\n",
    "                            {\n",
    "                                \"name\": \"LB_LIBRARY_PATH\",\n",
    "                                \"value\": \"$LD_LIBRARY_PATH:/usr/local/nvidia/lib64:/opt/conda/envs/py3.6/lib\",\n",
    "                            },\n",
    "                            {\n",
    "                                \"name\": \"DP_DISABLE_HEALTHCHECKS\", \n",
    "                                \"value\": \"xids\"\n",
    "                            },\n",
    "                            {\n",
    "                                \"name\": \"STYLE_WEIGHT\",\n",
    "                                \"value\": get_key(env_path, \"STYLE_WEIGHT\")\n",
    "                            },\n",
    "                            {\n",
    "                                \"name\": \"CONTENT_WEIGHT\",\n",
    "                                \"value\": get_key(env_path, \"CONTENT_WEIGHT\")\n",
    "                            },\n",
    "                            {\n",
    "                                \"name\": \"NUM_STEPS\",\n",
    "                                \"value\": get_key(env_path, \"NUM_STEPS\")\n",
    "                            },\n",
    "                            {\n",
    "                                \"name\": \"IMAGE_SIZE\",\n",
    "                                \"value\": get_key(env_path, \"IMAGE_SIZE\")\n",
    "                            },\n",
    "                            {\n",
    "                                \"name\": \"VIDEO_NAME\",\n",
    "                                \"value\": get_key(env_path, \"VIDEO_NAME\")\n",
    "                            },\n",
    "                            {\n",
    "                                \"name\": \"SUBSCRIPTION_ID\",\n",
    "                                \"value\": get_key(env_path, \"SUBSCRIPTION_ID\")\n",
    "                            },\n",
    "                            {\n",
    "                                \"name\": \"RESOURCE_GROUP\",\n",
    "                                \"value\": get_key(env_path, \"RESOURCE_GROUP\")\n",
    "                            },\n",
    "                            {\n",
    "                                \"name\": \"REGION\",\n",
    "                                \"value\": get_key(env_path, \"REGION\")\n",
    "                            },\n",
    "                            {\n",
    "                                \"name\": \"STORAGE_ACCOUNT_NAME\", \n",
    "                                \"value\": get_key(env_path, \"STORAGE_ACCOUNT_NAME\")\n",
    "                            },\n",
    "                            {\n",
    "                                \"name\": \"STORAGE_ACCOUNT_KEY\",\n",
    "                                \"value\": get_key(env_path, \"STORAGE_ACCOUNT_KEY\")\n",
    "                            },\n",
    "                            {\n",
    "                                \"name\": \"STORAGE_CONTAINER_NAME\",\n",
    "                                \"value\": get_key(env_path, \"STORAGE_CONTAINER_NAME\")\n",
    "                            },\n",
    "                            {\n",
    "                                \"name\": \"SB_SHARED_ACCESS_KEY_NAME\",\n",
    "                                \"value\": get_key(env_path, \"SB_SHARED_ACCESS_KEY_NAME\")\n",
    "                            },\n",
    "                            {\n",
    "                                \"name\": \"SB_SHARED_ACCESS_KEY_VALUE\",\n",
    "                                \"value\": get_key(env_path, \"SB_SHARED_ACCESS_KEY_VALUE\")\n",
    "                            },\n",
    "                            {\n",
    "                                \"name\": \"SB_NAMESPACE\",\n",
    "                                \"value\": get_key(env_path, \"SB_NAMESPACE\")\n",
    "                            },\n",
    "                            {\n",
    "                                \"name\": \"SB_QUEUE\", \n",
    "                                \"value\": get_key(env_path, \"SB_QUEUE\")\n",
    "                            },\n",
    "                        ],\n",
    "                    }\n",
    "                ],\n",
    "                \"volumes\": [\n",
    "                    {\n",
    "                        \"name\": \"nvidia\", \n",
    "                        \"hostPath\": {\n",
    "                            \"path\": \"/usr/local/nvidia\"\n",
    "                        }\n",
    "                    }\n",
    "                ],\n",
    "            },\n",
    "        },\n",
    "    },\n",
    "}"
   ]
  },
  {
   "cell_type": "code",
   "execution_count": null,
   "metadata": {},
   "outputs": [],
   "source": [
    "with open(\"dequeuer_app.json\", \"w\") as outfile:\n",
    "    json.dump(dequeuer_json, outfile, indent=4, sort_keys=True)\n",
    "    outfile.write('\\n\\n')"
   ]
  },
  {
   "cell_type": "code",
   "execution_count": null,
   "metadata": {},
   "outputs": [],
   "source": [
    "!kubectl create -f dequeuer_app.json"
   ]
  },
  {
   "cell_type": "code",
   "execution_count": null,
   "metadata": {},
   "outputs": [],
   "source": [
    "!kubectl get pods --all-namespaces"
   ]
  },
  {
   "cell_type": "code",
   "execution_count": null,
   "metadata": {},
   "outputs": [],
   "source": [
    "pod_json = !kubectl get pods -o json\n",
    "pod_dict = json.loads(''.join(pod_json))\n",
    "!kubectl logs {pod_dict['items'][0]['metadata']['name']}"
   ]
  },
  {
   "cell_type": "markdown",
   "metadata": {},
   "source": [
    "---"
   ]
  },
  {
   "cell_type": "markdown",
   "metadata": {},
   "source": [
    "## Conclusion"
   ]
  },
  {
   "cell_type": "code",
   "execution_count": null,
   "metadata": {},
   "outputs": [],
   "source": [
    "!cat .env"
   ]
  },
  {
   "cell_type": "code",
   "execution_count": null,
   "metadata": {},
   "outputs": [],
   "source": []
  }
 ],
 "metadata": {
  "kernelspec": {
   "display_name": "Python [conda env:batchscoringdl_v2]",
   "language": "python",
   "name": "conda-env-batchscoringdl_v2-py"
  },
  "language_info": {
   "codemirror_mode": {
    "name": "ipython",
    "version": 3
   },
   "file_extension": ".py",
   "mimetype": "text/x-python",
   "name": "python",
   "nbconvert_exporter": "python",
   "pygments_lexer": "ipython3",
   "version": "3.6.6"
  }
 },
 "nbformat": 4,
 "nbformat_minor": 2
}
