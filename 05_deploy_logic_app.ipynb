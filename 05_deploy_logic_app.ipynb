{
 "cells": [
  {
   "cell_type": "markdown",
   "metadata": {},
   "source": [
    "# Deploy Logic App"
   ]
  },
  {
   "cell_type": "markdown",
   "metadata": {},
   "source": [
    "In this notebook, we will perform the final deployment so that the whole architecture is on Azure.\n",
    "\n",
    "### Recap of the architecture:\n",
    "The architecture for this workflow is centered on two main components:\n",
    "- The AKS cluster that contains the flask app and the scoring app\n",
    "- Logic App that will trigger the workflow by hitting the flask app on the AKS cluster\n",
    "\n",
    "At this point, we already have an AKS cluster up and running. It is continuously polling out Service Bus queue to check if there are any incoming messages to process. \n",
    "\n",
    "The next step is to deploy our Logic App so that the workflow can be triggered by new videos that appear in blob storage. Once a new video is found in blob, Logic App will hit the AKS endpoint that will run the video preprocessing script, the add-to-queue script, and finally the postprocessing script. \n",
    "\n",
    "As soon as new items are added to the queue from the flask_app, our scoring pods in the AKS cluster will start pulling those items off and start processing them.\n",
    "\n",
    "### Steps in this notebook:\n",
    "1. Deploy the Logic App. The Logic App will go live once deployed. \n",
    "2. Test the Logic App deployment. To do so, we upload a new video to blob, which will triger the entire workflow."
   ]
  },
  {
   "cell_type": "markdown",
   "metadata": {},
   "source": [
    "---"
   ]
  },
  {
   "cell_type": "markdown",
   "metadata": {},
   "source": [
    "### Import packages and load .env"
   ]
  },
  {
   "cell_type": "code",
   "execution_count": 1,
   "metadata": {},
   "outputs": [],
   "source": [
    "from azure.mgmt.resource.resources.models import DeploymentMode\n",
    "from azure.mgmt.resource import ResourceManagementClient\n",
    "from azure.common.credentials import ServicePrincipalCredentials\n",
    "from dotenv import set_key, get_key, find_dotenv, load_dotenv\n",
    "from pathlib import Path\n",
    "import json\n",
    "import os"
   ]
  },
  {
   "cell_type": "code",
   "execution_count": 2,
   "metadata": {},
   "outputs": [
    {
     "data": {
      "text/plain": [
       "True"
      ]
     },
     "execution_count": 2,
     "metadata": {},
     "output_type": "execute_result"
    }
   ],
   "source": [
    "env_path = find_dotenv(raise_error_if_not_found=True)\n",
    "load_dotenv(env_path)"
   ]
  },
  {
   "cell_type": "markdown",
   "metadata": {},
   "source": [
    "### Deploy Logic App"
   ]
  },
  {
   "cell_type": "markdown",
   "metadata": {},
   "source": [
    "![Logic Apps](https://happypathspublic.blob.core.windows.net/assets/batch_scoring_for_dl/azure_logic_app.jpg)\n",
    "\n",
    "The *logic* behind the Logic App deployment is shown above:\n",
    "1. When a blob is added, begin the workflow.\n",
    "2. Check the blob name. \n",
    "    - if the blob name ends with `.mp4`:\n",
    "        - make a request to the AKS endpoint\n",
    "    - otherwise:\n",
    "        - terminate in cancellation\n"
   ]
  },
  {
   "cell_type": "markdown",
   "metadata": {},
   "source": [
    "Set up credentials and resource management client to create ARM deployments."
   ]
  },
  {
   "cell_type": "code",
   "execution_count": 3,
   "metadata": {},
   "outputs": [],
   "source": [
    "# Create credentials and ARM client\n",
    "credentials = ServicePrincipalCredentials(client_id=get_key(env_path, \"SP_CLIENT\"),\n",
    "                                          secret=get_key(env_path, \"SP_SECRET\"),\n",
    "                                          tenant=get_key(env_path, \"SP_TENANT\"))\n",
    "\n",
    "resource_client = ResourceManagementClient(credentials, get_key(env_path, \"SUBSCRIPTION_ID\"))"
   ]
  },
  {
   "cell_type": "markdown",
   "metadata": {},
   "source": [
    "Create the deployment for the Azure blob storage connector."
   ]
  },
  {
   "cell_type": "code",
   "execution_count": 4,
   "metadata": {},
   "outputs": [
    {
     "data": {
      "text/plain": [
       "<msrest.polling.poller.LROPoller at 0x7fc37418f400>"
      ]
     },
     "execution_count": 4,
     "metadata": {},
     "output_type": "execute_result"
    }
   ],
   "source": [
    "# Create an Azure Blob Storage connector\n",
    "with open('template.blob_connector.json') as f:\n",
    "    blob_con_template = json.load(f)\n",
    "\n",
    "blob_con_params = {\n",
    "    \"location\": {\"value\": get_key(env_path, \"REGION\")},\n",
    "    \"subscription_id\": {\"value\": get_key(env_path, \"SUBSCRIPTION_ID\")}\n",
    "}\n",
    "\n",
    "blob_con_props = {\n",
    "    'mode': DeploymentMode.incremental,\n",
    "    'template': blob_con_template,\n",
    "    'parameters': blob_con_params\n",
    "}\n",
    "\n",
    "resource_client.deployments.create_or_update(\n",
    "    resource_group_name=get_key(env_path, \"RESOURCE_GROUP\"), \n",
    "    deployment_name=\"blob_connector\", \n",
    "    properties=blob_con_props\n",
    ")"
   ]
  },
  {
   "cell_type": "markdown",
   "metadata": {},
   "source": [
    "Create the deployment for the Logic App."
   ]
  },
  {
   "cell_type": "code",
   "execution_count": 5,
   "metadata": {},
   "outputs": [
    {
     "data": {
      "text/plain": [
       "<msrest.polling.poller.LROPoller at 0x7fc37412fd30>"
      ]
     },
     "execution_count": 5,
     "metadata": {},
     "output_type": "execute_result"
    }
   ],
   "source": [
    "# Create Logic App\n",
    "with open('template.logic_app.json') as f:\n",
    "    logic_app_template = json.load(f)\n",
    "\n",
    "logic_app_params = {\n",
    "    \"location\": {\"value\": get_key(env_path, \"REGION\")},\n",
    "    \"resource_group\": { \"value\": get_key(env_path, \"RESOURCE_GROUP\") },\n",
    "    \"name\": {\"value\": get_key(env_path, \"LOGIC_APP\")},\n",
    "    \"subscription_id\": {\"value\": get_key(env_path, \"SUBSCRIPTION_ID\")},\n",
    "    \"storage_container_name\": {\"value\": get_key(env_path, \"STORAGE_CONTAINER_NAME\")},\n",
    "    \"url_endpoint\": {\"value\": \"http://{}:8080/process\".format(get_key(env_path, \"AKS_EXTERNAL_IP\"))}\n",
    "}\n",
    "\n",
    "logic_app_props = {\n",
    "    'mode': DeploymentMode.incremental,\n",
    "    'template': logic_app_template,\n",
    "    'parameters': logic_app_params\n",
    "}\n",
    "\n",
    "resource_client.deployments.create_or_update(\n",
    "    resource_group_name=get_key(env_path, \"RESOURCE_GROUP\"), \n",
    "    deployment_name=get_key(env_path, \"LOGIC_APP\"), \n",
    "    properties=logic_app_props\n",
    ")"
   ]
  },
  {
   "cell_type": "markdown",
   "metadata": {},
   "source": [
    "Once the Logic App is deployed, go into the Azure portal and the Azure blob connector to authenticate. \n",
    "\n",
    "When you open up up the Azure blob connector, it should look like this:\n",
    "\n",
    "![azure_blob_connector_auth](https://happypathspublic.blob.core.windows.net/assets/batch_scoring_for_dl/azure_blob_connector_auth.PNG)\n",
    "\n",
    "For the connector, click on the orange bar at the top to authenticate.\n",
    "\n",
    "Once authenticated, your Logic App should be all set up and ready to trigger the workflow."
   ]
  },
  {
   "cell_type": "markdown",
   "metadata": {},
   "source": [
    "### Trigger logic app by adding a new video to the Azure blob container"
   ]
  },
  {
   "cell_type": "markdown",
   "metadata": {},
   "source": [
    "Re-upload the orangutan video to blob with a new name: `logic_app_test_orangutan.mp4`"
   ]
  },
  {
   "cell_type": "code",
   "execution_count": 6,
   "metadata": {},
   "outputs": [],
   "source": [
    "new_video_name = \"logic_app_test_orangutan.mp4\""
   ]
  },
  {
   "cell_type": "markdown",
   "metadata": {},
   "source": [
    "Make a copy the old `orangutan.mp4` video but named with the `<new_video_name>`. "
   ]
  },
  {
   "cell_type": "code",
   "execution_count": 7,
   "metadata": {},
   "outputs": [],
   "source": [
    "!cp data/orangutan.mp4 data/{new_video_name}"
   ]
  },
  {
   "cell_type": "markdown",
   "metadata": {},
   "source": [
    "The appearance of the new video will trigger Logic Apps to kick off the whole workflow. Inspect the state of your cluster using `kubectl` or check on the files in your container in blob to monitor the progress.\n",
    "\n",
    "When the video is finished processing, we can view it directly on the mounted blob container."
   ]
  },
  {
   "cell_type": "code",
   "execution_count": null,
   "metadata": {},
   "outputs": [],
   "source": [
    "%%HTML\n",
    "<video width=\"320\" height=\"240\" controls>\n",
    "  <source src=\"data/logic_app_test_orangutan/logic_app_test_orangutan_processed.mp4\" type=\"video/mp4\">\n",
    "</video>"
   ]
  },
  {
   "cell_type": "markdown",
   "metadata": {},
   "source": [
    "---"
   ]
  },
  {
   "cell_type": "markdown",
   "metadata": {},
   "source": [
    "Continue to the next [notebook](/notebooks/06_clean_up.ipynb)."
   ]
  }
 ],
 "metadata": {
  "kernelspec": {
   "display_name": "Python [conda env:batchscoringdl]",
   "language": "python",
   "name": "conda-env-batchscoringdl-py"
  },
  "language_info": {
   "codemirror_mode": {
    "name": "ipython",
    "version": 3
   },
   "file_extension": ".py",
   "mimetype": "text/x-python",
   "name": "python",
   "nbconvert_exporter": "python",
   "pygments_lexer": "ipython3",
   "version": "3.6.7"
  }
 },
 "nbformat": 4,
 "nbformat_minor": 2
}
