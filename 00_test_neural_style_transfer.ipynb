{
 "cells": [
  {
   "cell_type": "markdown",
   "metadata": {},
   "source": [
    "# Testing our neural style transfer script\n",
    "\n",
    "In this notebook, we'll simply test our neural style transfer script. The script we're using is from [here](https://github.com/pytorch/examples/tree/master/fast_neural_style) originally and is based off the work from [this](https://arxiv.org/abs/1603.08155) paper."
   ]
  },
  {
   "cell_type": "markdown",
   "metadata": {},
   "source": [
    "---"
   ]
  },
  {
   "cell_type": "markdown",
   "metadata": {},
   "source": [
    "Make an output and content directory."
   ]
  },
  {
   "cell_type": "code",
   "execution_count": null,
   "metadata": {},
   "outputs": [],
   "source": [
    "!mkdir content_dir && mkdir output_dir"
   ]
  },
  {
   "cell_type": "markdown",
   "metadata": {},
   "source": [
    "Download an image to apply style transfer to. The image is downloaded to the `content_dir` that we just created."
   ]
  },
  {
   "cell_type": "code",
   "execution_count": null,
   "metadata": {},
   "outputs": [],
   "source": [
    "!wget https://learnanalytics.microsoft.com/media/brand-central3.jpg -O content_dir/human.jpg"
   ]
  },
  {
   "cell_type": "code",
   "execution_count": null,
   "metadata": {},
   "outputs": [],
   "source": [
    "from IPython.display import Image\n",
    "im = Image(filename=\"content_dir/human.jpg\", width=600)\n",
    "display(im)"
   ]
  },
  {
   "cell_type": "markdown",
   "metadata": {},
   "source": [
    "Apply style transfer using the style transfer script under `/aks/style_transfer.py`.\n",
    "\n",
    "- `--model-dir` - the model directory where all the model files are saved\n",
    "- `--style` - the style to choose (based on the model file names)\n",
    "- `--cuda` - 1 to use GPU, 0 to use CPU\n",
    "- `--content-dir` - the directory of input images\n",
    "- `--output-dir` - the directory to save output images"
   ]
  },
  {
   "cell_type": "code",
   "execution_count": null,
   "metadata": {},
   "outputs": [],
   "source": [
    "!python aks/style_transfer.py \\\n",
    "    --model-dir models \\\n",
    "    --style \"mosaic\" \\\n",
    "    --cuda 1 \\\n",
    "    --content-dir content_dir \\\n",
    "    --output-dir output_dir"
   ]
  },
  {
   "cell_type": "markdown",
   "metadata": {},
   "source": [
    "Check that there is something in the `output_dir`."
   ]
  },
  {
   "cell_type": "code",
   "execution_count": null,
   "metadata": {},
   "outputs": [],
   "source": [
    "!ls output_dir"
   ]
  },
  {
   "cell_type": "markdown",
   "metadata": {},
   "source": [
    "Display the output image."
   ]
  },
  {
   "cell_type": "code",
   "execution_count": null,
   "metadata": {},
   "outputs": [],
   "source": [
    "im = Image(filename=\"output_dir/human.jpg\", width=600)\n",
    "display(im)"
   ]
  },
  {
   "cell_type": "markdown",
   "metadata": {},
   "source": [
    "Continue to the next [notebook](/notebooks/01_setup_azure.ipynb)."
   ]
  }
 ],
 "metadata": {
  "kernelspec": {
   "display_name": "Python [conda env:batchscoringdl]",
   "language": "python",
   "name": "conda-env-batchscoringdl-py"
  },
  "language_info": {
   "codemirror_mode": {
    "name": "ipython",
    "version": 3
   },
   "file_extension": ".py",
   "mimetype": "text/x-python",
   "name": "python",
   "nbconvert_exporter": "python",
   "pygments_lexer": "ipython3",
   "version": "3.6.7"
  }
 },
 "nbformat": 4,
 "nbformat_minor": 2
}
