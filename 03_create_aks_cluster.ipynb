{
 "cells": [
  {
   "cell_type": "markdown",
   "metadata": {},
   "source": [
    "# Create the AKS cluster\n",
    "\n",
    "In this notebook we'll setup the AKS cluster. To do so, we'll do the following:\n",
    "1. check that there is enough quota to provision our desired cluster\n",
    "2. provision the cluster using the `az cli`\n",
    "3. set up blob fuse on the nodes so the pods in our kubernetes cluster can access our blob storage container"
   ]
  },
  {
   "cell_type": "markdown",
   "metadata": {},
   "source": [
    "---"
   ]
  },
  {
   "cell_type": "markdown",
   "metadata": {},
   "source": [
    "### Import packages and load .env"
   ]
  },
  {
   "cell_type": "code",
   "execution_count": 1,
   "metadata": {},
   "outputs": [],
   "source": [
    "from dotenv import set_key, get_key, find_dotenv, load_dotenv\n",
    "from pathlib import Path\n",
    "import subprocess\n",
    "import json\n",
    "import os"
   ]
  },
  {
   "cell_type": "code",
   "execution_count": 2,
   "metadata": {},
   "outputs": [
    {
     "data": {
      "text/plain": [
       "True"
      ]
     },
     "execution_count": 2,
     "metadata": {},
     "output_type": "execute_result"
    }
   ],
   "source": [
    "env_path = find_dotenv(raise_error_if_not_found=True)\n",
    "load_dotenv(env_path)"
   ]
  },
  {
   "cell_type": "markdown",
   "metadata": {},
   "source": [
    "### Provision AKS cluster and set up blobfuse"
   ]
  },
  {
   "cell_type": "markdown",
   "metadata": {},
   "source": [
    "Set how many nodes you want to provision."
   ]
  },
  {
   "cell_type": "code",
   "execution_count": 3,
   "metadata": {},
   "outputs": [
    {
     "data": {
      "text/plain": [
       "(True, 'NODE_COUNT', '5')"
      ]
     },
     "execution_count": 3,
     "metadata": {},
     "output_type": "execute_result"
    }
   ],
   "source": [
    "node_count = 5\n",
    "set_key(env_path, \"NODE_COUNT\", str(node_count))"
   ]
  },
  {
   "cell_type": "markdown",
   "metadata": {},
   "source": [
    "Check that there are enough core of the \"Standard_NC6s_v3\". If not, check that there are enough core of the \"Standard_D2s_v3\". If not, raise exception. "
   ]
  },
  {
   "cell_type": "code",
   "execution_count": 4,
   "metadata": {},
   "outputs": [
    {
     "name": "stdout",
     "output_type": "stream",
     "text": [
      "Checking quota for family size NCSv3...\n",
      "There are enough cores, you may continue...\n"
     ]
    }
   ],
   "source": [
    "vm_dict = {\n",
    "    \"NCSv3\": {\n",
    "        \"size\": \"Standard_NC6s_v3\",\n",
    "        \"cores\": 6\n",
    "    },\n",
    "    \"DSv3\": {\n",
    "        \"size\": \"Standard_D2s_v3\",\n",
    "        \"cores\": 2\n",
    "    }\n",
    "}\n",
    "\n",
    "print(\"Checking quota for family size NCSv3...\")\n",
    "vm_family = \"NCSv3\"\n",
    "requested_cores = node_count * vm_dict[vm_family][\"cores\"]\n",
    "\n",
    "def check_quota(vm_family):\n",
    "    \"\"\"\n",
    "    returns quota object\n",
    "    \"\"\"\n",
    "    results = subprocess.run([\n",
    "        \"az\", \"vm\", \"list-usage\", \n",
    "        \"--location\", get_key(env_path, \"REGION\"), \n",
    "        \"--query\", \"[?contains(localName, '%s')].{max:limit, current:currentValue}\" % (vm_family)\n",
    "    ], stdout=subprocess.PIPE)\n",
    "    quota = json.loads(''.join(results.stdout.decode('utf-8')))\n",
    "    return int(quota[0]['max']) - int(quota[0]['current'])\n",
    "\n",
    "diff = check_quota(vm_family)\n",
    "if diff <= requested_cores:\n",
    "    print(\"Not enough cores of NCSv3 in region, asking for {} but have {}\".format(requested_cores, diff))\n",
    "    \n",
    "    print(\"Retrying with family size DSv3...\")\n",
    "    vm_family = \"DSv3\"\n",
    "    requested_cores = node_count * vm_dict[vm_family][\"cores\"]\n",
    "    \n",
    "    diff = check_quota(vm_family)\n",
    "    if diff <= requested_cores:\n",
    "        print(\"Not enough cores of DSv3 in region, asking for {} but have {}\".format(requested_cores, diff))\n",
    "        raise Exception(\"Core Limit\", \"Note enough cores to satisfy request\")\n",
    "\n",
    "print(\"There are enough cores, you may continue...\") "
   ]
  },
  {
   "cell_type": "markdown",
   "metadata": {},
   "source": [
    "Create the aks cluster. This step may take a while... Please note that this step creates another resource group in your subscription containing the actual compute of the AKS cluster."
   ]
  },
  {
   "cell_type": "code",
   "execution_count": 6,
   "metadata": {
    "tags": [
     "strip_out"
    ]
   },
   "outputs": [],
   "source": [
    "!az aks create \\\n",
    "    --resource-group {get_key(env_path, \"RESOURCE_GROUP\")} \\\n",
    "    --name {get_key(env_path, \"AKS_CLUSTER\")} \\\n",
    "    --node-count {node_count} \\\n",
    "    --node-vm-size {vm_dict[vm_family][\"size\"]} \\\n",
    "    --generate-ssh-keys \\\n",
    "    --service-principal {get_key(env_path, \"SP_CLIENT\")} \\\n",
    "    --client-secret {get_key(env_path, \"SP_SECRET\")}"
   ]
  },
  {
   "cell_type": "markdown",
   "metadata": {},
   "source": [
    "Install Kubectl - this tool is used to manage the kubernetes cluster."
   ]
  },
  {
   "cell_type": "code",
   "execution_count": 7,
   "metadata": {},
   "outputs": [
    {
     "name": "stdout",
     "output_type": "stream",
     "text": [
      "\u001b[33mDownloading client to \"/usr/local/bin/kubectl\" from \"https://storage.googleapis.com/kubernetes-release/release/v1.13.1/bin/linux/amd64/kubectl\"\u001b[0m\n",
      "\u001b[33mPlease ensure that /usr/local/bin is in your search PATH, so the `kubectl` command can be found.\u001b[0m\n"
     ]
    }
   ],
   "source": [
    "!sudo az aks install-cli"
   ]
  },
  {
   "cell_type": "code",
   "execution_count": 8,
   "metadata": {},
   "outputs": [
    {
     "name": "stdout",
     "output_type": "stream",
     "text": [
      "Merged \"batchscoringdlcluster\" as current context in /home/jiata/.kube/config\r\n"
     ]
    }
   ],
   "source": [
    "!az aks get-credentials \\\n",
    "    --resource-group {get_key(env_path, 'RESOURCE_GROUP')}\\\n",
    "    --name {get_key(env_path, 'AKS_CLUSTER')}"
   ]
  },
  {
   "cell_type": "markdown",
   "metadata": {},
   "source": [
    "Check also that the nodes are up and ready using this command. You may choose to run this command in a new cell.\n",
    "```bash\n",
    "!kubectl get nodes\n",
    "```"
   ]
  },
  {
   "cell_type": "markdown",
   "metadata": {},
   "source": [
    "### Blobfuse on AKS"
   ]
  },
  {
   "cell_type": "markdown",
   "metadata": {},
   "source": [
    "Now we setup our AKS cluster so that we have blob storage mounted onto the nodes using blob fuse. More info [here](https://github.com/Azure/kubernetes-volume-drivers/tree/master/flexvolume/blobfuse)."
   ]
  },
  {
   "cell_type": "markdown",
   "metadata": {},
   "source": [
    "Install blobfuse driver on every agent VM."
   ]
  },
  {
   "cell_type": "code",
   "execution_count": 9,
   "metadata": {},
   "outputs": [
    {
     "name": "stdout",
     "output_type": "stream",
     "text": [
      "namespace/flex created\n",
      "daemonset.apps/blobfuse-flexvol-installer created\n"
     ]
    }
   ],
   "source": [
    "!kubectl create -f https://raw.githubusercontent.com/Azure/kubernetes-volume-drivers/master/flexvolume/blobfuse/deployment/blobfuse-flexvol-installer-1.9.yaml"
   ]
  },
  {
   "cell_type": "markdown",
   "metadata": {},
   "source": [
    "Check daemonset status."
   ]
  },
  {
   "cell_type": "code",
   "execution_count": 10,
   "metadata": {},
   "outputs": [
    {
     "name": "stdout",
     "output_type": "stream",
     "text": [
      "Name:           blobfuse-flexvol-installer\n",
      "Selector:       name=blobfuse\n",
      "Node-Selector:  beta.kubernetes.io/os=linux\n",
      "Labels:         k8s-app=blobfuse\n",
      "Annotations:    deprecated.daemonset.template.generation: 1\n",
      "Desired Number of Nodes Scheduled: 5\n",
      "Current Number of Nodes Scheduled: 5\n",
      "Number of Nodes Scheduled with Up-to-date Pods: 5\n",
      "Number of Nodes Scheduled with Available Pods: 5\n",
      "Number of Nodes Misscheduled: 0\n",
      "Pods Status:  5 Running / 0 Waiting / 0 Succeeded / 0 Failed\n",
      "Pod Template:\n",
      "  Labels:  name=blobfuse\n",
      "  Containers:\n",
      "   blobfuse-flexvol-installer:\n",
      "    Image:        mcr.microsoft.com/k8s/flexvolume/blobfuse-flexvolume\n",
      "    Port:         <none>\n",
      "    Host Port:    <none>\n",
      "    Environment:  <none>\n",
      "    Mounts:\n",
      "      /etc/kubernetes/volumeplugins/ from volplugins (rw)\n",
      "      /var/log/ from varlog (rw)\n",
      "  Volumes:\n",
      "   varlog:\n",
      "    Type:          HostPath (bare host directory volume)\n",
      "    Path:          /var/log/\n",
      "    HostPathType:  \n",
      "   volplugins:\n",
      "    Type:          HostPath (bare host directory volume)\n",
      "    Path:          /etc/kubernetes/volumeplugins/\n",
      "    HostPathType:  \n",
      "Events:\n",
      "  Type    Reason            Age   From                  Message\n",
      "  ----    ------            ----  ----                  -------\n",
      "  Normal  SuccessfulCreate  3s    daemonset-controller  Created pod: blobfuse-flexvol-installer-lxh85\n",
      "  Normal  SuccessfulCreate  3s    daemonset-controller  Created pod: blobfuse-flexvol-installer-7drdx\n",
      "  Normal  SuccessfulCreate  3s    daemonset-controller  Created pod: blobfuse-flexvol-installer-k89mp\n",
      "  Normal  SuccessfulCreate  3s    daemonset-controller  Created pod: blobfuse-flexvol-installer-bfg7w\n",
      "  Normal  SuccessfulCreate  3s    daemonset-controller  Created pod: blobfuse-flexvol-installer-md97m\n",
      "NAME                               READY   STATUS    RESTARTS   AGE   IP           NODE                       NOMINATED NODE   READINESS GATES\n",
      "blobfuse-flexvol-installer-7drdx   1/1     Running   0          3s    10.244.4.2   aks-nodepool1-13969919-4   <none>           <none>\n",
      "blobfuse-flexvol-installer-bfg7w   1/1     Running   0          3s    10.244.1.3   aks-nodepool1-13969919-2   <none>           <none>\n",
      "blobfuse-flexvol-installer-k89mp   1/1     Running   0          3s    10.244.3.4   aks-nodepool1-13969919-3   <none>           <none>\n",
      "blobfuse-flexvol-installer-lxh85   1/1     Running   0          3s    10.244.2.2   aks-nodepool1-13969919-1   <none>           <none>\n",
      "blobfuse-flexvol-installer-md97m   1/1     Running   0          3s    10.244.0.5   aks-nodepool1-13969919-0   <none>           <none>\n"
     ]
    }
   ],
   "source": [
    "!kubectl describe daemonset blobfuse-flexvol-installer --namespace=flex\n",
    "!kubectl get po --namespace=flex -o wide"
   ]
  },
  {
   "cell_type": "markdown",
   "metadata": {},
   "source": [
    "Set up credentials for blobfuse."
   ]
  },
  {
   "cell_type": "code",
   "execution_count": 11,
   "metadata": {},
   "outputs": [
    {
     "name": "stdout",
     "output_type": "stream",
     "text": [
      "secret/blobfusecreds created\r\n"
     ]
    }
   ],
   "source": [
    "!kubectl create secret generic blobfusecreds \\\n",
    "    --from-literal accountname={get_key(env_path, 'STORAGE_ACCOUNT_NAME')} \\\n",
    "    --from-literal accountkey={get_key(env_path, 'STORAGE_ACCOUNT_KEY')} \\\n",
    "    --type=\"azure/blobfuse\""
   ]
  },
  {
   "cell_type": "markdown",
   "metadata": {},
   "source": [
    "Set the mount directory on our AKS cluster as en dotenv variable."
   ]
  },
  {
   "cell_type": "code",
   "execution_count": 12,
   "metadata": {},
   "outputs": [
    {
     "data": {
      "text/plain": [
       "(True, 'MOUNT_DIR', '/data')"
      ]
     },
     "execution_count": 12,
     "metadata": {},
     "output_type": "execute_result"
    }
   ],
   "source": [
    "set_key(env_path, \"MOUNT_DIR\", \"/data\")"
   ]
  },
  {
   "cell_type": "markdown",
   "metadata": {},
   "source": [
    "---"
   ]
  },
  {
   "cell_type": "markdown",
   "metadata": {},
   "source": [
    "Continue to the next [notebook](/notebooks/04_style_transfer_on_aks.ipynb)."
   ]
  }
 ],
 "metadata": {
  "celltoolbar": "Tags",
  "kernelspec": {
   "display_name": "Python [conda env:batchscoringdl]",
   "language": "python",
   "name": "conda-env-batchscoringdl-py"
  },
  "language_info": {
   "codemirror_mode": {
    "name": "ipython",
    "version": 3
   },
   "file_extension": ".py",
   "mimetype": "text/x-python",
   "name": "python",
   "nbconvert_exporter": "python",
   "pygments_lexer": "ipython3",
   "version": "3.6.7"
  }
 },
 "nbformat": 4,
 "nbformat_minor": 2
}
