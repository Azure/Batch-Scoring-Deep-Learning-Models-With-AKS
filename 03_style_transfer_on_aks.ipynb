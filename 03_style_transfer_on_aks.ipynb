{
 "cells": [
  {
   "cell_type": "markdown",
   "metadata": {},
   "source": [
    "# 3. Neural Style Transfer on AKS\n",
    "\n",
    "We've tested locally in the previous notebook. Now use an AKS cluster and test that our neural style transfer script still works as expected when running across multiple nodes in parallel on AKS.\n",
    "\n",
    "1. Build AKS Docker Image\n",
    "2. Test style transfer on Docker locally\n",
    "3. Push docker image to Docker hub\n",
    "4. Provision AKS cluster \n",
    "5. Test style transfer on parallel on AKS cluster"
   ]
  },
  {
   "cell_type": "markdown",
   "metadata": {},
   "source": [
    "---"
   ]
  },
  {
   "cell_type": "markdown",
   "metadata": {},
   "source": [
    "### Import packages and load .env"
   ]
  },
  {
   "cell_type": "code",
   "execution_count": 1,
   "metadata": {},
   "outputs": [],
   "source": [
    "from dotenv import set_key, get_key, find_dotenv, load_dotenv\n",
    "from pathlib import Path\n",
    "import subprocess\n",
    "import json\n",
    "import os"
   ]
  },
  {
   "cell_type": "code",
   "execution_count": 2,
   "metadata": {},
   "outputs": [
    {
     "data": {
      "text/plain": [
       "True"
      ]
     },
     "execution_count": 2,
     "metadata": {},
     "output_type": "execute_result"
    }
   ],
   "source": [
    "env_path = find_dotenv(raise_error_if_not_found=True)\n",
    "load_dotenv(env_path)"
   ]
  },
  {
   "cell_type": "markdown",
   "metadata": {},
   "source": [
    "### Build AKS Docker Image"
   ]
  },
  {
   "cell_type": "code",
   "execution_count": 89,
   "metadata": {},
   "outputs": [
    {
     "name": "stdout",
     "output_type": "stream",
     "text": [
      "Overwriting aks/requirements.txt\n"
     ]
    }
   ],
   "source": [
    "%%writefile aks/requirements.txt\n",
    "azure==4.0.0\n",
    "torch==0.4.1\n",
    "torchvision==0.2.1"
   ]
  },
  {
   "cell_type": "code",
   "execution_count": 90,
   "metadata": {},
   "outputs": [
    {
     "name": "stdout",
     "output_type": "stream",
     "text": [
      "Overwriting aks/Dockerfile\n"
     ]
    }
   ],
   "source": [
    "%%writefile aks/Dockerfile\n",
    "\n",
    "FROM nvidia/cuda:9.0-cudnn7-devel-ubuntu16.04\n",
    "\n",
    "RUN echo \"deb http://developer.download.nvidia.com/compute/machine-learning/repos/ubuntu1604/x86_64 /\" > /etc/apt/sources.list.d/nvidia-ml.list\n",
    "\n",
    "RUN apt-get update && apt-get install -y --no-install-recommends \\\n",
    "        build-essential \\\n",
    "        ca-certificates \\\n",
    "        cmake \\\n",
    "        curl \\\n",
    "        git \\\n",
    "        nginx \\\n",
    "        supervisor \\\n",
    "        wget && \\\n",
    "        rm -rf /var/lib/apt/lists/*\n",
    "\n",
    "ENV PYTHON_VERSION=3.6\n",
    "RUN curl -o ~/miniconda.sh -O  https://repo.continuum.io/miniconda/Miniconda3-latest-Linux-x86_64.sh  && \\\n",
    "    chmod +x ~/miniconda.sh && \\\n",
    "    ~/miniconda.sh -b -p /opt/conda && \\\n",
    "    rm ~/miniconda.sh && \\\n",
    "    /opt/conda/bin/conda create -y --name py$PYTHON_VERSION python=$PYTHON_VERSION && \\\n",
    "    /opt/conda/bin/conda clean -ya\n",
    "ENV PATH /opt/conda/envs/py$PYTHON_VERSION/bin:$PATH\n",
    "ENV LD_LIBRARY_PATH /opt/conda/envs/py$PYTHON_VERSION/lib:/usr/local/cuda/lib64/:$LD_LIBRARY_PATH\n",
    "ENV PYTHONPATH /code/:$PYTHONPATH\n",
    "\n",
    "RUN mkdir /app\n",
    "WORKDIR /app\n",
    "ADD process_images_from_queue.py /app\n",
    "ADD style_transfer.py /app\n",
    "ADD main.py /app\n",
    "ADD util.py /app\n",
    "ADD requirements.txt /app\n",
    "\n",
    "RUN pip install --no-cache-dir -r requirements.txt\n",
    "\n",
    "CMD [\"python\", \"main.py\"]"
   ]
  },
  {
   "cell_type": "code",
   "execution_count": 91,
   "metadata": {},
   "outputs": [
    {
     "name": "stdout",
     "output_type": "stream",
     "text": [
      "Sending build context to Docker daemon  68.61kB\n",
      "Step 1/17 : FROM nvidia/cuda:9.0-cudnn7-devel-ubuntu16.04\n",
      " ---> f4f6aaaaa057\n",
      "Step 2/17 : RUN echo \"deb http://developer.download.nvidia.com/compute/machine-learning/repos/ubuntu1604/x86_64 /\" > /etc/apt/sources.list.d/nvidia-ml.list\n",
      " ---> Using cache\n",
      " ---> 4196af2ba86e\n",
      "Step 3/17 : RUN apt-get update && apt-get install -y --no-install-recommends         build-essential         ca-certificates         cmake         curl         git         nginx         supervisor         wget &&         rm -rf /var/lib/apt/lists/*\n",
      " ---> Using cache\n",
      " ---> 8ddcde9d280a\n",
      "Step 4/17 : ENV PYTHON_VERSION=3.6\n",
      " ---> Using cache\n",
      " ---> 5a047de1f83a\n",
      "Step 5/17 : RUN curl -o ~/miniconda.sh -O  https://repo.continuum.io/miniconda/Miniconda3-latest-Linux-x86_64.sh  &&     chmod +x ~/miniconda.sh &&     ~/miniconda.sh -b -p /opt/conda &&     rm ~/miniconda.sh &&     /opt/conda/bin/conda create -y --name py$PYTHON_VERSION python=$PYTHON_VERSION &&     /opt/conda/bin/conda clean -ya\n",
      " ---> Using cache\n",
      " ---> 42fd602eabaa\n",
      "Step 6/17 : ENV PATH /opt/conda/envs/py$PYTHON_VERSION/bin:$PATH\n",
      " ---> Using cache\n",
      " ---> e15ad65c7c32\n",
      "Step 7/17 : ENV LD_LIBRARY_PATH /opt/conda/envs/py$PYTHON_VERSION/lib:/usr/local/cuda/lib64/:$LD_LIBRARY_PATH\n",
      " ---> Using cache\n",
      " ---> 2281999563de\n",
      "Step 8/17 : ENV PYTHONPATH /code/:$PYTHONPATH\n",
      " ---> Using cache\n",
      " ---> e73919aaabd9\n",
      "Step 9/17 : RUN mkdir /app\n",
      " ---> Using cache\n",
      " ---> a586b032becf\n",
      "Step 10/17 : WORKDIR /app\n",
      " ---> Using cache\n",
      " ---> 379f3f867f7a\n",
      "Step 11/17 : ADD process_images_from_queue.py /app\n",
      " ---> Using cache\n",
      " ---> c35bdc5b7ebb\n",
      "Step 12/17 : ADD style_transfer.py /app\n",
      " ---> Using cache\n",
      " ---> 34f6e0d26ae3\n",
      "Step 13/17 : ADD main.py /app\n",
      " ---> 70d4c5fcd5f3\n",
      "Step 14/17 : ADD util.py /app\n",
      " ---> 9b8d93cdd925\n",
      "Step 15/17 : ADD requirements.txt /app\n",
      " ---> 778fe10eca2c\n",
      "Step 16/17 : RUN pip install --no-cache-dir -r requirements.txt\n",
      " ---> Running in 7f6852174a46\n",
      "Collecting azure==4.0.0 (from -r requirements.txt (line 1))\n",
      "  Downloading https://files.pythonhosted.org/packages/5a/5e/f94bd8091ab0ccc68ee902e188d4e8cd3b38dc77155a1c187cbf4767d0e4/azure-4.0.0-py2.py3-none-any.whl\n",
      "Collecting torch==0.4.1 (from -r requirements.txt (line 2))\n",
      "  Downloading https://files.pythonhosted.org/packages/49/0e/e382bcf1a6ae8225f50b99cc26effa2d4cc6d66975ccf3fa9590efcbedce/torch-0.4.1-cp36-cp36m-manylinux1_x86_64.whl (519.5MB)\n",
      "Collecting torchvision==0.2.1 (from -r requirements.txt (line 3))\n",
      "  Downloading https://files.pythonhosted.org/packages/ca/0d/f00b2885711e08bd71242ebe7b96561e6f6d01fdb4b9dcf4d37e2e13c5e1/torchvision-0.2.1-py2.py3-none-any.whl (54kB)\n",
      "Collecting azure-eventgrid~=1.1 (from azure==4.0.0->-r requirements.txt (line 1))\n",
      "  Downloading https://files.pythonhosted.org/packages/03/73/2880452058ce2ccaed5f358ad0c8c45e79cfd2725a8d5add17b12680aff5/azure_eventgrid-1.2.0-py2.py3-none-any.whl (84kB)\n",
      "Collecting azure-keyvault~=1.0 (from azure==4.0.0->-r requirements.txt (line 1))\n",
      "  Downloading https://files.pythonhosted.org/packages/80/37/e80f577570b32648c4b88c8c48a46501a4868ae4c8d905774fd02c2b01fc/azure_keyvault-1.1.0-py2.py3-none-any.whl (352kB)\n",
      "Collecting azure-servicebus~=0.21.1 (from azure==4.0.0->-r requirements.txt (line 1))\n",
      "  Downloading https://files.pythonhosted.org/packages/b8/de/47c0df32b57512ac9640ba239c7eeca22cb908bd8b645235729ec4f37196/azure_servicebus-0.21.1-py2.py3-none-any.whl\n",
      "Collecting azure-applicationinsights~=0.1.0 (from azure==4.0.0->-r requirements.txt (line 1))\n",
      "  Downloading https://files.pythonhosted.org/packages/3b/f7/3af9ce8a9a597998629436889cf5d69d1a0c96713e795fd372e4af785635/azure_applicationinsights-0.1.0-py2.py3-none-any.whl (104kB)\n",
      "Collecting azure-datalake-store~=0.0.18 (from azure==4.0.0->-r requirements.txt (line 1))\n",
      "  Downloading https://files.pythonhosted.org/packages/22/a8/f17cf020c246b19b102a3570761315bf7245a5b27a20973966c5ce6c4e97/azure_datalake_store-0.0.39-py2.py3-none-any.whl (51kB)\n",
      "Collecting azure-batch~=4.1 (from azure==4.0.0->-r requirements.txt (line 1))\n",
      "  Downloading https://files.pythonhosted.org/packages/b1/fa/1053b5dcd88e5de8e8cd70a4d7189ffad037542963ea86b518deb612c498/azure_batch-4.1.3-py2.py3-none-any.whl (314kB)\n",
      "Collecting azure-graphrbac~=0.40.0 (from azure==4.0.0->-r requirements.txt (line 1))\n",
      "  Downloading https://files.pythonhosted.org/packages/89/0a/29f7e2914033e2536026b8f0d7f8deb1edda68c9a93ce4757b2b1e39568b/azure_graphrbac-0.40.0-py2.py3-none-any.whl (63kB)\n",
      "Collecting azure-mgmt~=4.0 (from azure==4.0.0->-r requirements.txt (line 1))\n",
      "  Downloading https://files.pythonhosted.org/packages/19/8e/6fa401c437579127e726487582a9861fef09022c4ab50901bb499a8e4fc1/azure_mgmt-4.0.0-py2.py3-none-any.whl\n",
      "Collecting azure-cosmosdb-table~=1.0 (from azure==4.0.0->-r requirements.txt (line 1))\n",
      "  Downloading https://files.pythonhosted.org/packages/55/81/f57fea1cdab4490bc185e48a4db2451795fde37eb8fed1808e7e8fd2c99e/azure_cosmosdb_table-1.0.5-py2.py3-none-any.whl (80kB)\n",
      "Collecting azure-servicefabric~=6.3.0.0 (from azure==4.0.0->-r requirements.txt (line 1))\n",
      "  Downloading https://files.pythonhosted.org/packages/2c/d9/3e33ad19eb57988dff3aac06bab241736f86dc692a38c5ff6bb6fb959243/azure_servicefabric-6.3.0.0-py2.py3-none-any.whl (1.1MB)\n",
      "Collecting azure-storage-blob~=1.3 (from azure==4.0.0->-r requirements.txt (line 1))\n",
      "  Downloading https://files.pythonhosted.org/packages/f7/b7/9b20c39bf411e896d110d01f2551e6e7b397fde6eb06b07293fe29705d13/azure_storage_blob-1.4.0-py2.py3-none-any.whl (75kB)\n",
      "Collecting azure-storage-file~=1.3 (from azure==4.0.0->-r requirements.txt (line 1))\n",
      "  Downloading https://files.pythonhosted.org/packages/c9/33/6c611563412ffc409b2413ac50e3a063133ea235b86c137759774c77f3ad/azure_storage_file-1.4.0-py2.py3-none-any.whl\n",
      "Collecting azure-storage-queue~=1.3 (from azure==4.0.0->-r requirements.txt (line 1))\n",
      "  Downloading https://files.pythonhosted.org/packages/72/94/4db044f1c155b40c5ebc037bfd9d1c24562845692c06798fbe869fe160e6/azure_storage_queue-1.4.0-py2.py3-none-any.whl\n",
      "Collecting azure-servicemanagement-legacy~=0.20.6 (from azure==4.0.0->-r requirements.txt (line 1))\n",
      "  Downloading https://files.pythonhosted.org/packages/a3/2b/0813d459df7ec04bb8c6a250882ee88b672a5f8d16a237978c89436a053e/azure_servicemanagement_legacy-0.20.6-py2.py3-none-any.whl (78kB)\n",
      "Collecting azure-loganalytics~=0.1.0 (from azure==4.0.0->-r requirements.txt (line 1))\n",
      "  Downloading https://files.pythonhosted.org/packages/54/e2/1d30270441a50efce1d52eb426710fc98269eb8bdac44ee966bbd07846da/azure_loganalytics-0.1.0-py2.py3-none-any.whl\n",
      "Collecting six (from torchvision==0.2.1->-r requirements.txt (line 3))\n",
      "  Downloading https://files.pythonhosted.org/packages/73/fb/00a976f728d0d1fecfe898238ce23f502a721c0ac0ecfedb80e0d88c64e9/six-1.12.0-py2.py3-none-any.whl\n",
      "Collecting pillow>=4.1.1 (from torchvision==0.2.1->-r requirements.txt (line 3))\n",
      "  Downloading https://files.pythonhosted.org/packages/62/94/5430ebaa83f91cc7a9f687ff5238e26164a779cca2ef9903232268b0a318/Pillow-5.3.0-cp36-cp36m-manylinux1_x86_64.whl (2.0MB)\n",
      "Collecting numpy (from torchvision==0.2.1->-r requirements.txt (line 3))\n",
      "  Downloading https://files.pythonhosted.org/packages/ff/7f/9d804d2348471c67a7d8b5f84f9bc59fd1cefa148986f2b74552f8573555/numpy-1.15.4-cp36-cp36m-manylinux1_x86_64.whl (13.9MB)\n",
      "Collecting msrest>=0.5.0 (from azure-eventgrid~=1.1->azure==4.0.0->-r requirements.txt (line 1))\n",
      "  Downloading https://files.pythonhosted.org/packages/d5/40/70e545b7a5b0509273c6fe981118fb64e389fe013504b1c22a24fec4d1d9/msrest-0.6.2-py2.py3-none-any.whl (81kB)\n",
      "Collecting msrestazure<2.0.0,>=0.4.32 (from azure-eventgrid~=1.1->azure==4.0.0->-r requirements.txt (line 1))\n",
      "  Downloading https://files.pythonhosted.org/packages/62/6e/c41d6e2db39f4c6b819cea5b47c36c0fa0e7a931cd39b4c5f19713d28fd1/msrestazure-0.5.1-py2.py3-none-any.whl\n",
      "Collecting azure-common~=1.1 (from azure-eventgrid~=1.1->azure==4.0.0->-r requirements.txt (line 1))\n",
      "  Downloading https://files.pythonhosted.org/packages/ac/d3/055ce7ad06459a415ff9ca210e04c6cbb51bd6564815b7c8ac34bf5a1c39/azure_common-1.1.16-py2.py3-none-any.whl\n",
      "Collecting azure-nspkg>=2.0.0 (from azure-eventgrid~=1.1->azure==4.0.0->-r requirements.txt (line 1))\n",
      "  Downloading https://files.pythonhosted.org/packages/c4/0c/c562be95a9a2ed52454f598571cf300b1114d0db2aa27f5b8ed3bb9cd0c0/azure_nspkg-3.0.2-py3-none-any.whl\n",
      "Collecting cryptography>=2.1.4 (from azure-keyvault~=1.0->azure==4.0.0->-r requirements.txt (line 1))\n"
     ]
    },
    {
     "name": "stdout",
     "output_type": "stream",
     "text": [
      "  Downloading https://files.pythonhosted.org/packages/60/c7/99b33c53cf3f20a97a4c4bfd3ab66dcc93d99da0a97cc9597aa36ae6bb62/cryptography-2.4.2-cp34-abi3-manylinux1_x86_64.whl (2.1MB)\n",
      "Collecting requests>=2.18.4 (from azure-keyvault~=1.0->azure==4.0.0->-r requirements.txt (line 1))\n",
      "  Downloading https://files.pythonhosted.org/packages/7d/e3/20f3d364d6c8e5d2353c72a67778eb189176f08e873c9900e10c0287b84b/requests-2.21.0-py2.py3-none-any.whl (57kB)\n",
      "Collecting adal>=0.4.2 (from azure-datalake-store~=0.0.18->azure==4.0.0->-r requirements.txt (line 1))\n",
      "  Downloading https://files.pythonhosted.org/packages/2d/2f/14882b8dae0977e85577abde3065c141fb94dbb242adfb80e21797e4f7c9/adal-1.2.0-py2.py3-none-any.whl (52kB)\n",
      "Collecting cffi (from azure-datalake-store~=0.0.18->azure==4.0.0->-r requirements.txt (line 1))\n",
      "  Downloading https://files.pythonhosted.org/packages/6d/c0/47db8f624f3e4e2f3f27be03a93379d1ba16a1450a7b1aacfa0366e2c0dd/cffi-1.11.5-cp36-cp36m-manylinux1_x86_64.whl (421kB)\n",
      "Collecting azure-mgmt-resource~=2.0 (from azure-mgmt~=4.0->azure==4.0.0->-r requirements.txt (line 1))\n",
      "  Downloading https://files.pythonhosted.org/packages/2b/26/c0cb69dfac2e5b7125db034045b8bcf937cf1e8d3df2009a87c33d0959f5/azure_mgmt_resource-2.0.0-py2.py3-none-any.whl (698kB)\n",
      "Collecting azure-mgmt-signalr~=0.1.0 (from azure-mgmt~=4.0->azure==4.0.0->-r requirements.txt (line 1))\n",
      "  Downloading https://files.pythonhosted.org/packages/10/32/379137548a4c6e4dfd15da6b1c476f2b1af52e8d7fe243fdac9ea2064427/azure_mgmt_signalr-0.1.1-py2.py3-none-any.whl (49kB)\n",
      "Collecting azure-mgmt-advisor~=1.0 (from azure-mgmt~=4.0->azure==4.0.0->-r requirements.txt (line 1))\n",
      "  Downloading https://files.pythonhosted.org/packages/cb/f3/a86ba3e0784d12c8fe5cbf1f24e1b9255575a2f0892e08c46cddd0795dfd/azure_mgmt_advisor-1.0.1-py2.py3-none-any.whl\n",
      "Collecting azure-mgmt-machinelearningcompute~=0.4.1 (from azure-mgmt~=4.0->azure==4.0.0->-r requirements.txt (line 1))\n",
      "  Downloading https://files.pythonhosted.org/packages/b4/9c/f8eb81b307df4465809b182f2fe44c288eeb41c0ab54f91b61ac554998a9/azure_mgmt_machinelearningcompute-0.4.1-py2.py3-none-any.whl\n",
      "Collecting azure-mgmt-media~=1.0.0rc2 (from azure-mgmt~=4.0->azure==4.0.0->-r requirements.txt (line 1))\n",
      "  Downloading https://files.pythonhosted.org/packages/65/2e/6d9649bd5645ac32a179adfea5707f640fc51a57e493c27f0ab575789e85/azure_mgmt_media-1.0.0-py2.py3-none-any.whl (335kB)\n",
      "Collecting azure-mgmt-recoveryservices~=0.3.0 (from azure-mgmt~=4.0->azure==4.0.0->-r requirements.txt (line 1))\n",
      "  Downloading https://files.pythonhosted.org/packages/fd/7f/80327a27e03473101afb136e872279ad1386adf1bac14a58a9f839cd8352/azure_mgmt_recoveryservices-0.3.0-py2.py3-none-any.whl (70kB)\n",
      "Collecting azure-mgmt-dns~=2.0 (from azure-mgmt~=4.0->azure==4.0.0->-r requirements.txt (line 1))\n",
      "  Downloading https://files.pythonhosted.org/packages/c7/d7/0f986a64b06db93cf29b76f9a188f5778eb959624a00ed6aedc335ee58d2/azure_mgmt_dns-2.1.0-py2.py3-none-any.whl (134kB)\n",
      "Collecting azure-mgmt-datalake-analytics~=0.6.0 (from azure-mgmt~=4.0->azure==4.0.0->-r requirements.txt (line 1))\n",
      "  Downloading https://files.pythonhosted.org/packages/73/e7/5d909ef5812fc31f2871f3510ef43af93157ba51be03b6f798afba7a29d8/azure_mgmt_datalake_analytics-0.6.0-py2.py3-none-any.whl (288kB)\n",
      "Collecting azure-mgmt-trafficmanager~=0.50.0 (from azure-mgmt~=4.0->azure==4.0.0->-r requirements.txt (line 1))\n",
      "  Downloading https://files.pythonhosted.org/packages/ed/4f/c322d72dc92dde543471bc23f9ac0eb6b9d0dc2441bb5ce938250040e307/azure_mgmt_trafficmanager-0.50.0-py2.py3-none-any.whl (52kB)\n",
      "Collecting azure-mgmt-cdn~=3.0 (from azure-mgmt~=4.0->azure==4.0.0->-r requirements.txt (line 1))\n",
      "  Downloading https://files.pythonhosted.org/packages/ab/17/1684f274bd57ff81b0ac9000030d5796bf88c9735a093ba8b693c39ca6fd/azure_mgmt_cdn-3.0.0-py2.py3-none-any.whl (108kB)\n",
      "Collecting azure-mgmt-authorization~=0.50.0 (from azure-mgmt~=4.0->azure==4.0.0->-r requirements.txt (line 1))\n",
      "  Downloading https://files.pythonhosted.org/packages/6f/17/55b974603c16be89c7a7c16bac57b7bce48527bf1bebc3f116f7215176e6/azure_mgmt_authorization-0.50.0-py2.py3-none-any.whl (81kB)\n",
      "Collecting azure-mgmt-search~=2.0 (from azure-mgmt~=4.0->azure==4.0.0->-r requirements.txt (line 1))\n",
      "  Downloading https://files.pythonhosted.org/packages/e2/52/46a5984eca50393057d4e760b9ef4adc5d6b8738f333427632991c6f3739/azure_mgmt_search-2.0.0-py2.py3-none-any.whl\n",
      "Collecting azure-mgmt-msi~=0.2.0 (from azure-mgmt~=4.0->azure==4.0.0->-r requirements.txt (line 1))\n",
      "  Downloading https://files.pythonhosted.org/packages/ae/95/b451721e38ca0feddce03ee3ce86158e208d0150253bd371207a8df4e9c5/azure_mgmt_msi-0.2.0-py2.py3-none-any.whl\n",
      "Collecting azure-mgmt-recoveryservicesbackup~=0.3.0 (from azure-mgmt~=4.0->azure==4.0.0->-r requirements.txt (line 1))\n",
      "  Downloading https://files.pythonhosted.org/packages/c5/af/13b10d76bc0ff9188c9e5cd9f2726a5745029b76125938491f9abac5399d/azure_mgmt_recoveryservicesbackup-0.3.0-py2.py3-none-any.whl (568kB)\n",
      "Collecting azure-mgmt-containerinstance~=1.0 (from azure-mgmt~=4.0->azure==4.0.0->-r requirements.txt (line 1))\n",
      "  Downloading https://files.pythonhosted.org/packages/77/50/f7f419e0ac788d41d080d5f25daf988b993063aab3bfd90def54e93e72d7/azure_mgmt_containerinstance-1.4.0-py2.py3-none-any.whl (87kB)\n",
      "Collecting azure-mgmt-iothubprovisioningservices~=0.2.0 (from azure-mgmt~=4.0->azure==4.0.0->-r requirements.txt (line 1))\n",
      "  Downloading https://files.pythonhosted.org/packages/84/ce/3500c731a5c5b31028e662aa41bc45f75301834a0c03adeacfe7ef7bd86e/azure_mgmt_iothubprovisioningservices-0.2.0-py2.py3-none-any.whl (60kB)\n",
      "Collecting azure-mgmt-cognitiveservices~=3.0 (from azure-mgmt~=4.0->azure==4.0.0->-r requirements.txt (line 1))\n",
      "  Downloading https://files.pythonhosted.org/packages/8d/c8/222ea2f533c6b8f8656f3091101b4c3aa32c162d2a609d07d1ae00172515/azure_mgmt_cognitiveservices-3.0.0-py2.py3-none-any.whl (58kB)\n",
      "Collecting azure-mgmt-relay~=0.1.0 (from azure-mgmt~=4.0->azure==4.0.0->-r requirements.txt (line 1))\n",
      "  Downloading https://files.pythonhosted.org/packages/00/f7/f5c72bd19829cfaf9f070ec294c901ad7f98835ba9560fdad652afb1071f/azure_mgmt_relay-0.1.0-py2.py3-none-any.whl\n",
      "Collecting azure-mgmt-redis~=5.0 (from azure-mgmt~=4.0->azure==4.0.0->-r requirements.txt (line 1))\n",
      "  Downloading https://files.pythonhosted.org/packages/90/a7/42342a984b2916972c5c5e24df94e3cd5e4377a8dc465a83415706d9be6f/azure_mgmt_redis-5.0.0-py2.py3-none-any.whl (43kB)\n",
      "Collecting azure-mgmt-batch~=5.0 (from azure-mgmt~=4.0->azure==4.0.0->-r requirements.txt (line 1))\n",
      "  Downloading https://files.pythonhosted.org/packages/97/81/a9eb3fd2ab070159105b4cfe9640c24410ac8195286729d62bfdf871de94/azure_mgmt_batch-5.0.1-py2.py3-none-any.whl (87kB)\n",
      "Collecting azure-mgmt-devtestlabs~=2.2 (from azure-mgmt~=4.0->azure==4.0.0->-r requirements.txt (line 1))\n",
      "  Downloading https://files.pythonhosted.org/packages/2f/93/a64abaede2fc6a52476af8ceab9cedb368c49e948d9385cbe7cd4ce5ffff/azure_mgmt_devtestlabs-2.2.0-py2.py3-none-any.whl (194kB)\n",
      "Collecting azure-mgmt-iotcentral~=0.1.0 (from azure-mgmt~=4.0->azure==4.0.0->-r requirements.txt (line 1))\n",
      "  Downloading https://files.pythonhosted.org/packages/58/4e/e2e5f2d545a46ada3705c85c45c12882a443d40f60e1a908c78058e15cf2/azure_mgmt_iotcentral-0.1.0-py2.py3-none-any.whl\n",
      "Collecting azure-mgmt-web~=0.35.0 (from azure-mgmt~=4.0->azure==4.0.0->-r requirements.txt (line 1))\n",
      "  Downloading https://files.pythonhosted.org/packages/21/04/3f2622720664c972d927fd9e58c0066e998739b7891649207765be674126/azure_mgmt_web-0.35.0-py2.py3-none-any.whl (358kB)\n",
      "Collecting azure-mgmt-iothub~=0.5.0 (from azure-mgmt~=4.0->azure==4.0.0->-r requirements.txt (line 1))\n",
      "  Downloading https://files.pythonhosted.org/packages/19/d6/b422df467b3d7f4e2975b590fbf6e12aaae0a497c7d080b4955a6a6d794a/azure_mgmt_iothub-0.5.0-py2.py3-none-any.whl (102kB)\n",
      "Collecting azure-mgmt-hanaonazure~=0.1.1 (from azure-mgmt~=4.0->azure==4.0.0->-r requirements.txt (line 1))\n",
      "  Downloading https://files.pythonhosted.org/packages/f3/1b/50d300ae02158ab092f923132050b56c148f1b784c7b594d3275d4449769/azure_mgmt_hanaonazure-0.1.1-py2.py3-none-any.whl\n",
      "Collecting azure-mgmt-managementgroups~=0.1.0 (from azure-mgmt~=4.0->azure==4.0.0->-r requirements.txt (line 1))\n",
      "  Downloading https://files.pythonhosted.org/packages/f2/50/591adac2a6cd8d77cccd38bdf5d177ad6a2e95b9217daa9a60b5d86de5cd/azure_mgmt_managementgroups-0.1.0-py2.py3-none-any.whl (59kB)\n"
     ]
    },
    {
     "name": "stdout",
     "output_type": "stream",
     "text": [
      "Collecting azure-mgmt-notificationhubs~=2.0 (from azure-mgmt~=4.0->azure==4.0.0->-r requirements.txt (line 1))\n",
      "  Downloading https://files.pythonhosted.org/packages/b1/7f/283067cf30dd72707bbdfa608838509663328e533d7e362f7630c785679c/azure_mgmt_notificationhubs-2.0.0-py2.py3-none-any.whl (71kB)\n",
      "Collecting azure-mgmt-marketplaceordering~=0.1.0 (from azure-mgmt~=4.0->azure==4.0.0->-r requirements.txt (line 1))\n",
      "  Downloading https://files.pythonhosted.org/packages/a8/cb/13502fdbaf520d08fb280eb31ecfe5d926b9cf92259c22280bbde96b307d/azure_mgmt_marketplaceordering-0.1.0-py2.py3-none-any.whl\n",
      "Collecting azure-mgmt-containerregistry~=2.1 (from azure-mgmt~=4.0->azure==4.0.0->-r requirements.txt (line 1))\n",
      "  Downloading https://files.pythonhosted.org/packages/fd/70/314fd97e8ea1d324f1f692cd06aa306f79e21500ba8248059dd3483ba14a/azure_mgmt_containerregistry-2.5.0-py2.py3-none-any.whl (494kB)\n",
      "Collecting azure-mgmt-consumption~=2.0 (from azure-mgmt~=4.0->azure==4.0.0->-r requirements.txt (line 1))\n",
      "  Downloading https://files.pythonhosted.org/packages/11/f4/2db9557494dfb17ff3edeae5726981143a7baace17df3712b189e343bd8c/azure_mgmt_consumption-2.0.0-py2.py3-none-any.whl (46kB)\n",
      "Collecting azure-mgmt-datamigration~=1.0 (from azure-mgmt~=4.0->azure==4.0.0->-r requirements.txt (line 1))\n",
      "  Downloading https://files.pythonhosted.org/packages/8b/4f/7b149487e77d94e701288e1d0b066a7d522bdfe8595e992b5d39dfb00f80/azure_mgmt_datamigration-1.0.0-py2.py3-none-any.whl (185kB)\n",
      "Collecting azure-mgmt-managementpartner~=0.1.0 (from azure-mgmt~=4.0->azure==4.0.0->-r requirements.txt (line 1))\n",
      "  Downloading https://files.pythonhosted.org/packages/98/4c/df713fcdc3710dca74b375c968b17b479c64ef19965e15b478def074a4ce/azure_mgmt_managementpartner-0.1.0-py2.py3-none-any.whl\n",
      "Collecting azure-mgmt-reservations~=0.2.1 (from azure-mgmt~=4.0->azure==4.0.0->-r requirements.txt (line 1))\n",
      "  Downloading https://files.pythonhosted.org/packages/a9/2b/e0edb8dbe85e447005cde508b869e564f58270f631219f036d8ab71184f9/azure_mgmt_reservations-0.2.1-py2.py3-none-any.whl (50kB)\n",
      "Collecting azure-mgmt-devspaces~=0.1.0 (from azure-mgmt~=4.0->azure==4.0.0->-r requirements.txt (line 1))\n",
      "  Downloading https://files.pythonhosted.org/packages/f4/d3/ff9c39578f24fb4bd158a882788c7795b177cf3f23ce7cf1d8b52066a64e/azure_mgmt_devspaces-0.1.0-py2.py3-none-any.whl\n",
      "Collecting azure-mgmt-scheduler~=2.0 (from azure-mgmt~=4.0->azure==4.0.0->-r requirements.txt (line 1))\n",
      "  Downloading https://files.pythonhosted.org/packages/e8/55/f3490698ff622244438e667e0321808e84389e69c5fb77a1d6db869d9bb7/azure_mgmt_scheduler-2.0.0-py2.py3-none-any.whl (67kB)\n",
      "Collecting azure-mgmt-sql~=0.9.1 (from azure-mgmt~=4.0->azure==4.0.0->-r requirements.txt (line 1))\n",
      "  Downloading https://files.pythonhosted.org/packages/c5/bb/219c76af961e9e6d1f5055d70c3cc06889b91375727a04367149c3aad640/azure_mgmt_sql-0.9.1-py2.py3-none-any.whl (485kB)\n",
      "Collecting azure-mgmt-logic~=3.0 (from azure-mgmt~=4.0->azure==4.0.0->-r requirements.txt (line 1))\n",
      "  Downloading https://files.pythonhosted.org/packages/88/98/693c515e97043520f5cebf1ecae7bf198df100f5f9870b53d4be3bcaa5ce/azure_mgmt_logic-3.0.0-py2.py3-none-any.whl (303kB)\n",
      "Collecting azure-mgmt-billing~=0.2.0 (from azure-mgmt~=4.0->azure==4.0.0->-r requirements.txt (line 1))\n",
      "  Downloading https://files.pythonhosted.org/packages/0f/24/5106287ea0f6562d965afb055e3c6c0da058f7844a70464e67bab56c6c4b/azure_mgmt_billing-0.2.0-py2.py3-none-any.whl\n",
      "Collecting azure-mgmt-monitor~=0.5.2 (from azure-mgmt~=4.0->azure==4.0.0->-r requirements.txt (line 1))\n",
      "  Downloading https://files.pythonhosted.org/packages/6a/3b/a8b95ee25f1c209ad82ad06de39f4efbfb9dc8a8dc5da5a7a48d7897bf3e/azure_mgmt_monitor-0.5.2-py2.py3-none-any.whl (247kB)\n",
      "Collecting azure-mgmt-applicationinsights~=0.1.1 (from azure-mgmt~=4.0->azure==4.0.0->-r requirements.txt (line 1))\n",
      "  Downloading https://files.pythonhosted.org/packages/30/61/1d95a5ef3a9119a0d375d8670129375515de20e20409612e9671c99bd19f/azure_mgmt_applicationinsights-0.1.1-py2.py3-none-any.whl (42kB)\n",
      "Collecting azure-mgmt-batchai~=2.0 (from azure-mgmt~=4.0->azure==4.0.0->-r requirements.txt (line 1))\n",
      "  Downloading https://files.pythonhosted.org/packages/d9/a5/ab796c2a490155c14f9ac4240724ca5c56723315d4dc753030712e6f2e80/azure_mgmt_batchai-2.0.0-py2.py3-none-any.whl (174kB)\n",
      "Collecting azure-mgmt-datalake-store~=0.5.0 (from azure-mgmt~=4.0->azure==4.0.0->-r requirements.txt (line 1))\n",
      "  Downloading https://files.pythonhosted.org/packages/ff/ac/5685cd06dc8b245bb6b894815764a14bd62245ba4579b45148682f510fdd/azure_mgmt_datalake_store-0.5.0-py2.py3-none-any.whl (88kB)\n",
      "Collecting azure-mgmt-eventgrid~=1.0 (from azure-mgmt~=4.0->azure==4.0.0->-r requirements.txt (line 1))\n",
      "  Downloading https://files.pythonhosted.org/packages/54/5b/e91e616021ae9be0019c9c19cffb92b97d787246ca51cfcc0b0a0c6da77a/azure_mgmt_eventgrid-1.0.0-py2.py3-none-any.whl (51kB)\n",
      "Collecting azure-mgmt-datafactory~=0.6.0 (from azure-mgmt~=4.0->azure==4.0.0->-r requirements.txt (line 1))\n",
      "  Downloading https://files.pythonhosted.org/packages/cf/01/32a6ad5ad348d965f7c106d819a1f6dc613f6aa98a720ffc529ef468016b/azure_mgmt_datafactory-0.6.0-py2.py3-none-any.whl (418kB)\n",
      "Collecting azure-mgmt-servicefabric~=0.2.0 (from azure-mgmt~=4.0->azure==4.0.0->-r requirements.txt (line 1))\n",
      "  Downloading https://files.pythonhosted.org/packages/6e/06/fafe8b5d881cfa68927e61557c8419dcfacb93e07f4ab17cc60959707a53/azure_mgmt_servicefabric-0.2.0-py2.py3-none-any.whl (142kB)\n",
      "Collecting azure-mgmt-network~=2.0 (from azure-mgmt~=4.0->azure==4.0.0->-r requirements.txt (line 1))\n",
      "  Downloading https://files.pythonhosted.org/packages/c4/79/69f3860794e7c84bcf02deb6567901080884eb53da4838ae4d15aefe0718/azure_mgmt_network-2.4.0-py2.py3-none-any.whl (8.7MB)\n",
      "Collecting azure-mgmt-commerce~=1.0 (from azure-mgmt~=4.0->azure==4.0.0->-r requirements.txt (line 1))\n",
      "  Downloading https://files.pythonhosted.org/packages/7e/13/f421e77dd1fe3c9657a890f9c085f433fe422f54003ee03e631a8be5c4e7/azure_mgmt_commerce-1.0.1-py2.py3-none-any.whl\n",
      "Collecting azure-mgmt-eventhub~=2.1 (from azure-mgmt~=4.0->azure==4.0.0->-r requirements.txt (line 1))\n",
      "  Downloading https://files.pythonhosted.org/packages/ad/bf/2f455fc65898b99f9a504de508f81cbf73d0797b3233a15bf7a1d2ff6606/azure_mgmt_eventhub-2.2.0-py2.py3-none-any.whl (67kB)\n",
      "Collecting azure-mgmt-maps~=0.1.0 (from azure-mgmt~=4.0->azure==4.0.0->-r requirements.txt (line 1))\n",
      "  Downloading https://files.pythonhosted.org/packages/e4/04/c64326729e842f3eab1fd527f7582e269e4b0e5b9324a4562edaf0371953/azure_mgmt_maps-0.1.0-py2.py3-none-any.whl\n",
      "Collecting azure-mgmt-policyinsights~=0.1.0 (from azure-mgmt~=4.0->azure==4.0.0->-r requirements.txt (line 1))\n",
      "  Downloading https://files.pythonhosted.org/packages/19/84/7021951ae69572a19af0ff9cca1d2abf3542d35af38796656ded1be08358/azure_mgmt_policyinsights-0.1.0-py2.py3-none-any.whl (44kB)\n",
      "Collecting azure-mgmt-cosmosdb~=0.4.1 (from azure-mgmt~=4.0->azure==4.0.0->-r requirements.txt (line 1))\n",
      "  Downloading https://files.pythonhosted.org/packages/17/ed/d97a04c8c26e2432f2cf000b711daeb053e1cfbdb046bd5d070c941b4fcb/azure_mgmt_cosmosdb-0.4.1-py2.py3-none-any.whl (100kB)\n",
      "Collecting azure-mgmt-powerbiembedded~=2.0 (from azure-mgmt~=4.0->azure==4.0.0->-r requirements.txt (line 1))\n",
      "  Downloading https://files.pythonhosted.org/packages/64/2b/5a69d118626a83055ce577fb6ba35c114e72f0273d0c4d943b909ee8d51e/azure_mgmt_powerbiembedded-2.0.0-py2.py3-none-any.whl\n",
      "Collecting azure-mgmt-loganalytics~=0.2.0 (from azure-mgmt~=4.0->azure==4.0.0->-r requirements.txt (line 1))\n",
      "  Downloading https://files.pythonhosted.org/packages/70/40/c9b77bf82916e963aa701fb396673f7ddc4cdab95524b6d2edf927b05630/azure_mgmt_loganalytics-0.2.0-py2.py3-none-any.whl (89kB)\n",
      "Collecting azure-mgmt-keyvault~=1.0 (from azure-mgmt~=4.0->azure==4.0.0->-r requirements.txt (line 1))\n",
      "  Downloading https://files.pythonhosted.org/packages/49/de/0d69aedae7c5f6428314640b65947203ab80409c12b5d4e66fb5b7a4182e/azure_mgmt_keyvault-1.1.0-py2.py3-none-any.whl (111kB)\n",
      "Collecting azure-mgmt-servicebus~=0.5.1 (from azure-mgmt~=4.0->azure==4.0.0->-r requirements.txt (line 1))\n",
      "  Downloading https://files.pythonhosted.org/packages/28/ad/9e90f8bab40a9682410e57ed08a799be113c5e470bec247b099038c6389e/azure_mgmt_servicebus-0.5.3-py2.py3-none-any.whl (112kB)\n"
     ]
    },
    {
     "name": "stdout",
     "output_type": "stream",
     "text": [
      "Collecting azure-mgmt-storage~=2.0 (from azure-mgmt~=4.0->azure==4.0.0->-r requirements.txt (line 1))\n",
      "  Downloading https://files.pythonhosted.org/packages/67/5b/15e6a8109af53e4c2228142ea816532036700757d035fc1b9cd0f6a63b02/azure_mgmt_storage-2.0.0-py2.py3-none-any.whl (558kB)\n",
      "Collecting azure-mgmt-subscription~=0.2.0 (from azure-mgmt~=4.0->azure==4.0.0->-r requirements.txt (line 1))\n",
      "  Downloading https://files.pythonhosted.org/packages/27/72/f63f72d9c27659f96aae287f7ba67c9ba2877213c2c10d8b797e0dee5059/azure_mgmt_subscription-0.2.0-py2.py3-none-any.whl (40kB)\n",
      "Collecting azure-mgmt-containerservice~=4.2 (from azure-mgmt~=4.0->azure==4.0.0->-r requirements.txt (line 1))\n",
      "  Downloading https://files.pythonhosted.org/packages/19/2f/7ca5cc006337d8c9e80d608b1488ded6b525a92f6c9d787c9c807ba5a226/azure_mgmt_containerservice-4.2.2-py2.py3-none-any.whl (84kB)\n",
      "Collecting azure-mgmt-rdbms~=1.2 (from azure-mgmt~=4.0->azure==4.0.0->-r requirements.txt (line 1))\n",
      "  Downloading https://files.pythonhosted.org/packages/0c/74/802ef2de77c77d40cdecd99ac041e42758941a237cbc70332e626ab90a15/azure_mgmt_rdbms-1.5.0-py2.py3-none-any.whl (249kB)\n",
      "Collecting azure-mgmt-compute~=4.0 (from azure-mgmt~=4.0->azure==4.0.0->-r requirements.txt (line 1))\n",
      "  Downloading https://files.pythonhosted.org/packages/04/0e/f7cca354632c89e96e33f2773e86b6174648e7c7f0cad837e583b51450a2/azure_mgmt_compute-4.3.1-py2.py3-none-any.whl (2.5MB)\n",
      "Collecting azure-cosmosdb-nspkg>=2.0.0 (from azure-cosmosdb-table~=1.0->azure==4.0.0->-r requirements.txt (line 1))\n",
      "  Downloading https://files.pythonhosted.org/packages/58/0d/1329b47e5386b0acf4e42ada2284851eff60ef3337a87e5b2dfedabbfcb1/azure_cosmosdb_nspkg-2.0.2-py2.py3-none-any.whl\n",
      "Collecting python-dateutil (from azure-cosmosdb-table~=1.0->azure==4.0.0->-r requirements.txt (line 1))\n",
      "  Downloading https://files.pythonhosted.org/packages/74/68/d87d9b36af36f44254a8d512cbfc48369103a3b9e474be9bdfe536abfc45/python_dateutil-2.7.5-py2.py3-none-any.whl (225kB)\n",
      "Collecting azure-storage-common~=1.1 (from azure-cosmosdb-table~=1.0->azure==4.0.0->-r requirements.txt (line 1))\n",
      "  Downloading https://files.pythonhosted.org/packages/73/84/025ac436a6a1d5516d1a67887d7122b3b2ea04ba6b2d2c46fe949accb62b/azure_storage_common-1.4.0-py2.py3-none-any.whl (46kB)\n",
      "Requirement already satisfied: certifi>=2017.4.17 in /opt/conda/envs/py3.6/lib/python3.6/site-packages (from msrest>=0.5.0->azure-eventgrid~=1.1->azure==4.0.0->-r requirements.txt (line 1)) (2018.10.15)\n",
      "Collecting isodate>=0.6.0 (from msrest>=0.5.0->azure-eventgrid~=1.1->azure==4.0.0->-r requirements.txt (line 1))\n",
      "  Downloading https://files.pythonhosted.org/packages/9b/9f/b36f7774ff5ea8e428fdcfc4bb332c39ee5b9362ddd3d40d9516a55221b2/isodate-0.6.0-py2.py3-none-any.whl (45kB)\n",
      "Collecting requests-oauthlib>=0.5.0 (from msrest>=0.5.0->azure-eventgrid~=1.1->azure==4.0.0->-r requirements.txt (line 1))\n",
      "  Downloading https://files.pythonhosted.org/packages/94/e7/c250d122992e1561690d9c0f7856dadb79d61fd4bdd0e598087dce607f6c/requests_oauthlib-1.0.0-py2.py3-none-any.whl\n",
      "Collecting asn1crypto>=0.21.0 (from cryptography>=2.1.4->azure-keyvault~=1.0->azure==4.0.0->-r requirements.txt (line 1))\n",
      "  Downloading https://files.pythonhosted.org/packages/ea/cd/35485615f45f30a510576f1a56d1e0a7ad7bd8ab5ed7cdc600ef7cd06222/asn1crypto-0.24.0-py2.py3-none-any.whl (101kB)\n",
      "Collecting idna>=2.1 (from cryptography>=2.1.4->azure-keyvault~=1.0->azure==4.0.0->-r requirements.txt (line 1))\n",
      "  Downloading https://files.pythonhosted.org/packages/14/2c/cd551d81dbe15200be1cf41cd03869a46fe7226e7450af7a6545bfc474c9/idna-2.8-py2.py3-none-any.whl (58kB)\n",
      "Collecting urllib3<1.25,>=1.21.1 (from requests>=2.18.4->azure-keyvault~=1.0->azure==4.0.0->-r requirements.txt (line 1))\n",
      "  Downloading https://files.pythonhosted.org/packages/62/00/ee1d7de624db8ba7090d1226aebefab96a2c71cd5cfa7629d6ad3f61b79e/urllib3-1.24.1-py2.py3-none-any.whl (118kB)\n",
      "Collecting chardet<3.1.0,>=3.0.2 (from requests>=2.18.4->azure-keyvault~=1.0->azure==4.0.0->-r requirements.txt (line 1))\n",
      "  Downloading https://files.pythonhosted.org/packages/bc/a9/01ffebfb562e4274b6487b4bb1ddec7ca55ec7510b22e4c51f14098443b8/chardet-3.0.4-py2.py3-none-any.whl (133kB)\n",
      "Collecting PyJWT>=1.0.0 (from adal>=0.4.2->azure-datalake-store~=0.0.18->azure==4.0.0->-r requirements.txt (line 1))\n",
      "  Downloading https://files.pythonhosted.org/packages/87/8b/6a9f14b5f781697e51259d81657e6048fd31a113229cf346880bb7545565/PyJWT-1.7.1-py2.py3-none-any.whl\n",
      "Collecting pycparser (from cffi->azure-datalake-store~=0.0.18->azure==4.0.0->-r requirements.txt (line 1))\n",
      "  Downloading https://files.pythonhosted.org/packages/68/9e/49196946aee219aead1290e00d1e7fdeab8567783e83e1b9ab5585e6206a/pycparser-2.19.tar.gz (158kB)\n",
      "Collecting azure-mgmt-nspkg>=2.0.0 (from azure-mgmt-resource~=2.0->azure-mgmt~=4.0->azure==4.0.0->-r requirements.txt (line 1))\n",
      "  Downloading https://files.pythonhosted.org/packages/b3/c2/af4b47845f27dc7d206ed4908b9e580f8bc94a4b2f3956a0d87c40719d90/azure_mgmt_nspkg-3.0.2-py3-none-any.whl\n",
      "Collecting azure-mgmt-datalake-nspkg>=2.0.0 (from azure-mgmt-datalake-analytics~=0.6.0->azure-mgmt~=4.0->azure==4.0.0->-r requirements.txt (line 1))\n",
      "  Downloading https://files.pythonhosted.org/packages/48/3d/c65a520d93448923a96784582a0deafaae096cb37b444ae5d63b57f0562d/azure_mgmt_datalake_nspkg-3.0.1-py3-none-any.whl\n",
      "Collecting oauthlib>=0.6.2 (from requests-oauthlib>=0.5.0->msrest>=0.5.0->azure-eventgrid~=1.1->azure==4.0.0->-r requirements.txt (line 1))\n",
      "  Downloading https://files.pythonhosted.org/packages/e6/d1/ddd9cfea3e736399b97ded5c2dd62d1322adef4a72d816f1ed1049d6a179/oauthlib-2.1.0-py2.py3-none-any.whl (121kB)\n",
      "Installing collected packages: urllib3, chardet, idna, requests, six, isodate, oauthlib, requests-oauthlib, msrest, python-dateutil, PyJWT, pycparser, cffi, asn1crypto, cryptography, adal, msrestazure, azure-common, azure-nspkg, azure-eventgrid, azure-keyvault, azure-servicebus, azure-applicationinsights, azure-datalake-store, azure-batch, azure-graphrbac, azure-mgmt-nspkg, azure-mgmt-resource, azure-mgmt-signalr, azure-mgmt-advisor, azure-mgmt-machinelearningcompute, azure-mgmt-media, azure-mgmt-recoveryservices, azure-mgmt-dns, azure-mgmt-datalake-nspkg, azure-mgmt-datalake-analytics, azure-mgmt-trafficmanager, azure-mgmt-cdn, azure-mgmt-authorization, azure-mgmt-search, azure-mgmt-msi, azure-mgmt-recoveryservicesbackup, azure-mgmt-containerinstance, azure-mgmt-iothubprovisioningservices, azure-mgmt-cognitiveservices, azure-mgmt-relay, azure-mgmt-redis, azure-mgmt-batch, azure-mgmt-devtestlabs, azure-mgmt-iotcentral, azure-mgmt-web, azure-mgmt-iothub, azure-mgmt-hanaonazure, azure-mgmt-managementgroups, azure-mgmt-notificationhubs, azure-mgmt-marketplaceordering, azure-mgmt-containerregistry, azure-mgmt-consumption, azure-mgmt-datamigration, azure-mgmt-managementpartner, azure-mgmt-reservations, azure-mgmt-devspaces, azure-mgmt-scheduler, azure-mgmt-sql, azure-mgmt-logic, azure-mgmt-billing, azure-mgmt-monitor, azure-mgmt-applicationinsights, azure-mgmt-batchai, azure-mgmt-datalake-store, azure-mgmt-eventgrid, azure-mgmt-datafactory, azure-mgmt-servicefabric, azure-mgmt-network, azure-mgmt-commerce, azure-mgmt-eventhub, azure-mgmt-maps, azure-mgmt-policyinsights, azure-mgmt-cosmosdb, azure-mgmt-powerbiembedded, azure-mgmt-loganalytics, azure-mgmt-keyvault, azure-mgmt-servicebus, azure-mgmt-storage, azure-mgmt-subscription, azure-mgmt-containerservice, azure-mgmt-rdbms, azure-mgmt-compute, azure-mgmt, azure-cosmosdb-nspkg, azure-storage-common, azure-cosmosdb-table, azure-servicefabric, azure-storage-blob, azure-storage-file, azure-storage-queue, azure-servicemanagement-legacy, azure-loganalytics, azure, torch, pillow, numpy, torchvision\n",
      "  Running setup.py install for pycparser: started\n",
      "    Running setup.py install for pycparser: finished with status 'done'\n",
      "Successfully installed PyJWT-1.7.1 adal-1.2.0 asn1crypto-0.24.0 azure-4.0.0 azure-applicationinsights-0.1.0 azure-batch-4.1.3 azure-common-1.1.16 azure-cosmosdb-nspkg-2.0.2 azure-cosmosdb-table-1.0.5 azure-datalake-store-0.0.39 azure-eventgrid-1.2.0 azure-graphrbac-0.40.0 azure-keyvault-1.1.0 azure-loganalytics-0.1.0 azure-mgmt-4.0.0 azure-mgmt-advisor-1.0.1 azure-mgmt-applicationinsights-0.1.1 azure-mgmt-authorization-0.50.0 azure-mgmt-batch-5.0.1 azure-mgmt-batchai-2.0.0 azure-mgmt-billing-0.2.0 azure-mgmt-cdn-3.0.0 azure-mgmt-cognitiveservices-3.0.0 azure-mgmt-commerce-1.0.1 azure-mgmt-compute-4.3.1 azure-mgmt-consumption-2.0.0 azure-mgmt-containerinstance-1.4.0 azure-mgmt-containerregistry-2.5.0 azure-mgmt-containerservice-4.2.2 azure-mgmt-cosmosdb-0.4.1 azure-mgmt-datafactory-0.6.0 azure-mgmt-datalake-analytics-0.6.0 azure-mgmt-datalake-nspkg-3.0.1 azure-mgmt-datalake-store-0.5.0 azure-mgmt-datamigration-1.0.0 azure-mgmt-devspaces-0.1.0 azure-mgmt-devtestlabs-2.2.0 azure-mgmt-dns-2.1.0 azure-mgmt-eventgrid-1.0.0 azure-mgmt-eventhub-2.2.0 azure-mgmt-hanaonazure-0.1.1 azure-mgmt-iotcentral-0.1.0 azure-mgmt-iothub-0.5.0 azure-mgmt-iothubprovisioningservices-0.2.0 azure-mgmt-keyvault-1.1.0 azure-mgmt-loganalytics-0.2.0 azure-mgmt-logic-3.0.0 azure-mgmt-machinelearningcompute-0.4.1 azure-mgmt-managementgroups-0.1.0 azure-mgmt-managementpartner-0.1.0 azure-mgmt-maps-0.1.0 azure-mgmt-marketplaceordering-0.1.0 azure-mgmt-media-1.0.0 azure-mgmt-monitor-0.5.2 azure-mgmt-msi-0.2.0 azure-mgmt-network-2.4.0 azure-mgmt-notificationhubs-2.0.0 azure-mgmt-nspkg-3.0.2 azure-mgmt-policyinsights-0.1.0 azure-mgmt-powerbiembedded-2.0.0 azure-mgmt-rdbms-1.5.0 azure-mgmt-recoveryservices-0.3.0 azure-mgmt-recoveryservicesbackup-0.3.0 azure-mgmt-redis-5.0.0 azure-mgmt-relay-0.1.0 azure-mgmt-reservations-0.2.1 azure-mgmt-resource-2.0.0 azure-mgmt-scheduler-2.0.0 azure-mgmt-search-2.0.0 azure-mgmt-servicebus-0.5.3 azure-mgmt-servicefabric-0.2.0 azure-mgmt-signalr-0.1.1 azure-mgmt-sql-0.9.1 azure-mgmt-storage-2.0.0 azure-mgmt-subscription-0.2.0 azure-mgmt-trafficmanager-0.50.0 azure-mgmt-web-0.35.0 azure-nspkg-3.0.2 azure-servicebus-0.21.1 azure-servicefabric-6.3.0.0 azure-servicemanagement-legacy-0.20.6 azure-storage-blob-1.4.0 azure-storage-common-1.4.0 azure-storage-file-1.4.0 azure-storage-queue-1.4.0 cffi-1.11.5 chardet-3.0.4 cryptography-2.4.2 idna-2.8 isodate-0.6.0 msrest-0.6.2 msrestazure-0.5.1 numpy-1.15.4 oauthlib-2.1.0 pillow-5.3.0 pycparser-2.19 python-dateutil-2.7.5 requests-2.21.0 requests-oauthlib-1.0.0 six-1.12.0 torch-0.4.1 torchvision-0.2.1 urllib3-1.24.1\n"
     ]
    },
    {
     "name": "stdout",
     "output_type": "stream",
     "text": [
      "Removing intermediate container 7f6852174a46\n",
      " ---> d8f41550c481\n",
      "Step 17/17 : CMD [\"python\", \"main.py\"]\n",
      " ---> Running in c4251769a49d\n",
      "Removing intermediate container c4251769a49d\n",
      " ---> 0adaa5640104\n",
      "Successfully built 0adaa5640104\n",
      "Successfully tagged batchscoringdl_aks_app:latest\n"
     ]
    }
   ],
   "source": [
    "!sudo docker build -t {get_key(env_path, \"AKS_IMAGE\")} aks"
   ]
  },
  {
   "cell_type": "markdown",
   "metadata": {},
   "source": [
    "Tag and push docker image"
   ]
  },
  {
   "cell_type": "code",
   "execution_count": 92,
   "metadata": {},
   "outputs": [],
   "source": [
    "repo = \"{}/{}\".format(get_key(env_path, \"DOCKER_LOGIN\"), get_key(env_path, \"AKS_IMAGE\"))"
   ]
  },
  {
   "cell_type": "code",
   "execution_count": 93,
   "metadata": {},
   "outputs": [],
   "source": [
    "!sudo docker tag {get_key(env_path, \"AKS_IMAGE\")} {repo}"
   ]
  },
  {
   "cell_type": "code",
   "execution_count": 94,
   "metadata": {},
   "outputs": [
    {
     "name": "stdout",
     "output_type": "stream",
     "text": [
      "The push refers to repository [docker.io/jiata/batchscoringdl_aks_app]\n",
      "\n",
      "\u001b[1B72857cc6: Preparing \n",
      "\u001b[1Bfa001336: Preparing \n",
      "\u001b[1B04627bec: Preparing \n",
      "\u001b[1Bd0ba3263: Preparing \n",
      "\u001b[1Bbe141c1f: Preparing \n",
      "\u001b[1B79241778: Preparing \n",
      "\u001b[1B8452f77e: Preparing \n",
      "\u001b[1Baad0d176: Preparing \n",
      "\u001b[1Bff05626e: Preparing \n",
      "\u001b[1B9048222b: Preparing \n",
      "\u001b[1Bf7dc85a1: Preparing \n",
      "\u001b[1B2df89268: Preparing \n",
      "\u001b[1Bd8f0884d: Preparing \n",
      "\u001b[1B87fdb58c: Preparing \n",
      "\u001b[1B8fb03d12: Preparing \n",
      "\u001b[1B843615e2: Preparing \n",
      "\u001b[11B452f77e: Waiting g \n",
      "\u001b[1B9c0f8a0b: Preparing \n",
      "\u001b[12Bad0d176: Waiting g \n",
      "\u001b[20B2857cc6: Pushed   1.298GB/1.267GB\u001b[20A\u001b[1K\u001b[K\u001b[20A\u001b[1K\u001b[K\u001b[20A\u001b[1K\u001b[K\u001b[20A\u001b[1K\u001b[K\u001b[20A\u001b[1K\u001b[K\u001b[20A\u001b[1K\u001b[K\u001b[20A\u001b[1K\u001b[K\u001b[20A\u001b[1K\u001b[K\u001b[19A\u001b[1K\u001b[K\u001b[20A\u001b[1K\u001b[K\u001b[16A\u001b[1K\u001b[K\u001b[20A\u001b[1K\u001b[K\u001b[17A\u001b[1K\u001b[K\u001b[15A\u001b[1K\u001b[K\u001b[20A\u001b[1K\u001b[K\u001b[12A\u001b[1K\u001b[K\u001b[20A\u001b[1K\u001b[K\u001b[10A\u001b[1K\u001b[K\u001b[20A\u001b[1K\u001b[K\u001b[7A\u001b[1K\u001b[K\u001b[20A\u001b[1K\u001b[K\u001b[20A\u001b[1K\u001b[K\u001b[2A\u001b[1K\u001b[K\u001b[4A\u001b[1K\u001b[K\u001b[20A\u001b[1K\u001b[K\u001b[20A\u001b[1K\u001b[K\u001b[20A\u001b[1K\u001b[K\u001b[20A\u001b[1K\u001b[K\u001b[20A\u001b[1K\u001b[K\u001b[15A\u001b[1K\u001b[K\u001b[20A\u001b[1K\u001b[K\u001b[20A\u001b[1K\u001b[K\u001b[20A\u001b[1K\u001b[K\u001b[20A\u001b[1K\u001b[K\u001b[20A\u001b[1K\u001b[K\u001b[20A\u001b[1K\u001b[K\u001b[20A\u001b[1K\u001b[K\u001b[20A\u001b[1K\u001b[K\u001b[20A\u001b[1K\u001b[K\u001b[20A\u001b[1K\u001b[K\u001b[20A\u001b[1K\u001b[K\u001b[20A\u001b[1K\u001b[K\u001b[20A\u001b[1K\u001b[K\u001b[20A\u001b[1K\u001b[K\u001b[20A\u001b[1K\u001b[K\u001b[20A\u001b[1K\u001b[K\u001b[20A\u001b[1K\u001b[K\u001b[20A\u001b[1K\u001b[K\u001b[20A\u001b[1K\u001b[K\u001b[20A\u001b[1K\u001b[K\u001b[20A\u001b[1K\u001b[K\u001b[20A\u001b[1K\u001b[K\u001b[20A\u001b[1K\u001b[K\u001b[20A\u001b[1K\u001b[K\u001b[20A\u001b[1K\u001b[K\u001b[20A\u001b[1K\u001b[K\u001b[20A\u001b[1K\u001b[K\u001b[20A\u001b[1K\u001b[K\u001b[20A\u001b[1K\u001b[K\u001b[20A\u001b[1K\u001b[K\u001b[20A\u001b[1K\u001b[K\u001b[20A\u001b[1K\u001b[K\u001b[20A\u001b[1K\u001b[K\u001b[20A\u001b[1K\u001b[K\u001b[20A\u001b[1K\u001b[K\u001b[20A\u001b[1K\u001b[K\u001b[20A\u001b[1K\u001b[K\u001b[20A\u001b[1K\u001b[K\u001b[20A\u001b[1K\u001b[K\u001b[20A\u001b[1K\u001b[K\u001b[20A\u001b[1K\u001b[K\u001b[20A\u001b[1K\u001b[K\u001b[20A\u001b[1K\u001b[K\u001b[20A\u001b[1K\u001b[K\u001b[20A\u001b[1K\u001b[K\u001b[20A\u001b[1K\u001b[K\u001b[20A\u001b[1K\u001b[K\u001b[20A\u001b[1K\u001b[K\u001b[20A\u001b[1K\u001b[K\u001b[20A\u001b[1K\u001b[K\u001b[20A\u001b[1K\u001b[K\u001b[20A\u001b[1K\u001b[K\u001b[20A\u001b[1K\u001b[K\u001b[20A\u001b[1K\u001b[K\u001b[20A\u001b[1K\u001b[K\u001b[20A\u001b[1K\u001b[K\u001b[20A\u001b[1K\u001b[K\u001b[20A\u001b[1K\u001b[K\u001b[20A\u001b[1K\u001b[K\u001b[20A\u001b[1K\u001b[K\u001b[20A\u001b[1K\u001b[K\u001b[20A\u001b[1K\u001b[K\u001b[20A\u001b[1K\u001b[K\u001b[20A\u001b[1K\u001b[K\u001b[20A\u001b[1K\u001b[K\u001b[20A\u001b[1K\u001b[K\u001b[20A\u001b[1K\u001b[K\u001b[20A\u001b[1K\u001b[K\u001b[20A\u001b[1K\u001b[K\u001b[20A\u001b[1K\u001b[K\u001b[20A\u001b[1K\u001b[K\u001b[20A\u001b[1K\u001b[K\u001b[20A\u001b[1K\u001b[K\u001b[20A\u001b[1K\u001b[K\u001b[20A\u001b[1K\u001b[K\u001b[20A\u001b[1K\u001b[K\u001b[20A\u001b[1K\u001b[K\u001b[20A\u001b[1K\u001b[K\u001b[20A\u001b[1K\u001b[K\u001b[20A\u001b[1K\u001b[K\u001b[20A\u001b[1K\u001b[K\u001b[20A\u001b[1K\u001b[K\u001b[20A\u001b[1K\u001b[K\u001b[20A\u001b[1K\u001b[K\u001b[20A\u001b[1K\u001b[K\u001b[20A\u001b[1K\u001b[K\u001b[20A\u001b[1K\u001b[K\u001b[20A\u001b[1K\u001b[K\u001b[20A\u001b[1K\u001b[K\u001b[20A\u001b[1K\u001b[K\u001b[20A\u001b[1K\u001b[K\u001b[20A\u001b[1K\u001b[K\u001b[20A\u001b[1K\u001b[K\u001b[20A\u001b[1K\u001b[K\u001b[20A\u001b[1K\u001b[K\u001b[20A\u001b[1K\u001b[K\u001b[20A\u001b[1K\u001b[K\u001b[20A\u001b[1K\u001b[K\u001b[20A\u001b[1K\u001b[K\u001b[20A\u001b[1K\u001b[K\u001b[20A\u001b[1K\u001b[K\u001b[20A\u001b[1K\u001b[K\u001b[20A\u001b[1K\u001b[K\u001b[20A\u001b[1K\u001b[K\u001b[20A\u001b[1K\u001b[K\u001b[20A\u001b[1K\u001b[K\u001b[20A\u001b[1K\u001b[K\u001b[20A\u001b[1K\u001b[K\u001b[20A\u001b[1K\u001b[K\u001b[20A\u001b[1K\u001b[K\u001b[20A\u001b[1K\u001b[K\u001b[20A\u001b[1K\u001b[K\u001b[20A\u001b[1K\u001b[K\u001b[20A\u001b[1K\u001b[K\u001b[20A\u001b[1K\u001b[K\u001b[20A\u001b[1K\u001b[K\u001b[20A\u001b[1K\u001b[K\u001b[20A\u001b[1K\u001b[K\u001b[20A\u001b[1K\u001b[K\u001b[20A\u001b[1K\u001b[K\u001b[20A\u001b[1K\u001b[K\u001b[20A\u001b[1K\u001b[K\u001b[20A\u001b[1K\u001b[K\u001b[20A\u001b[1K\u001b[K\u001b[20A\u001b[1K\u001b[K\u001b[20A\u001b[1K\u001b[K\u001b[20A\u001b[1K\u001b[K\u001b[20A\u001b[1K\u001b[K\u001b[20A\u001b[1K\u001b[K\u001b[20A\u001b[1K\u001b[K\u001b[20A\u001b[1K\u001b[K\u001b[20A\u001b[1K\u001b[K\u001b[20A\u001b[1K\u001b[K\u001b[20A\u001b[1K\u001b[K\u001b[20A\u001b[1K\u001b[K\u001b[20A\u001b[1K\u001b[K\u001b[20A\u001b[1K\u001b[K\u001b[20A\u001b[1K\u001b[K\u001b[20A\u001b[1K\u001b[K\u001b[20A\u001b[1K\u001b[K\u001b[20A\u001b[1K\u001b[K\u001b[20A\u001b[1K\u001b[K\u001b[20A\u001b[1K\u001b[K\u001b[20A\u001b[1K\u001b[K\u001b[20A\u001b[1K\u001b[K\u001b[20A\u001b[1K\u001b[K\u001b[20A\u001b[1K\u001b[K\u001b[20A\u001b[1K\u001b[K\u001b[20A\u001b[1K\u001b[K\u001b[20A\u001b[1K\u001b[K\u001b[20A\u001b[1K\u001b[K\u001b[20A\u001b[1K\u001b[K\u001b[20A\u001b[1K\u001b[K\u001b[20A\u001b[1K\u001b[K\u001b[20A\u001b[1K\u001b[K\u001b[20A\u001b[1K\u001b[K\u001b[20A\u001b[1K\u001b[K\u001b[20A\u001b[1K\u001b[K\u001b[20A\u001b[1K\u001b[K\u001b[20A\u001b[1K\u001b[K\u001b[20A\u001b[1K\u001b[K\u001b[20A\u001b[1K\u001b[K\u001b[20A\u001b[1K\u001b[K\u001b[20A\u001b[1K\u001b[K\u001b[20A\u001b[1K\u001b[K\u001b[20A\u001b[1K\u001b[K\u001b[20A\u001b[1K\u001b[K\u001b[20A\u001b[1K\u001b[K\u001b[20A\u001b[1K\u001b[K\u001b[20A\u001b[1K\u001b[K\u001b[20A\u001b[1K\u001b[K\u001b[20A\u001b[1K\u001b[K\u001b[20A\u001b[1K\u001b[K\u001b[20A\u001b[1K\u001b[K\u001b[20A\u001b[1K\u001b[K\u001b[20A\u001b[1K\u001b[K\u001b[20A\u001b[1K\u001b[K\u001b[20A\u001b[1K\u001b[K\u001b[20A\u001b[1K\u001b[K\u001b[20A\u001b[1K\u001b[K\u001b[20A\u001b[1K\u001b[K\u001b[20A\u001b[1K\u001b[K\u001b[20A\u001b[1K\u001b[K\u001b[20A\u001b[1K\u001b[K\u001b[20A\u001b[1K\u001b[K\u001b[20A\u001b[1K\u001b[K\u001b[20A\u001b[1K\u001b[K\u001b[20A\u001b[1K\u001b[K\u001b[20A\u001b[1K\u001b[K\u001b[20A\u001b[1K\u001b[K\u001b[20A\u001b[1K\u001b[K\u001b[20A\u001b[1K\u001b[K\u001b[20A\u001b[1K\u001b[K\u001b[20A\u001b[1K\u001b[K\u001b[20A\u001b[1K\u001b[K\u001b[20A\u001b[1K\u001b[K\u001b[20A\u001b[1K\u001b[K\u001b[20A\u001b[1K\u001b[K\u001b[20A\u001b[1K\u001b[K\u001b[20A\u001b[1K\u001b[K\u001b[20A\u001b[1K\u001b[K\u001b[20A\u001b[1K\u001b[K\u001b[20A\u001b[1K\u001b[K\u001b[20A\u001b[1K\u001b[K\u001b[20A\u001b[1K\u001b[K\u001b[20A\u001b[1K\u001b[K\u001b[20A\u001b[1K\u001b[K\u001b[20A\u001b[1K\u001b[K\u001b[20A\u001b[1K\u001b[K\u001b[20A\u001b[1K\u001b[K\u001b[20A\u001b[1K\u001b[K\u001b[20A\u001b[1K\u001b[K\u001b[20A\u001b[1K\u001b[K\u001b[20A\u001b[1K\u001b[K\u001b[20A\u001b[1K\u001b[K\u001b[20A\u001b[1K\u001b[K\u001b[20A\u001b[1K\u001b[K\u001b[20A\u001b[1K\u001b[K\u001b[20A\u001b[1K\u001b[K\u001b[20A\u001b[1K\u001b[K\u001b[20A\u001b[1K\u001b[K\u001b[20A\u001b[1K\u001b[K\u001b[20A\u001b[1K\u001b[K\u001b[20A\u001b[1K\u001b[K\u001b[20A\u001b[1K\u001b[K\u001b[20A\u001b[1K\u001b[K\u001b[20A\u001b[1K\u001b[K\u001b[20A\u001b[1K\u001b[K\u001b[20A\u001b[1K\u001b[K\u001b[20A\u001b[1K\u001b[K\u001b[20A\u001b[1K\u001b[K\u001b[20A\u001b[1K\u001b[K\u001b[20A\u001b[1K\u001b[K\u001b[20A\u001b[1K\u001b[K\u001b[20A\u001b[1K\u001b[K\u001b[20A\u001b[1K\u001b[K\u001b[20A\u001b[1K\u001b[K\u001b[20A\u001b[1K\u001b[K\u001b[20A\u001b[1K\u001b[K\u001b[20A\u001b[1K\u001b[K\u001b[20A\u001b[1K\u001b[K\u001b[20A\u001b[1K\u001b[K\u001b[20A\u001b[1K\u001b[K\u001b[20A\u001b[1K\u001b[K\u001b[20A\u001b[1K\u001b[K\u001b[20A\u001b[1K\u001b[K\u001b[20A\u001b[1K\u001b[K\u001b[20A\u001b[1K\u001b[K\u001b[20A\u001b[1K\u001b[K\u001b[20A\u001b[1K\u001b[K\u001b[20A\u001b[1K\u001b[K\u001b[20A\u001b[1K\u001b[K\u001b[20A\u001b[1K\u001b[K\u001b[20A\u001b[1K\u001b[K\u001b[20A\u001b[1K\u001b[K\u001b[20A\u001b[1K\u001b[K\u001b[20A\u001b[1K\u001b[K\u001b[20A\u001b[1K\u001b[K\u001b[20A\u001b[1K\u001b[K\u001b[20A\u001b[1K\u001b[K\u001b[20A\u001b[1K\u001b[K\u001b[20A\u001b[1K\u001b[K\u001b[20A\u001b[1K\u001b[K\u001b[20A\u001b[1K\u001b[K\u001b[20A\u001b[1K\u001b[K\u001b[20A\u001b[1K\u001b[K\u001b[20A\u001b[1K\u001b[K\u001b[20A\u001b[1K\u001b[K\u001b[20A\u001b[1K\u001b[K\u001b[20A\u001b[1K\u001b[K\u001b[20A\u001b[1K\u001b[K\u001b[20A\u001b[1K\u001b[K\u001b[20A\u001b[1K\u001b[K\u001b[20A\u001b[1K\u001b[K\u001b[20A\u001b[1K\u001b[K\u001b[20A\u001b[1K\u001b[K\u001b[20A\u001b[1K\u001b[K\u001b[20A\u001b[1K\u001b[K\u001b[20A\u001b[1K\u001b[K\u001b[20A\u001b[1K\u001b[K\u001b[20A\u001b[1K\u001b[K\u001b[20A\u001b[1K\u001b[K\u001b[20A\u001b[1K\u001b[K\u001b[20A\u001b[1K\u001b[K\u001b[20A\u001b[1K\u001b[K\u001b[20A\u001b[1K\u001b[K\u001b[20A\u001b[1K\u001b[K\u001b[20A\u001b[1K\u001b[K\u001b[20A\u001b[1K\u001b[K\u001b[20A\u001b[1K\u001b[K\u001b[20A\u001b[1K\u001b[K\u001b[20A\u001b[1K\u001b[K\u001b[20A\u001b[1K\u001b[K\u001b[20A\u001b[1K\u001b[K\u001b[20A\u001b[1K\u001b[K\u001b[20A\u001b[1K\u001b[K\u001b[20A\u001b[1K\u001b[K\u001b[20A\u001b[1K\u001b[K\u001b[20A\u001b[1K\u001b[K\u001b[20A\u001b[1K\u001b[K\u001b[20A\u001b[1K\u001b[K\u001b[20A\u001b[1K\u001b[K\u001b[20A\u001b[1K\u001b[K\u001b[20A\u001b[1K\u001b[K\u001b[20A\u001b[1K\u001b[K\u001b[20A\u001b[1K\u001b[K\u001b[20A\u001b[1K\u001b[K\u001b[20A\u001b[1K\u001b[K\u001b[20A\u001b[1K\u001b[K\u001b[20A\u001b[1K\u001b[K\u001b[20A\u001b[1K\u001b[K\u001b[20A\u001b[1K\u001b[K\u001b[20A\u001b[1K\u001b[K\u001b[20A\u001b[1K\u001b[K\u001b[20A\u001b[1K\u001b[K\u001b[20A\u001b[1K\u001b[K\u001b[20A\u001b[1K\u001b[K\u001b[20A\u001b[1K\u001b[K\u001b[20A\u001b[1K\u001b[K\u001b[20A\u001b[1K\u001b[K\u001b[20A\u001b[1K\u001b[K\u001b[20A\u001b[1K\u001b[K\u001b[20A\u001b[1K\u001b[K\u001b[20A\u001b[1K\u001b[K\u001b[20A\u001b[1K\u001b[K\u001b[20A\u001b[1K\u001b[K\u001b[20A\u001b[1K\u001b[K\u001b[20A\u001b[1K\u001b[K\u001b[20A\u001b[1K\u001b[K\u001b[20A\u001b[1K\u001b[K\u001b[20A\u001b[1K\u001b[K\u001b[20A\u001b[1K\u001b[K\u001b[20A\u001b[1K\u001b[K\u001b[20A\u001b[1K\u001b[K\u001b[20A\u001b[1K\u001b[K\u001b[20A\u001b[1K\u001b[K\u001b[20A\u001b[1K\u001b[K\u001b[20A\u001b[1K\u001b[K\u001b[20A\u001b[1K\u001b[K\u001b[20A\u001b[1K\u001b[K\u001b[20A\u001b[1K\u001b[K\u001b[20A\u001b[1K\u001b[K\u001b[20A\u001b[1K\u001b[K\u001b[20A\u001b[1K\u001b[K\u001b[20A\u001b[1K\u001b[K\u001b[20A\u001b[1K\u001b[K\u001b[20A\u001b[1K\u001b[K\u001b[20A\u001b[1K\u001b[K\u001b[20A\u001b[1K\u001b[K\u001b[20A\u001b[1K\u001b[K\u001b[20A\u001b[1K\u001b[K\u001b[20A\u001b[1K\u001b[K\u001b[20A\u001b[1K\u001b[K\u001b[20A\u001b[1K\u001b[K\u001b[20A\u001b[1K\u001b[K\u001b[20A\u001b[1K\u001b[K\u001b[20A\u001b[1K\u001b[K\u001b[20A\u001b[1K\u001b[K\u001b[20A\u001b[1K\u001b[K\u001b[20A\u001b[1K\u001b[K\u001b[20A\u001b[1K\u001b[K\u001b[20A\u001b[1K\u001b[K\u001b[20A\u001b[1K\u001b[K\u001b[20A\u001b[1K\u001b[K\u001b[20A\u001b[1K\u001b[K\u001b[20A\u001b[1K\u001b[K\u001b[20A\u001b[1K\u001b[K\u001b[20A\u001b[1K\u001b[K\u001b[20A\u001b[1K\u001b[K\u001b[20A\u001b[1K\u001b[K\u001b[20A\u001b[1K\u001b[K\u001b[20A\u001b[1K\u001b[K\u001b[20A\u001b[1K\u001b[K\u001b[20A\u001b[1K\u001b[K\u001b[20A\u001b[1K\u001b[K\u001b[20A\u001b[1K\u001b[K\u001b[20A\u001b[1K\u001b[K\u001b[20A\u001b[1K\u001b[K\u001b[20A\u001b[1K\u001b[K\u001b[20A\u001b[1K\u001b[K\u001b[20A\u001b[1K\u001b[K\u001b[20A\u001b[1K\u001b[K\u001b[20A\u001b[1K\u001b[K\u001b[20A\u001b[1K\u001b[KPushing  1.158GB/1.267GB\u001b[20A\u001b[1K\u001b[K\u001b[20A\u001b[1K\u001b[K\u001b[20A\u001b[1K\u001b[K\u001b[20A\u001b[1K\u001b[K\u001b[20A\u001b[1K\u001b[K\u001b[20A\u001b[1K\u001b[K\u001b[20A\u001b[1K\u001b[K\u001b[20A\u001b[1K\u001b[K\u001b[20A\u001b[1K\u001b[K\u001b[20A\u001b[1K\u001b[K\u001b[20A\u001b[1K\u001b[K\u001b[20A\u001b[1K\u001b[K\u001b[20A\u001b[1K\u001b[K\u001b[20A\u001b[1K\u001b[K\u001b[20A\u001b[1K\u001b[K\u001b[20A\u001b[1K\u001b[K\u001b[20A\u001b[1K\u001b[K\u001b[20A\u001b[1K\u001b[K\u001b[20A\u001b[1K\u001b[K\u001b[20A\u001b[1K\u001b[K\u001b[20A\u001b[1K\u001b[K\u001b[20A\u001b[1K\u001b[K\u001b[20A\u001b[1K\u001b[K\u001b[20A\u001b[1K\u001b[K\u001b[20A\u001b[1K\u001b[K\u001b[20A\u001b[1K\u001b[K\u001b[20A\u001b[1K\u001b[K\u001b[20A\u001b[1K\u001b[K\u001b[20A\u001b[1K\u001b[K\u001b[20A\u001b[1K\u001b[K\u001b[20A\u001b[1K\u001b[K\u001b[20A\u001b[1K\u001b[K\u001b[20A\u001b[1K\u001b[K\u001b[20A\u001b[1K\u001b[K\u001b[20A\u001b[1K\u001b[K\u001b[20A\u001b[1K\u001b[K\u001b[20A\u001b[1K\u001b[K\u001b[20A\u001b[1K\u001b[K\u001b[20A\u001b[1K\u001b[K\u001b[20A\u001b[1K\u001b[K\u001b[20A\u001b[1K\u001b[K\u001b[20A\u001b[1K\u001b[K\u001b[20A\u001b[1K\u001b[K\u001b[20A\u001b[1K\u001b[K\u001b[20A\u001b[1K\u001b[K\u001b[20A\u001b[1K\u001b[Klatest: digest: sha256:9363fc51bf651300fd9c3cbb98a80783529495ceeb23de96c060ba9c48984bdb size: 4507\n"
     ]
    }
   ],
   "source": [
    "!sudo docker push {repo}"
   ]
  },
  {
   "cell_type": "markdown",
   "metadata": {},
   "source": [
    "### Create Docker image to run in ACI"
   ]
  },
  {
   "cell_type": "markdown",
   "metadata": {},
   "source": [
    "Create our Dockerfile and save it to the directory, `/aci`."
   ]
  },
  {
   "cell_type": "code",
   "execution_count": null,
   "metadata": {},
   "outputs": [],
   "source": [
    "%%writefile aci/Dockerfile\n",
    "\n",
    "FROM continuumio/miniconda3\n",
    "\n",
    "RUN mkdir /app\n",
    "WORKDIR /app\n",
    "ADD add_images_to_queue.py /app\n",
    "ADD preprocess.py /app\n",
    "ADD postprocess.py /app\n",
    "ADD util.py /app\n",
    "ADD main.py /app\n",
    "\n",
    "# RUN conda install -c anaconda ffmpeg\n",
    "RUN conda install -c conda-forge -y ffmpeg\n",
    "RUN pip install azure\n",
    "RUN pip install flask\n",
    "\n",
    "CMD [\"python\", \"main.py\"]"
   ]
  },
  {
   "cell_type": "markdown",
   "metadata": {},
   "source": [
    "Build the Docker image"
   ]
  },
  {
   "cell_type": "code",
   "execution_count": null,
   "metadata": {},
   "outputs": [],
   "source": [
    "!sudo docker build -t {get_key(env_path, \"ACI_IMAGE\")} aci"
   ]
  },
  {
   "cell_type": "markdown",
   "metadata": {},
   "source": [
    "Tag and push."
   ]
  },
  {
   "cell_type": "code",
   "execution_count": null,
   "metadata": {},
   "outputs": [],
   "source": [
    "repo = \"{}/{}\".format(get_key(env_path, \"DOCKER_LOGIN\"), get_key(env_path, \"ACI_IMAGE\"))"
   ]
  },
  {
   "cell_type": "code",
   "execution_count": null,
   "metadata": {},
   "outputs": [],
   "source": [
    "!sudo docker tag {get_key(env_path, \"ACI_IMAGE\")} {repo}"
   ]
  },
  {
   "cell_type": "code",
   "execution_count": null,
   "metadata": {},
   "outputs": [],
   "source": [
    "!sudo docker push {repo}"
   ]
  },
  {
   "cell_type": "markdown",
   "metadata": {},
   "source": [
    "### Provision AKS cluster and set up blobfuse"
   ]
  },
  {
   "cell_type": "markdown",
   "metadata": {},
   "source": [
    "Set how many nodes you want to provision."
   ]
  },
  {
   "cell_type": "code",
   "execution_count": 8,
   "metadata": {},
   "outputs": [],
   "source": [
    "node_count = 5"
   ]
  },
  {
   "cell_type": "markdown",
   "metadata": {},
   "source": [
    "Check that there are enough core of the \"Standard_NC6s_v3\". If not, check that there are enough core of the \"Standard_D2s_v3\". If not, raise exception. "
   ]
  },
  {
   "cell_type": "code",
   "execution_count": 9,
   "metadata": {},
   "outputs": [
    {
     "name": "stdout",
     "output_type": "stream",
     "text": [
      "Checking quota for family size NCSv3...\n",
      "There are enough cores, you may continue...\n"
     ]
    }
   ],
   "source": [
    "vm_dict = {\n",
    "    \"NCSv3\": {\n",
    "        \"size\": \"Standard_NC6s_v3\",\n",
    "        \"cores\": 6\n",
    "    },\n",
    "    \"DSv3\": {\n",
    "        \"size\": \"Standard_D2s_v3\",\n",
    "        \"cores\": 2\n",
    "    }\n",
    "}\n",
    "\n",
    "print(\"Checking quota for family size NCSv3...\")\n",
    "vm_family = \"NCSv3\"\n",
    "requested_cores = node_count * vm_dict[vm_family][\"cores\"]\n",
    "\n",
    "def check_quota(vm_family):\n",
    "    \"\"\"\n",
    "    returns quota object\n",
    "    \"\"\"\n",
    "    results = subprocess.run([\n",
    "        \"az\", \"vm\", \"list-usage\", \n",
    "        \"--location\", get_key(env_path, \"REGION\"), \n",
    "        \"--query\", \"[?contains(localName, '%s')].{max:limit, current:currentValue}\" % (vm_family)\n",
    "    ], stdout=subprocess.PIPE)\n",
    "    quota = json.loads(''.join(results.stdout.decode('utf-8')))\n",
    "    return int(quota[0]['max']) - int(quota[0]['current'])\n",
    "\n",
    "diff = check_quota(vm_family)\n",
    "if diff <= requested_cores:\n",
    "    print(\"Not enough cores of NCSv3 in region, asking for {} but have {}\".format(requested_cores, diff))\n",
    "    \n",
    "    print(\"Retrying with family size DSv3...\")\n",
    "    vm_family = \"DSv3\"\n",
    "    requested_cores = node_count * vm_dict[vm_family][\"cores\"]\n",
    "    \n",
    "    diff = check_quota(vm_family)\n",
    "    if diff <= requested_cores:\n",
    "        print(\"Not enough cores of DSv3 in region, asking for {} but have {}\".format(requested_cores, diff))\n",
    "        raise Exception(\"Core Limit\", \"Note enough cores to satisfy request\")\n",
    "\n",
    "print(\"There are enough cores, you may continue...\") "
   ]
  },
  {
   "cell_type": "markdown",
   "metadata": {},
   "source": [
    "Create the aks cluster. This step may take a while... Please note that this step creates another resource group in your subscription containing the actual compute of the AKS cluster."
   ]
  },
  {
   "cell_type": "code",
   "execution_count": 10,
   "metadata": {
    "tags": [
     "strip_out"
    ]
   },
   "outputs": [
    {
     "name": "stdout",
     "output_type": "stream",
     "text": [
      "\u001b[K{- Finished ..\n",
      "  \"aadProfile\": null,\n",
      "  \"addonProfiles\": null,\n",
      "  \"agentPoolProfiles\": [\n",
      "    {\n",
      "      \"count\": 5,\n",
      "      \"maxPods\": 110,\n",
      "      \"name\": \"nodepool1\",\n",
      "      \"osDiskSizeGb\": 30,\n",
      "      \"osType\": \"Linux\",\n",
      "      \"storageProfile\": \"ManagedDisks\",\n",
      "      \"vmSize\": \"Standard_NC6s_v3\",\n",
      "      \"vnetSubnetId\": null\n",
      "    }\n",
      "  ],\n",
      "  \"dnsPrefix\": \"batchscori-jiataaks04-edf507\",\n",
      "  \"enableRbac\": true,\n",
      "  \"fqdn\": \"batchscori-jiataaks04-edf507-91fe0bd4.hcp.eastus.azmk8s.io\",\n",
      "  \"id\": \"/subscriptions/edf507a2-6235-46c5-b560-fd463ba2e771/resourcegroups/jiataaks04/providers/Microsoft.ContainerService/managedClusters/batchscoringdlcluster\",\n",
      "  \"kubernetesVersion\": \"1.9.11\",\n",
      "  \"linuxProfile\": {\n",
      "    \"adminUsername\": \"azureuser\",\n",
      "    \"ssh\": {\n",
      "      \"publicKeys\": [\n",
      "        {\n",
      "          \"keyData\": \"ssh-rsa AAAAB3NzaC1yc2EAAAADAQABAAABAQD1bKwjkSweMxAgRToml+F++4nnvf/kUaKQ3GukcUZPdsb12ZklDUEJZLyp/zUCuIQhVKU5YC/+SekDx2gMjmnlPKlDKYEJm/t1EUoSBSQD4Axmfrbkyuen8kD0O/c4U9ysVVuyD9V23DYxbcAxs/y/KkAHL1P8FOz7Twg78l/WuF9rRXRCqfJ0RkkDxTySio37H1zMM4AWTrQSfEeQow2J1Pk7rHMgsatNSs4nkDW24FG/5bfD6RUJHdZSBDQFFHCzcVS+ZbtdETePlK9WyPc3UUD+xEECrJ2ZeFDPjEBkROV49lOwYB2l/Z73KyeBR0vOcRPeNMoa+7q+qRE6qlbr\"\n",
      "        }\n",
      "      ]\n",
      "    }\n",
      "  },\n",
      "  \"location\": \"eastus\",\n",
      "  \"name\": \"batchscoringdlcluster\",\n",
      "  \"networkProfile\": {\n",
      "    \"dnsServiceIp\": \"10.0.0.10\",\n",
      "    \"dockerBridgeCidr\": \"172.17.0.1/16\",\n",
      "    \"networkPlugin\": \"kubenet\",\n",
      "    \"networkPolicy\": null,\n",
      "    \"podCidr\": \"10.244.0.0/16\",\n",
      "    \"serviceCidr\": \"10.0.0.0/16\"\n",
      "  },\n",
      "  \"nodeResourceGroup\": \"MC_jiataaks04_batchscoringdlcluster_eastus\",\n",
      "  \"provisioningState\": \"Succeeded\",\n",
      "  \"resourceGroup\": \"jiataaks04\",\n",
      "  \"servicePrincipalProfile\": {\n",
      "    \"clientId\": \"694605db-5a5f-43e6-ae1b-a44ae9c56d2e\",\n",
      "    \"secret\": null\n",
      "  },\n",
      "  \"tags\": null,\n",
      "  \"type\": \"Microsoft.ContainerService/ManagedClusters\"\n",
      "}\n",
      "\u001b[0m"
     ]
    }
   ],
   "source": [
    "!az aks create \\\n",
    "    --resource-group {get_key(env_path, \"RESOURCE_GROUP\")} \\\n",
    "    --name {get_key(env_path, \"AKS_CLUSTER\")} \\\n",
    "    --node-count {node_count} \\\n",
    "    --node-vm-size {vm_dict[vm_family][\"size\"]} \\\n",
    "    --generate-ssh-keys \\\n",
    "    --service-principal {get_key(env_path, \"SP_CLIENT\")} \\\n",
    "    --client-secret {get_key(env_path, \"SP_SECRET\")}"
   ]
  },
  {
   "cell_type": "markdown",
   "metadata": {},
   "source": [
    "Install Kubectl - this tool is used to manage the kubernetes cluster."
   ]
  },
  {
   "cell_type": "code",
   "execution_count": 11,
   "metadata": {},
   "outputs": [
    {
     "name": "stdout",
     "output_type": "stream",
     "text": [
      "\u001b[33mDownloading client to \"/usr/local/bin/kubectl\" from \"https://storage.googleapis.com/kubernetes-release/release/v1.13.0/bin/linux/amd64/kubectl\"\u001b[0m\n",
      "\u001b[33mPlease ensure that /usr/local/bin is in your search PATH, so the `kubectl` command can be found.\u001b[0m\n"
     ]
    }
   ],
   "source": [
    "!sudo az aks install-cli"
   ]
  },
  {
   "cell_type": "code",
   "execution_count": 12,
   "metadata": {},
   "outputs": [
    {
     "name": "stdout",
     "output_type": "stream",
     "text": [
      "Merged \"batchscoringdlcluster\" as current context in /home/jiata/.kube/config\r\n"
     ]
    }
   ],
   "source": [
    "!az aks get-credentials \\\n",
    "    --resource-group {get_key(env_path, 'RESOURCE_GROUP')}\\\n",
    "    --name {get_key(env_path, 'AKS_CLUSTER')}"
   ]
  },
  {
   "cell_type": "markdown",
   "metadata": {},
   "source": [
    "Check that our nodes are up and ready."
   ]
  },
  {
   "cell_type": "code",
   "execution_count": 13,
   "metadata": {},
   "outputs": [
    {
     "name": "stdout",
     "output_type": "stream",
     "text": [
      "NAME                       STATUS   ROLES   AGE     VERSION\n",
      "aks-nodepool1-51750795-0   Ready    agent   3h53m   v1.9.11\n",
      "aks-nodepool1-51750795-1   Ready    agent   3h53m   v1.9.11\n",
      "aks-nodepool1-51750795-2   Ready    agent   3h53m   v1.9.11\n",
      "aks-nodepool1-51750795-3   Ready    agent   3h52m   v1.9.11\n",
      "aks-nodepool1-51750795-4   Ready    agent   3h53m   v1.9.11\n"
     ]
    }
   ],
   "source": [
    "!kubectl get nodes"
   ]
  },
  {
   "cell_type": "markdown",
   "metadata": {},
   "source": [
    "Now we setup our AKS cluster so that we have blob storage mounted onto the nodes using blob fuse. More info [here](https://github.com/Azure/kubernetes-volume-drivers/tree/master/flexvolume/blobfuse)."
   ]
  },
  {
   "cell_type": "markdown",
   "metadata": {},
   "source": [
    "Install blobfuse driver on every agent VM."
   ]
  },
  {
   "cell_type": "code",
   "execution_count": 14,
   "metadata": {},
   "outputs": [
    {
     "name": "stdout",
     "output_type": "stream",
     "text": [
      "Error from server (AlreadyExists): error when creating \"https://raw.githubusercontent.com/Azure/kubernetes-volume-drivers/master/flexvolume/blobfuse/deployment/blobfuse-flexvol-installer-1.9.yaml\": namespaces \"flex\" already exists\r\n",
      "Error from server (AlreadyExists): error when creating \"https://raw.githubusercontent.com/Azure/kubernetes-volume-drivers/master/flexvolume/blobfuse/deployment/blobfuse-flexvol-installer-1.9.yaml\": daemonsets.apps \"blobfuse-flexvol-installer\" already exists\r\n"
     ]
    }
   ],
   "source": [
    "!kubectl create -f https://raw.githubusercontent.com/Azure/kubernetes-volume-drivers/master/flexvolume/blobfuse/deployment/blobfuse-flexvol-installer-1.9.yaml"
   ]
  },
  {
   "cell_type": "markdown",
   "metadata": {},
   "source": [
    "Check daemonset status."
   ]
  },
  {
   "cell_type": "code",
   "execution_count": 15,
   "metadata": {},
   "outputs": [
    {
     "name": "stdout",
     "output_type": "stream",
     "text": [
      "\u001b[?1l\u001b>bfuse-flexvol-installer-m2sp9   1/1     Running   0\u001b[13;65H3h7m   10.244.0.\u001b[14;1H4   aks-nodepool1-51750795-4   <none>\u001b[14;49H<none>\u001b[24;80Hume/blobfuse-flexvolume\u001b[19;5HPort:\u001b[19;19H<none>\u001b[20;5HHost Port:    <none>\u001b[21;5HEnvironment:  <none>\u001b[22;5HMounts:\u001b[23;7H/etc/kubernetes/volumeplugins/ from volplugins (rw)\u001b[24;7H/var/log/ from varlog (rw)\u001b[47C\u001b[1;75H3\u001b[24;80H\u001b[24;1H\u001b[2J\u001b[?47l\u001b8\u001b)0\u001b7\u001b[?47h\u001b[1;24r\u001b[m\u001b[4l\u001b[H\u001b[2JEvery 2.0s: kubectl get po --names...  jiata-ubuntu-ws: Tue Dec 11 19:33:34 2018\u001b[3;1HNAME\u001b[3;36HREADY   STATUS    RESTARTS   AGE    IP\u001b[4;5HNODE\u001b[4;32HNOMINATED NODE   READINESS GATES2   aks-nodepool1-51750795-3   <none>\u001b[6;49H<none>\u001b[1;75H6\u001b[24;80H\u001b[24;1H\u001b[2J\u001b[?47l\u001b8"
     ]
    }
   ],
   "source": [
    "!watch kubectl describe daemonset blobfuse-flexvol-installer --namespace=flex\n",
    "!watch kubectl get po --namespace=flex -o wide"
   ]
  },
  {
   "cell_type": "markdown",
   "metadata": {},
   "source": [
    "Set up credentials for blobfuse."
   ]
  },
  {
   "cell_type": "code",
   "execution_count": 16,
   "metadata": {},
   "outputs": [
    {
     "name": "stdout",
     "output_type": "stream",
     "text": [
      "Error from server (AlreadyExists): secrets \"blobfusecreds\" already exists\r\n"
     ]
    }
   ],
   "source": [
    "!kubectl create secret generic blobfusecreds \\\n",
    "    --from-literal accountname={get_key(env_path, 'STORAGE_ACCOUNT_NAME')} \\\n",
    "    --from-literal accountkey={get_key(env_path, 'STORAGE_ACCOUNT_KEY')} \\\n",
    "    --type=\"azure/blobfuse\""
   ]
  },
  {
   "cell_type": "markdown",
   "metadata": {},
   "source": [
    "Set the mount directory on our AKS cluster."
   ]
  },
  {
   "cell_type": "code",
   "execution_count": 85,
   "metadata": {},
   "outputs": [],
   "source": [
    "mount_dir = \"/data\""
   ]
  },
  {
   "cell_type": "markdown",
   "metadata": {},
   "source": [
    "### Create our AKS deployments"
   ]
  },
  {
   "cell_type": "markdown",
   "metadata": {},
   "source": [
    "We need to deploy both our aci and aks docker images to the AKS cluster. Since we'll need to set up our gpu and drivers and blobfuse mount point for both deployments, we'll set these up first:"
   ]
  },
  {
   "cell_type": "code",
   "execution_count": 95,
   "metadata": {},
   "outputs": [],
   "source": [
    "volume_mounts = [\n",
    "    {\"name\": \"nvidia\", \"mountPath\": \"/usr/local/nvidia\"},\n",
    "    {\"name\": \"blob\", \"mountPath\": mount_dir},\n",
    "]\n",
    "\n",
    "resources = {\n",
    "    \"requests\": {\"alpha.kubernetes.io/nvidia-gpu\": 1},\n",
    "    \"limits\": {\"alpha.kubernetes.io/nvidia-gpu\": 1},\n",
    "}\n",
    "\n",
    "volumes = [\n",
    "    {\"name\": \"nvidia\", \"hostPath\": {\"path\": \"/usr/local/nvidia\"}},\n",
    "    {\n",
    "        \"name\": \"blob\",\n",
    "        \"flexVolume\": {\n",
    "            \"driver\": \"azure/blobfuse\",\n",
    "            \"readOnly\": False,\n",
    "            \"secretRef\": {\"name\": \"blobfusecreds\"},\n",
    "            \"options\": {\n",
    "                \"container\": get_key(env_path, \"STORAGE_CONTAINER_NAME\"),\n",
    "                \"tmppath\": \"/tmp/blobfuse\",\n",
    "                \"mountoptions\": \"--file-cache-timeout-in-seconds=120 --use-https=true\",\n",
    "            },\n",
    "        },\n",
    "    },\n",
    "]\n",
    "\n",
    "env = [\n",
    "    {\n",
    "        \"name\": \"MOUNT_DIR\", \n",
    "        \"value\": mount_dir\n",
    "    },\n",
    "    {\n",
    "        \"name\": \"LB_LIBRARY_PATH\",\n",
    "        \"value\": \"$LD_LIBRARY_PATH:/usr/local/nvidia/lib64:/opt/conda/envs/py3.6/lib\",\n",
    "    },\n",
    "    {\n",
    "        \"name\": \"DP_DISABLE_HEALTHCHECKS\", \n",
    "        \"value\": \"xids\"\n",
    "    },\n",
    "    {\n",
    "        \"name\": \"STORAGE_MODEL_DIR\",\n",
    "        \"value\": get_key(env_path, \"STORAGE_MODEL_DIR\")\n",
    "    },\n",
    "    {\n",
    "        \"name\": \"SUBSCRIPTION_ID\",\n",
    "        \"value\": get_key(env_path, \"SUBSCRIPTION_ID\")\n",
    "    },\n",
    "    {\n",
    "        \"name\": \"RESOURCE_GROUP\",\n",
    "        \"value\": get_key(env_path, \"RESOURCE_GROUP\")\n",
    "    },\n",
    "    {\n",
    "        \"name\": \"REGION\",\n",
    "        \"value\": get_key(env_path, \"REGION\")\n",
    "    },\n",
    "    {\n",
    "        \"name\": \"SB_SHARED_ACCESS_KEY_NAME\",\n",
    "        \"value\": get_key(env_path, \"SB_SHARED_ACCESS_KEY_NAME\")\n",
    "    },\n",
    "    {\n",
    "        \"name\": \"SB_SHARED_ACCESS_KEY_VALUE\",\n",
    "        \"value\": get_key(env_path, \"SB_SHARED_ACCESS_KEY_VALUE\")\n",
    "    },\n",
    "    {\n",
    "        \"name\": \"SB_NAMESPACE\",\n",
    "        \"value\": get_key(env_path, \"SB_NAMESPACE\")\n",
    "    },\n",
    "    {\n",
    "        \"name\": \"SB_QUEUE\", \n",
    "        \"value\": get_key(env_path, \"SB_QUEUE\")\n",
    "    },\n",
    "]"
   ]
  },
  {
   "cell_type": "markdown",
   "metadata": {},
   "source": [
    "Define the aks deployment and save it to a `aks_deployment.json` file using the variables set above."
   ]
  },
  {
   "cell_type": "code",
   "execution_count": 96,
   "metadata": {},
   "outputs": [],
   "source": [
    "aks_deployment_json = {\n",
    "    \"apiVersion\": \"apps/v1beta1\",\n",
    "    \"kind\": \"Deployment\",\n",
    "    \"metadata\": {\n",
    "        \"name\": \"aks-app\", \n",
    "        \"labels\": {\n",
    "            \"purpose\": \"dequeue_messages_and_apply_style_transfer\"\n",
    "        }\n",
    "    },\n",
    "    \"spec\": {\n",
    "        \"replicas\": node_count - 1,\n",
    "        \"template\": {\n",
    "            \"metadata\": {\n",
    "                \"labels\": {\n",
    "                    \"app\": \"aks-app\"\n",
    "                }\n",
    "            },\n",
    "            \"spec\": {\n",
    "                \"containers\": [\n",
    "                    {\n",
    "                        \"name\": \"aks-app\",\n",
    "                        \"image\": \"{}/{}:latest\".format(get_key(env_path, \"DOCKER_LOGIN\"), get_key(env_path, \"AKS_IMAGE\")),\n",
    "                        \"volumeMounts\": volume_mounts,\n",
    "                        \"resources\": resources,\n",
    "                        \"ports\": [{\n",
    "                            \"containerPort\": 433\n",
    "                        }],\n",
    "                        \"env\": env,\n",
    "                    }\n",
    "                ],\n",
    "                \"volumes\": volumes\n",
    "            },\n",
    "        },\n",
    "    },\n",
    "}\n",
    "\n",
    "with open(\"aks_deployment.json\", \"w\") as outfile:\n",
    "    json.dump(aks_deployment_json, outfile, indent=4, sort_keys=True)\n",
    "    outfile.write('\\n\\n')"
   ]
  },
  {
   "cell_type": "markdown",
   "metadata": {},
   "source": [
    "Using the `aks_deployment.json` we created, create our deployment on AKS. This can take a few minutes..."
   ]
  },
  {
   "cell_type": "code",
   "execution_count": 98,
   "metadata": {},
   "outputs": [
    {
     "name": "stdout",
     "output_type": "stream",
     "text": [
      "deployment.apps/aks-app created\r\n"
     ]
    }
   ],
   "source": [
    "!kubectl create -f aks_deployment.json"
   ]
  },
  {
   "cell_type": "markdown",
   "metadata": {},
   "source": [
    "Define the aci deployment and save it to a `aci_deployment.json` file using the variables set above."
   ]
  },
  {
   "cell_type": "code",
   "execution_count": 97,
   "metadata": {},
   "outputs": [],
   "source": [
    "aci_deployment_json = {\n",
    "    \"apiVersion\": \"apps/v1beta1\",\n",
    "    \"kind\": \"Deployment\",\n",
    "    \"metadata\": {\n",
    "        \"name\": \"aci-app\", \n",
    "        \"labels\": {\n",
    "            \"purpose\": \"pre_and_post_processing_and_queue_images\"\n",
    "        }\n",
    "    },\n",
    "    \"spec\": {\n",
    "        \"replicas\":  1,\n",
    "        \"template\": {\n",
    "            \"metadata\": {\n",
    "                \"labels\": {\n",
    "                    \"app\": \"aci-app\"\n",
    "                }\n",
    "            },\n",
    "            \"spec\": {\n",
    "                \"containers\": [\n",
    "                    {\n",
    "                        \"name\": \"aci-app\",\n",
    "                        \"image\": \"{}/{}:latest\".format(get_key(env_path, \"DOCKER_LOGIN\"), get_key(env_path, \"ACI_IMAGE\")),\n",
    "                        \"volumeMounts\": volume_mounts,\n",
    "                        \"resources\": resources,\n",
    "                        \"ports\": [{\n",
    "                            \"containerPort\": 8080\n",
    "                        }],\n",
    "                        \"env\": env,\n",
    "                    }\n",
    "                ],\n",
    "                \"volumes\": volumes\n",
    "            },\n",
    "        },\n",
    "    },\n",
    "}\n",
    "\n",
    "with open(\"aci_deployment.json\", \"w\") as outfile:\n",
    "    json.dump(aci_deployment_json, outfile, indent=4, sort_keys=True)\n",
    "    outfile.write('\\n\\n')"
   ]
  },
  {
   "cell_type": "markdown",
   "metadata": {},
   "source": [
    "Using the `aci_deployment.json` we created, create our ffmpeg + queuer deployment on AKS. This can take a few minutes..."
   ]
  },
  {
   "cell_type": "code",
   "execution_count": 68,
   "metadata": {},
   "outputs": [
    {
     "name": "stdout",
     "output_type": "stream",
     "text": [
      "deployment.apps/aci-app created\r\n"
     ]
    }
   ],
   "source": [
    "!kubectl create -f aci_deployment.json"
   ]
  },
  {
   "cell_type": "markdown",
   "metadata": {},
   "source": [
    "Expose the aci-app in the kubernetes cluster. This will open a public endpoint."
   ]
  },
  {
   "cell_type": "code",
   "execution_count": 72,
   "metadata": {},
   "outputs": [
    {
     "name": "stdout",
     "output_type": "stream",
     "text": [
      "service/aci-app exposed\r\n"
     ]
    }
   ],
   "source": [
    "!kubectl expose deployment aci-app --type=\"LoadBalancer\""
   ]
  },
  {
   "cell_type": "markdown",
   "metadata": {},
   "source": [
    "Run `!watch kubectl get services` and wait until the external ip goes from pending to being realized."
   ]
  },
  {
   "cell_type": "code",
   "execution_count": 105,
   "metadata": {},
   "outputs": [],
   "source": [
    "external_ip = !kubectl get services -o=jsonpath={.items[*].status.loadBalancer.ingress[0].ip}"
   ]
  },
  {
   "cell_type": "markdown",
   "metadata": {},
   "source": [
    "To test that the deployments worked, lets hit the ip address and run a job with a new video file."
   ]
  },
  {
   "cell_type": "code",
   "execution_count": 99,
   "metadata": {},
   "outputs": [],
   "source": [
    "new_video_name = \"aks_test_orangutan.mp4\""
   ]
  },
  {
   "cell_type": "code",
   "execution_count": 100,
   "metadata": {},
   "outputs": [],
   "source": [
    "!cp data/orangutan.mp4 data/{new_video_name}"
   ]
  },
  {
   "cell_type": "code",
   "execution_count": 106,
   "metadata": {},
   "outputs": [
    {
     "name": "stdout",
     "output_type": "stream",
     "text": [
      "Processing aks_test_orangutan.mp4 in background...\r\n"
     ]
    }
   ],
   "source": [
    "!curl {external_ip}\":8080/process/\"{new_video_name}"
   ]
  },
  {
   "cell_type": "markdown",
   "metadata": {},
   "source": [
    "### Basic Kubectl usage\n",
    "You can use kubectl to perform basic monitoring. Use the following commands:\n",
    "```bash\n",
    "# monitor pods\n",
    "!kubectl get pods\n",
    "\n",
    "# print logs from a pod (<pod-name> can be found when calling 'get pods')\n",
    "!kubectl logs <pod-name>\n",
    "\n",
    "# check all services running on the cluster\n",
    "!kubectl get services\n",
    "```"
   ]
  },
  {
   "cell_type": "markdown",
   "metadata": {},
   "source": [
    "### Monitor in kubernetes dashboard\n",
    "You can use the Kubernetes dashboard to monitor the cluster using the following commands:\n",
    "\n",
    "```bash\n",
    "# use the kube_dashboard_access.yaml to create a deployment\n",
    "!kubectl create -f kube_dashboard_access.yaml\n",
    "\n",
    "# use this command to browse\n",
    "!az aks browse -n {get_key(env_path, \"AKS_CLUSTER\")} -g {get_key(env_path, \"RESOURCE_GROUP\")}\n",
    "```"
   ]
  },
  {
   "cell_type": "markdown",
   "metadata": {},
   "source": [
    "### Additional commands for AKS"
   ]
  },
  {
   "cell_type": "markdown",
   "metadata": {},
   "source": [
    "Scale your AKS cluster:\n",
    "\n",
    "```bash \n",
    "!az aks scale \\\n",
    "    --name {get_key(env_path, \"AKS_CLUSTER\")} \\\n",
    "    --resource-group {get_key(env_path, \"RESOURCE_GROUP\")} \\\n",
    "    --node-count 10\n",
    "```\n",
    "\n",
    "Scale your deployment:\n",
    "```bash\n",
    "!kubectl scale deployment.apps/aks-app --replicas=10\n",
    "```"
   ]
  },
  {
   "cell_type": "markdown",
   "metadata": {},
   "source": [
    "---"
   ]
  },
  {
   "cell_type": "markdown",
   "metadata": {},
   "source": [
    "Continue to the next [notebook](/notebooks/04_deploy_logic_app.ipynb)."
   ]
  }
 ],
 "metadata": {
  "kernelspec": {
   "display_name": "Python [conda env:batchscoringdl]",
   "language": "python",
   "name": "conda-env-batchscoringdl-py"
  },
  "language_info": {
   "codemirror_mode": {
    "name": "ipython",
    "version": 3
   },
   "file_extension": ".py",
   "mimetype": "text/x-python",
   "name": "python",
   "nbconvert_exporter": "python",
   "pygments_lexer": "ipython3",
   "version": "3.6.7"
  }
 },
 "nbformat": 4,
 "nbformat_minor": 2
}
