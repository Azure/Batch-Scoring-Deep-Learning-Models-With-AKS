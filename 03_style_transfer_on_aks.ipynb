{
 "cells": [
  {
   "cell_type": "markdown",
   "metadata": {},
   "source": [
    "# 3. Neural Style Transfer on AKS\n",
    "\n",
    "We've tested locally in the previous notebook. Now use an AKS cluster and test that our neural style transfer script still works as expected when running across multiple nodes in parallel on AKS.\n",
    "\n",
    "1. Build AKS Docker Image\n",
    "2. Test style transfer on Docker locally\n",
    "3. Push docker image to Docker hub\n",
    "4. Provision AKS cluster \n",
    "5. Test style transfer on parallel on AKS cluster"
   ]
  },
  {
   "cell_type": "markdown",
   "metadata": {},
   "source": [
    "---"
   ]
  },
  {
   "cell_type": "markdown",
   "metadata": {},
   "source": [
    "### Import packages and load .env"
   ]
  },
  {
   "cell_type": "code",
   "execution_count": null,
   "metadata": {},
   "outputs": [],
   "source": [
    "from dotenv import set_key, get_key, find_dotenv, load_dotenv\n",
    "from pathlib import Path\n",
    "import json\n",
    "import os\n",
    "%load_ext dotenv\n",
    "%dotenv"
   ]
  },
  {
   "cell_type": "code",
   "execution_count": null,
   "metadata": {},
   "outputs": [],
   "source": [
    "env_path = find_dotenv(raise_error_if_not_found=True)\n",
    "load_dotenv(env_path)"
   ]
  },
  {
   "cell_type": "markdown",
   "metadata": {},
   "source": [
    "### Define Variables"
   ]
  },
  {
   "cell_type": "code",
   "execution_count": null,
   "metadata": {},
   "outputs": [],
   "source": [
    "docker_login = \"<docker-login>\"\n",
    "aks_image_repo = \"batchscoringdl_aks_app\""
   ]
  },
  {
   "cell_type": "code",
   "execution_count": null,
   "metadata": {},
   "outputs": [],
   "source": [
    "aks_cluster = \"<your-aks-cluster>\""
   ]
  },
  {
   "cell_type": "markdown",
   "metadata": {},
   "source": [
    "### Build AKS Docker Image"
   ]
  },
  {
   "cell_type": "code",
   "execution_count": null,
   "metadata": {},
   "outputs": [],
   "source": [
    "%%writefile aks/requirements.txt\n",
    "azure==4.0.0\n",
    "torch==0.4.1\n",
    "torchvision==0.2.1"
   ]
  },
  {
   "cell_type": "code",
   "execution_count": null,
   "metadata": {},
   "outputs": [],
   "source": [
    "%%writefile aks/Dockerfile\n",
    "\n",
    "FROM nvidia/cuda:9.0-cudnn7-devel-ubuntu16.04\n",
    "\n",
    "RUN echo \"deb http://developer.download.nvidia.com/compute/machine-learning/repos/ubuntu1604/x86_64 /\" > /etc/apt/sources.list.d/nvidia-ml.list\n",
    "\n",
    "RUN apt-get update && apt-get install -y --no-install-recommends \\\n",
    "        build-essential \\\n",
    "        ca-certificates \\\n",
    "        cmake \\\n",
    "        curl \\\n",
    "        git \\\n",
    "        nginx \\\n",
    "        supervisor \\\n",
    "        wget && \\\n",
    "        rm -rf /var/lib/apt/lists/*\n",
    "\n",
    "ENV PYTHON_VERSION=3.6\n",
    "RUN curl -o ~/miniconda.sh -O  https://repo.continuum.io/miniconda/Miniconda3-latest-Linux-x86_64.sh  && \\\n",
    "    chmod +x ~/miniconda.sh && \\\n",
    "    ~/miniconda.sh -b -p /opt/conda && \\\n",
    "    rm ~/miniconda.sh && \\\n",
    "    /opt/conda/bin/conda create -y --name py$PYTHON_VERSION python=$PYTHON_VERSION && \\\n",
    "    /opt/conda/bin/conda clean -ya\n",
    "ENV PATH /opt/conda/envs/py$PYTHON_VERSION/bin:$PATH\n",
    "ENV LD_LIBRARY_PATH /opt/conda/envs/py$PYTHON_VERSION/lib:/usr/local/cuda/lib64/:$LD_LIBRARY_PATH\n",
    "ENV PYTHONPATH /code/:$PYTHONPATH\n",
    "\n",
    "RUN mkdir /app\n",
    "WORKDIR /app\n",
    "ADD process_images_from_queue.py /app\n",
    "ADD style_transfer.py /app\n",
    "ADD main.py /app\n",
    "ADD util.py /app\n",
    "ADD requirements.txt /app\n",
    "\n",
    "RUN pip install --no-cache-dir -r requirements.txt\n",
    "\n",
    "CMD [\"python\", \"main.py\"]"
   ]
  },
  {
   "cell_type": "code",
   "execution_count": null,
   "metadata": {},
   "outputs": [],
   "source": [
    "!sudo docker build -t $aks_image_repo aks"
   ]
  },
  {
   "cell_type": "markdown",
   "metadata": {},
   "source": [
    "### Test Docker image locally (before deploying on AKS)"
   ]
  },
  {
   "cell_type": "markdown",
   "metadata": {},
   "source": [
    "add images to queue"
   ]
  },
  {
   "cell_type": "code",
   "execution_count": null,
   "metadata": {},
   "outputs": [],
   "source": [
    "input_frames_dir = \"orangutan_frames_test\"\n",
    "docker_output_frames_dir = \"orangutan_frames_docker_test_processed\""
   ]
  },
  {
   "cell_type": "code",
   "execution_count": null,
   "metadata": {},
   "outputs": [],
   "source": [
    "!python aci/add_images_to_queue.py \\\n",
    "    --input-dir $input_frames_dir \\\n",
    "    --output-dir $docker_output_frames_dir \\\n",
    "    --style \"mosaic\" \\\n",
    "    --queue-limit 10"
   ]
  },
  {
   "cell_type": "code",
   "execution_count": null,
   "metadata": {},
   "outputs": [],
   "source": [
    "!sed -e \"s/=\\\"/=/g\" -e \"s/\\\"$//g\" .env > .env.docker"
   ]
  },
  {
   "cell_type": "code",
   "execution_count": null,
   "metadata": {},
   "outputs": [],
   "source": [
    "!cat .env.docker"
   ]
  },
  {
   "cell_type": "markdown",
   "metadata": {},
   "source": [
    "run docker locally"
   ]
  },
  {
   "cell_type": "code",
   "execution_count": null,
   "metadata": {},
   "outputs": [],
   "source": [
    "!sudo docker run --runtime=nvidia --env-file \".env.docker\" $aks_image_repo"
   ]
  },
  {
   "cell_type": "markdown",
   "metadata": {},
   "source": [
    "Check that queue is now empty"
   ]
  },
  {
   "cell_type": "code",
   "execution_count": null,
   "metadata": {},
   "outputs": [],
   "source": [
    "!az servicebus queue show \\\n",
    "    --name {get_key(env_path, \"SB_QUEUE\")} \\\n",
    "    --namespace-name {get_key(env_path, \"SB_NAMESPACE\")} \\\n",
    "    --resource-group {get_key(env_path, \"RESOURCE_GROUP\")} \\\n",
    "    --query 'countDetails.activeMessageCount'"
   ]
  },
  {
   "cell_type": "markdown",
   "metadata": {},
   "source": [
    "tag and push docker image"
   ]
  },
  {
   "cell_type": "code",
   "execution_count": null,
   "metadata": {},
   "outputs": [],
   "source": [
    "!sudo docker tag $aks_image_repo $docker_login/$aks_image_repo"
   ]
  },
  {
   "cell_type": "code",
   "execution_count": null,
   "metadata": {},
   "outputs": [],
   "source": [
    "!sudo docker push $docker_login/$aks_image_repo"
   ]
  },
  {
   "cell_type": "markdown",
   "metadata": {},
   "source": [
    "### Provision AKS cluster"
   ]
  },
  {
   "cell_type": "markdown",
   "metadata": {},
   "source": [
    "This step may take a while... Please note that this step creates another resource group in your subscription containing the actual compute of the AKS cluster."
   ]
  },
  {
   "cell_type": "code",
   "execution_count": null,
   "metadata": {},
   "outputs": [],
   "source": [
    "node_count = 10"
   ]
  },
  {
   "cell_type": "code",
   "execution_count": null,
   "metadata": {},
   "outputs": [],
   "source": [
    "!az aks create \\\n",
    "    --resource-group {get_key(env_path, \"RESOURCE_GROUP\")} \\\n",
    "    --name $aks_cluster \\\n",
    "    --node-count $node_count \\\n",
    "    --node-vm-size \"Standard_NC6s_v2\" \\\n",
    "    --generate-ssh-keys"
   ]
  },
  {
   "cell_type": "markdown",
   "metadata": {},
   "source": [
    "Install Kubectl - this tool is used to manage the kubernetes cluster."
   ]
  },
  {
   "cell_type": "code",
   "execution_count": null,
   "metadata": {},
   "outputs": [],
   "source": [
    "!sudo az aks install-cli"
   ]
  },
  {
   "cell_type": "code",
   "execution_count": null,
   "metadata": {},
   "outputs": [],
   "source": [
    "!az aks get-credentials \\\n",
    "    --resource-group {get_key(env_path, 'RESOURCE_GROUP')}\\\n",
    "    --name $aks_cluster"
   ]
  },
  {
   "cell_type": "code",
   "execution_count": null,
   "metadata": {},
   "outputs": [],
   "source": [
    "!kubectl get nodes"
   ]
  },
  {
   "cell_type": "code",
   "execution_count": null,
   "metadata": {},
   "outputs": [],
   "source": [
    "!kubectl get pods"
   ]
  },
  {
   "cell_type": "markdown",
   "metadata": {},
   "source": [
    "### Deploy docker image to AKS cluster"
   ]
  },
  {
   "cell_type": "markdown",
   "metadata": {},
   "source": [
    "To deploy our neural style transfer script into our AKS cluster, we need to define what the deployment will look like:"
   ]
  },
  {
   "cell_type": "code",
   "execution_count": null,
   "metadata": {},
   "outputs": [],
   "source": [
    "aks_deployment_json = {\n",
    "    \"apiVersion\": \"apps/v1beta1\",\n",
    "    \"kind\": \"Deployment\",\n",
    "    \"metadata\": {\n",
    "        \"name\": \"aks-app\", \n",
    "        \"labels\": {\n",
    "            \"purpose\": \"dequeue_messages_and_apply_style_transfer\"\n",
    "        }\n",
    "    },\n",
    "    \"spec\": {\n",
    "        \"replicas\": node_count,\n",
    "        \"template\": {\n",
    "            \"metadata\": {\n",
    "                \"labels\": {\n",
    "                    \"app\": \"aks-app\"\n",
    "                }\n",
    "            },\n",
    "            \"spec\": {\n",
    "                \"containers\": [\n",
    "                    {\n",
    "                        \"name\": \"aks-app\",\n",
    "                        \"image\": \"{}/{}:latest\".format(docker_login, aks_image_repo),\n",
    "                        \"volumeMounts\": [\n",
    "                            {\n",
    "                                \"mountPath\": \"/usr/local/nvidia\", \n",
    "                                \"name\": \"nvidia\"\n",
    "                            }\n",
    "                        ],\n",
    "                        \"resources\": {\n",
    "                            \"requests\": {\n",
    "                                \"alpha.kubernetes.io/nvidia-gpu\": 1\n",
    "                            },\n",
    "                            \"limits\": {\n",
    "                                \"alpha.kubernetes.io/nvidia-gpu\": 1\n",
    "                            },\n",
    "                        },\n",
    "                        \"ports\": [{\n",
    "                            \"containerPort\": 433\n",
    "                        }],\n",
    "                        \"env\": [\n",
    "                            {\n",
    "                                \"name\": \"LB_LIBRARY_PATH\",\n",
    "                                \"value\": \"$LD_LIBRARY_PATH:/usr/local/nvidia/lib64:/opt/conda/envs/py3.6/lib\",\n",
    "                            },\n",
    "                            {\n",
    "                                \"name\": \"DP_DISABLE_HEALTHCHECKS\", \n",
    "                                \"value\": \"xids\"\n",
    "                            },\n",
    "                            {\n",
    "                                \"name\": \"STORAGE_MODEL_DIR\",\n",
    "                                \"value\": get_key(env_path, \"STORAGE_MODEL_DIR\")\n",
    "                            },\n",
    "                            {\n",
    "                                \"name\": \"SUBSCRIPTION_ID\",\n",
    "                                \"value\": get_key(env_path, \"SUBSCRIPTION_ID\")\n",
    "                            },\n",
    "                            {\n",
    "                                \"name\": \"RESOURCE_GROUP\",\n",
    "                                \"value\": get_key(env_path, \"RESOURCE_GROUP\")\n",
    "                            },\n",
    "                            {\n",
    "                                \"name\": \"REGION\",\n",
    "                                \"value\": get_key(env_path, \"REGION\")\n",
    "                            },\n",
    "                            {\n",
    "                                \"name\": \"STORAGE_ACCOUNT_NAME\", \n",
    "                                \"value\": get_key(env_path, \"STORAGE_ACCOUNT_NAME\")\n",
    "                            },\n",
    "                            {\n",
    "                                \"name\": \"STORAGE_ACCOUNT_KEY\",\n",
    "                                \"value\": get_key(env_path, \"STORAGE_ACCOUNT_KEY\")\n",
    "                            },\n",
    "                            {\n",
    "                                \"name\": \"STORAGE_CONTAINER_NAME\",\n",
    "                                \"value\": get_key(env_path, \"STORAGE_CONTAINER_NAME\")\n",
    "                            },\n",
    "                            {\n",
    "                                \"name\": \"SB_SHARED_ACCESS_KEY_NAME\",\n",
    "                                \"value\": get_key(env_path, \"SB_SHARED_ACCESS_KEY_NAME\")\n",
    "                            },\n",
    "                            {\n",
    "                                \"name\": \"SB_SHARED_ACCESS_KEY_VALUE\",\n",
    "                                \"value\": get_key(env_path, \"SB_SHARED_ACCESS_KEY_VALUE\")\n",
    "                            },\n",
    "                            {\n",
    "                                \"name\": \"SB_NAMESPACE\",\n",
    "                                \"value\": get_key(env_path, \"SB_NAMESPACE\")\n",
    "                            },\n",
    "                            {\n",
    "                                \"name\": \"SB_QUEUE\", \n",
    "                                \"value\": get_key(env_path, \"SB_QUEUE\")\n",
    "                            },\n",
    "                        ],\n",
    "                    }\n",
    "                ],\n",
    "                \"volumes\": [\n",
    "                    {\n",
    "                        \"name\": \"nvidia\", \n",
    "                        \"hostPath\": {\n",
    "                            \"path\": \"/usr/local/nvidia\"\n",
    "                        }\n",
    "                    }\n",
    "                ],\n",
    "            },\n",
    "        },\n",
    "    },\n",
    "}"
   ]
  },
  {
   "cell_type": "code",
   "execution_count": null,
   "metadata": {},
   "outputs": [],
   "source": [
    "with open(\"aks_deployment.json\", \"w\") as outfile:\n",
    "    json.dump(aks_deployment_json, outfile, indent=4, sort_keys=True)\n",
    "    outfile.write('\\n\\n')"
   ]
  },
  {
   "cell_type": "markdown",
   "metadata": {},
   "source": [
    "### Run style transfer on AKS"
   ]
  },
  {
   "cell_type": "code",
   "execution_count": null,
   "metadata": {},
   "outputs": [],
   "source": [
    "aks_output_frames_dir = \"orangutan_frames_aks_test_processed\""
   ]
  },
  {
   "cell_type": "code",
   "execution_count": null,
   "metadata": {},
   "outputs": [],
   "source": [
    "!python aci/add_images_to_queue.py \\\n",
    "    --input-dir $input_frames_dir \\\n",
    "    --output-dir $aks_output_frames_dir \\\n",
    "    --style \"mosaic\" \\\n",
    "    --queue-limit 12"
   ]
  },
  {
   "cell_type": "code",
   "execution_count": null,
   "metadata": {},
   "outputs": [],
   "source": [
    "!kubectl create -f aks_deployment.json"
   ]
  },
  {
   "cell_type": "code",
   "execution_count": null,
   "metadata": {},
   "outputs": [],
   "source": [
    "!kubectl get pods"
   ]
  },
  {
   "cell_type": "code",
   "execution_count": null,
   "metadata": {},
   "outputs": [],
   "source": [
    "pod_json = !kubectl get pods -o json\n",
    "pod_dict = json.loads(''.join(pod_json))\n",
    "!kubectl logs {pod_dict['items'][0]['metadata']['name']}"
   ]
  },
  {
   "cell_type": "code",
   "execution_count": null,
   "metadata": {},
   "outputs": [],
   "source": [
    "!az servicebus queue show \\\n",
    "    --name {get_key(env_path, \"SB_QUEUE\")} \\\n",
    "    --namespace-name {get_key(env_path, \"SB_NAMESPACE\")} \\\n",
    "    --resource-group {get_key(env_path, \"RESOURCE_GROUP\")} \\\n",
    "    --query 'countDetails.activeMessageCount'"
   ]
  },
  {
   "cell_type": "markdown",
   "metadata": {},
   "source": [
    "### Monitor in kubernetes dashboard"
   ]
  },
  {
   "cell_type": "code",
   "execution_count": null,
   "metadata": {},
   "outputs": [],
   "source": [
    "!kubectl create -f kube_dashboard_access.yaml"
   ]
  },
  {
   "cell_type": "code",
   "execution_count": null,
   "metadata": {},
   "outputs": [],
   "source": [
    "!az aks browse -n $aks_cluster -g {get_key(env_path, \"RESOURCE_GROUP\")}"
   ]
  },
  {
   "cell_type": "markdown",
   "metadata": {},
   "source": [
    "### (Optional) Additional commands for AKS"
   ]
  },
  {
   "cell_type": "markdown",
   "metadata": {},
   "source": [
    "Scale your AKS cluster"
   ]
  },
  {
   "cell_type": "code",
   "execution_count": null,
   "metadata": {},
   "outputs": [],
   "source": [
    "!az aks scale --name $aks_cluster --resource-group {get_key(env_path, \"RESOURCE_GROUP\")} --node-count 5"
   ]
  },
  {
   "cell_type": "markdown",
   "metadata": {},
   "source": [
    "Scale your deployment"
   ]
  },
  {
   "cell_type": "code",
   "execution_count": null,
   "metadata": {},
   "outputs": [],
   "source": [
    "! kubectl scale deployment.apps/aks-app --replicas=10"
   ]
  },
  {
   "cell_type": "markdown",
   "metadata": {},
   "source": [
    "---"
   ]
  },
  {
   "cell_type": "markdown",
   "metadata": {},
   "source": [
    "### Conclusion"
   ]
  },
  {
   "cell_type": "markdown",
   "metadata": {},
   "source": [
    "Since we'll be using these settings throughout this tutorial, we'll also same them to the `.env` file."
   ]
  },
  {
   "cell_type": "code",
   "execution_count": null,
   "metadata": {},
   "outputs": [],
   "source": [
    "set_key(env_path, \"DOCKER_LOGIN\", docker_login)\n",
    "set_key(env_path, \"AKS_IMAGE\", aks_image_repo)\n",
    "set_key(env_path, \"AKS_CLUSTER\", aks_cluster)"
   ]
  },
  {
   "cell_type": "markdown",
   "metadata": {},
   "source": [
    "Check that our `.env` file looks correct."
   ]
  },
  {
   "cell_type": "code",
   "execution_count": null,
   "metadata": {},
   "outputs": [],
   "source": [
    "!cat .env"
   ]
  },
  {
   "cell_type": "markdown",
   "metadata": {},
   "source": [
    "Continue to the next [notebook](/notebooks/04_deploy_logic_app.ipynb)."
   ]
  }
 ],
 "metadata": {
  "kernelspec": {
   "display_name": "Python [conda env:batchscoringdl]",
   "language": "python",
   "name": "conda-env-batchscoringdl-py"
  },
  "language_info": {
   "codemirror_mode": {
    "name": "ipython",
    "version": 3
   },
   "file_extension": ".py",
   "mimetype": "text/x-python",
   "name": "python",
   "nbconvert_exporter": "python",
   "pygments_lexer": "ipython3",
   "version": "3.6.7"
  }
 },
 "nbformat": 4,
 "nbformat_minor": 2
}
