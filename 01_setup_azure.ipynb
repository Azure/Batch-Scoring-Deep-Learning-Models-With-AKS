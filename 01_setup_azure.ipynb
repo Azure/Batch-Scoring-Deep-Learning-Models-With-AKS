{
 "cells": [
  {
   "cell_type": "markdown",
   "metadata": {},
   "source": [
    "# 1. Setup Azure\n",
    "Now that we've testing things locally, we're ready to use Azure to scale up our workload, automate and operationalize the job. \n",
    "\n",
    "First, we will walk through setting up credentials and settings for connecting to and creating resources in Azure. Then we will create an Azure blob storage which will be used throughout the tutorial as our object store. "
   ]
  },
  {
   "cell_type": "markdown",
   "metadata": {},
   "source": [
    "---"
   ]
  },
  {
   "cell_type": "markdown",
   "metadata": {},
   "source": [
    "Import utilities."
   ]
  },
  {
   "cell_type": "code",
   "execution_count": 2,
   "metadata": {},
   "outputs": [],
   "source": [
    "import re\n",
    "from dotenv import set_key, get_key, find_dotenv\n",
    "%load_ext dotenv"
   ]
  },
  {
   "cell_type": "code",
   "execution_count": 4,
   "metadata": {},
   "outputs": [],
   "source": [
    "env_path = find_dotenv()\n",
    "if env_path=='':\n",
    "    Path('.env').touch()\n",
    "    env_path = find_dotenv()"
   ]
  },
  {
   "cell_type": "markdown",
   "metadata": {},
   "source": [
    "## Set up your resource group\n",
    "Make sure you've identified which subscription_id and region to use. Create a new resource group to contain all the resources that we create.\n",
    "\n",
    "This section of the notebook will walk through setting up the resource group using the __az cli__."
   ]
  },
  {
   "cell_type": "markdown",
   "metadata": {},
   "source": [
    "Select which subscription you'd like to use for this project:\n",
    "1. Print out all available subscriptions associated with your account\n",
    "2. Set the Subscription ID you'd like to use as variable `subscription_id`\n",
    "3. In the __az cli__, set the active subscription"
   ]
  },
  {
   "cell_type": "code",
   "execution_count": 1,
   "metadata": {},
   "outputs": [
    {
     "name": "stdout",
     "output_type": "stream",
     "text": [
      "Name                        CloudName    SubscriptionId                        State    IsDefault\r\n",
      "--------------------------  -----------  ------------------------------------  -------  -----------\r\n",
      "js_cloudai_subscription     AzureCloud   6dccbc1d-7b59-4ed6-bf8c-9747be083210  Enabled  False\r\n",
      "Cosmos_WDG_Core_BnB_100348  AzureCloud   dae41bd3-9db4-4b9b-943e-832b57cac828  Enabled  False\r\n",
      "1DS4ES-NonProd              AzureCloud   8c52214a-96c8-44e4-af24-31c54b965422  Enabled  False\r\n",
      "1DS4ES-Prod                 AzureCloud   9a2ea167-0faf-4834-a0f7-cc08e844bf82  Enabled  False\r\n",
      "Azure Cat E2E               AzureCloud   fc4ea3c9-1d30-4f18-b33b-7404e7da0123  Enabled  False\r\n",
      "Core-ES-BLD                 AzureCloud   54e18c35-3863-4a17-8e52-b5aa1e65847e  Enabled  False\r\n",
      "Batch-Portal-Test-In-Prod   AzureCloud   21abd678-18c5-4660-9fdd-8c5ba6b6fe1f  Enabled  False\r\n",
      "Boston Team Danielle        AzureCloud   edf507a2-6235-46c5-b560-fd463ba2e771  Enabled  True\r\n",
      "US Deployments              AzureCloud   75782cc3-a246-47f9-af25-b03eff851f76  Enabled  False\r\n"
     ]
    }
   ],
   "source": [
    "!az account list -o table"
   ]
  },
  {
   "cell_type": "code",
   "execution_count": null,
   "metadata": {},
   "outputs": [],
   "source": [
    "subscription_id = \"<your-subscription>\""
   ]
  },
  {
   "cell_type": "code",
   "execution_count": null,
   "metadata": {},
   "outputs": [],
   "source": [
    "!az account set -s $subscription_id"
   ]
  },
  {
   "cell_type": "markdown",
   "metadata": {},
   "source": [
    "Choose a name for the resource group you'll be using for this project. You can think of resource groups as logical containers for the resources you'll create in this tutorial."
   ]
  },
  {
   "cell_type": "code",
   "execution_count": null,
   "metadata": {},
   "outputs": [],
   "source": [
    "resource_group = \"<your-resource-group>\""
   ]
  },
  {
   "cell_type": "markdown",
   "metadata": {},
   "source": [
    "Select the region you wish to deploy your resources in. \n",
    "\n",
    "NOTE: You can see a list of the regions under the key 'name' when running the command `az account list-locations`. \n",
    "\n",
    "NOTE: Not all regions support GPU enabled VMs. You can check [here](https://azure.microsoft.com/en-us/pricing/details/virtual-machines/linux/)"
   ]
  },
  {
   "cell_type": "code",
   "execution_count": null,
   "metadata": {},
   "outputs": [],
   "source": [
    "region = \"<selected-region>\""
   ]
  },
  {
   "cell_type": "markdown",
   "metadata": {},
   "source": [
    "Create the resource group which we'll put our storage account and all other resources for this project into."
   ]
  },
  {
   "cell_type": "code",
   "execution_count": null,
   "metadata": {},
   "outputs": [],
   "source": [
    "!az group create -l $region -n $resource_group"
   ]
  },
  {
   "cell_type": "markdown",
   "metadata": {},
   "source": [
    "Since we'll be using these settings throughout this tutorial, we'll also same them to the `.env` file."
   ]
  },
  {
   "cell_type": "code",
   "execution_count": null,
   "metadata": {},
   "outputs": [],
   "source": [
    "set_key(env_path, \"SUBSCRIPTION_ID\", subscription_id)\n",
    "set_key(env_path, \"RESOURCE_GROUP\", resource_group)\n",
    "set_key(env_path, \"REGION\", region)"
   ]
  },
  {
   "cell_type": "markdown",
   "metadata": {},
   "source": [
    "## Create Azure blob storage\n",
    "In this section of the notebook, we'll create an Azure blob storage that we'll use throughout the tutorial. This object store will be used to store input and output images as well as any supplementary data such as logs and other scripts that will be used in this workflow."
   ]
  },
  {
   "cell_type": "markdown",
   "metadata": {},
   "source": [
    "Create the storage account:\n",
    "1. Select a name for your storage account and assign it to the variable `storage_account_name`\n",
    "2. Use the __az cli__ to create the account"
   ]
  },
  {
   "cell_type": "code",
   "execution_count": null,
   "metadata": {},
   "outputs": [],
   "source": [
    "storage_account_name = \"<your-storage-account-name>\""
   ]
  },
  {
   "cell_type": "code",
   "execution_count": null,
   "metadata": {},
   "outputs": [],
   "source": [
    "!az storage account create -n $storage_account_name -g $resource_group --query 'provisioningState'"
   ]
  },
  {
   "cell_type": "markdown",
   "metadata": {},
   "source": [
    "Use the __az cli__ to grab the keys of the storage account that was just created. The `--quote '[0].value'` part of the command simply means to select the _value_ of the _zero-th indexed_ of the set of keys."
   ]
  },
  {
   "cell_type": "code",
   "execution_count": null,
   "metadata": {},
   "outputs": [],
   "source": [
    "key = !az storage account keys list --account-name $storage_account_name -g $resource_group --query '[0].value'"
   ]
  },
  {
   "cell_type": "markdown",
   "metadata": {},
   "source": [
    "The stdout from the command above is stored in a string array of 1. Select the element in the array and ttrip opening and closing quotation marks."
   ]
  },
  {
   "cell_type": "code",
   "execution_count": null,
   "metadata": {},
   "outputs": [],
   "source": [
    "storage_account_key = str(key[0][1:-1]) # this is used to strip opening and closing quotation marks"
   ]
  },
  {
   "cell_type": "markdown",
   "metadata": {},
   "source": [
    "The container in the storage account is a logical container for individual blobs. For this project, we'll store all content into a single container for ease-of-use.\n",
    "1. Select a name for your storage container and assign it to the variable `azure_container_name`\n",
    "2. Use the __az cli__ to create the container in the storage account"
   ]
  },
  {
   "cell_type": "code",
   "execution_count": null,
   "metadata": {},
   "outputs": [],
   "source": [
    "storage_container_name = \"aks\""
   ]
  },
  {
   "cell_type": "code",
   "execution_count": null,
   "metadata": {},
   "outputs": [],
   "source": [
    "!az storage container create \\\n",
    "    --account-name $storage_account_name \\\n",
    "    --account-key $storage_account_key \\\n",
    "    --name $storage_container_name"
   ]
  },
  {
   "cell_type": "markdown",
   "metadata": {},
   "source": [
    "Since we'll be using these settings throughout this tutorial, we'll also same them to the `.env` file."
   ]
  },
  {
   "cell_type": "code",
   "execution_count": null,
   "metadata": {},
   "outputs": [],
   "source": [
    "set_key(env_path, \"STORAGE_ACCOUNT_NAME\", storage_account_name)\n",
    "set_key(env_path, \"STORAGE_ACCOUNT_KEY\", storage_account_key)\n",
    "set_key(env_path, \"STORAGE_CONTAINER_NAME\", storage_container_name)"
   ]
  },
  {
   "cell_type": "markdown",
   "metadata": {},
   "source": [
    "## Add Models to storage"
   ]
  },
  {
   "cell_type": "code",
   "execution_count": 5,
   "metadata": {},
   "outputs": [
    {
     "name": "stdout",
     "output_type": "stream",
     "text": [
      "\u001b[?1h\u001b=\u001b[6nFinished: 0 file(s), 0 B; Average Speed:0 B/s.                                 \u001b[6n\u001b[1;1H\u001b[6nFinished: 0 file(s), 0 B; Average Speed:0 B/s.                                 \u001b[6n\u001b[1;1H\u001b[6nFinished: 0 file(s), 0 B; Average Speed:0 B/s.                                 \u001b[6n\u001b[1;1H\u001b[6nFinished: 0 file(s), 0 B; Average Speed:0 B/s.                                 \u001b[6n\u001b[1;1H\u001b[6nFinished: 0 file(s), 2.428 MB; Average Speed:271.32 KB/s.                      \u001b[6n\u001b[1;1H\u001b[6nFinished: 2 file(s), 25.714 MB; Average Speed:2.29 MB/s.                       \u001b[6n\u001b[1;1H\u001b[6nFinished: 3 file(s), 25.714 MB; Average Speed:1.94 MB/s.                       \u001b[6n\u001b[1;1H\u001b[6nFinished: 4 file(s), 25.714 MB; Average Speed:1.68 MB/s.                       \u001b[6n\u001b[1;1H\u001b[6n                                                                               \u001b[6n\u001b[1;1HFinished 4 of total 4 file(s).\n",
      "\u001b[6n                                                                               \u001b[6n\u001b[1;1H[2018/11/08 02:46:15] Transfer summary:\n",
      "-----------------\n",
      "Total files transferred: 4\n",
      "Transfer successfully:   4\n",
      "Transfer skipped:        0\n",
      "Transfer failed:         0\n",
      "Elapsed time:            00.00:00:19\n"
     ]
    }
   ],
   "source": [
    "!azcopy \\\n",
    "    --source models \\\n",
    "    --destination https://{get_key(env_path, \"STORAGE_ACCOUNT_NAME\")}.blob.core.windows.net/{get_key(env_path, \"STORAGE_CONTAINER_NAME\")}/models2 \\\n",
    "    --dest-key {get_key(env_path, \"STORAGE_ACCOUNT_KEY\")} \\\n",
    "    --recursive \\\n",
    "    --resume \".\""
   ]
  },
  {
   "cell_type": "markdown",
   "metadata": {},
   "source": [
    "## Create Service Bus"
   ]
  },
  {
   "cell_type": "markdown",
   "metadata": {},
   "source": [
    "Set the name of your namespace and queue."
   ]
  },
  {
   "cell_type": "code",
   "execution_count": null,
   "metadata": {},
   "outputs": [],
   "source": [
    "namespace = \"<your-service-bus-namespace-name>\"\n",
    "queue = \"<your-service-bus-queue-name\""
   ]
  },
  {
   "cell_type": "markdown",
   "metadata": {},
   "source": [
    "Create the namespace."
   ]
  },
  {
   "cell_type": "code",
   "execution_count": null,
   "metadata": {},
   "outputs": [],
   "source": [
    "!az servicebus namespace create \\\n",
    "    --resource-group $resource_group \\\n",
    "    --name $namespace "
   ]
  },
  {
   "cell_type": "markdown",
   "metadata": {},
   "source": [
    "Create a service bus queue. Set the lock duration to 5 minutes. This means that the lock for each queue message will last for 5 minutes."
   ]
  },
  {
   "cell_type": "code",
   "execution_count": null,
   "metadata": {},
   "outputs": [],
   "source": [
    "!az servicebus queue create \\\n",
    "    --resource-group $resource_group \\\n",
    "    --namespace-name $namespace \\\n",
    "    --name $queue \\\n",
    "    --lock-duration PT5M"
   ]
  },
  {
   "cell_type": "markdown",
   "metadata": {},
   "source": [
    "By default, your servicebus resource will come with an key-value \"authorization rule\" pair - its key name will have the value: \"RootManageSharedAccessKey\". The following command simply verifies that the key name for the \"authorization rule\" exists and is named \"RootManageSharedAccessKey\"."
   ]
  },
  {
   "cell_type": "code",
   "execution_count": null,
   "metadata": {},
   "outputs": [],
   "source": [
    "!az servicebus namespace authorization-rule list \\\n",
    "    --resource-group $resource_group \\\n",
    "    --namespace-name $namespace \\\n",
    "    -o json --query \"[0].name\""
   ]
  },
  {
   "cell_type": "code",
   "execution_count": null,
   "metadata": {},
   "outputs": [],
   "source": [
    "sb_key_name = \"RootManageSharedAccessKey\""
   ]
  },
  {
   "cell_type": "markdown",
   "metadata": {},
   "source": [
    "Get the primary key value to \"RootManageSharedAccessKey\"."
   ]
  },
  {
   "cell_type": "code",
   "execution_count": null,
   "metadata": {},
   "outputs": [],
   "source": [
    "sb_credentials = !az servicebus namespace authorization-rule keys list \\\n",
    "    --resource-group $resource_group \\\n",
    "    --namespace-name $namespace \\\n",
    "    --name $sb_key_name \\\n",
    "    -o json --query \"primaryKey\""
   ]
  },
  {
   "cell_type": "code",
   "execution_count": null,
   "metadata": {},
   "outputs": [],
   "source": [
    "sb_key_value = re.findall(r'\"(.*?)\"', str(sb_credentials))[0]"
   ]
  },
  {
   "cell_type": "code",
   "execution_count": null,
   "metadata": {},
   "outputs": [],
   "source": [
    "set_key(env_path, \"SB_SHARED_ACCESS_KEY_NAME\", sb_key_name)\n",
    "set_key(env_path, \"SB_SHARED_ACCESS_KEY_VALUE\", sb_key_value)\n",
    "set_key(env_path, \"SB_NAMESPACE\", namespace)\n",
    "set_key(env_path, \"SB_QUEUE\", queue)"
   ]
  },
  {
   "cell_type": "markdown",
   "metadata": {},
   "source": [
    "---"
   ]
  },
  {
   "cell_type": "markdown",
   "metadata": {},
   "source": [
    "## Conclusion\n",
    "In this notebook, we've setup a service principal which gives us authentication to create resources in Azure. We've also create a storage account which will use throughout the rest of this tutorial. Next, we're going to [create our Batch AI cluster and run our work at scale in the cloud.](04_run_style_transfer_at_scale.ipynb)"
   ]
  },
  {
   "cell_type": "code",
   "execution_count": null,
   "metadata": {},
   "outputs": [],
   "source": [
    "!cat .env"
   ]
  }
 ],
 "metadata": {
  "kernelspec": {
   "display_name": "Python [conda env:batchscoringdl_aks]",
   "language": "python",
   "name": "conda-env-batchscoringdl_aks-py"
  },
  "language_info": {
   "codemirror_mode": {
    "name": "ipython",
    "version": 3
   },
   "file_extension": ".py",
   "mimetype": "text/x-python",
   "name": "python",
   "nbconvert_exporter": "python",
   "pygments_lexer": "ipython3",
   "version": "3.6.7"
  }
 },
 "nbformat": 4,
 "nbformat_minor": 2
}
