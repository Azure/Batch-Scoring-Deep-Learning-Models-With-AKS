{
 "cells": [
  {
   "cell_type": "markdown",
   "metadata": {},
   "source": [
    "# 1. Setup Azure\n",
    "In this notebook, we will set up the project in Azure by creating the resources we need.\n",
    "\n",
    "We start by creating the resource group that we'll put all resources into. Then we create our storage account which will be used to store all data (include logs). Finally we set up our Service Bus namespace, and a queue attached to it."
   ]
  },
  {
   "cell_type": "markdown",
   "metadata": {},
   "source": [
    "---"
   ]
  },
  {
   "cell_type": "markdown",
   "metadata": {},
   "source": [
    "### Import packages and load .env"
   ]
  },
  {
   "cell_type": "code",
   "execution_count": null,
   "metadata": {},
   "outputs": [],
   "source": [
    "import re\n",
    "from dotenv import set_key, get_key, find_dotenv\n",
    "from pathlib import Path\n",
    "%load_ext dotenv"
   ]
  },
  {
   "cell_type": "code",
   "execution_count": null,
   "metadata": {},
   "outputs": [],
   "source": [
    "env_path = find_dotenv()\n",
    "if env_path=='':\n",
    "    Path('.env').touch()\n",
    "    env_path = find_dotenv()"
   ]
  },
  {
   "cell_type": "markdown",
   "metadata": {},
   "source": [
    "### Define variables"
   ]
  },
  {
   "cell_type": "markdown",
   "metadata": {},
   "source": [
    "Set variables for the project:\n",
    "\n",
    "- `subscription_id` - the subscription id for your Azure account. Use `az account list -o table` to list all subscriptions\n",
    "- `resource_group` - the name for the resource group you'll be using for this project. You can think of resource groups as logical containers for the resources you'll create in this tutorial.\n",
    "- `region` - the region you wish to deploy your resources in:\n",
    "    - You can see a list of the regions under the key 'name' when running the command `az account list-locations`. \n",
    "    - Not all regions support GPU enabled VMs. You can check [here](https://azure.microsoft.com/en-us/pricing/details/virtual-machines/linux/)"
   ]
  },
  {
   "cell_type": "code",
   "execution_count": null,
   "metadata": {},
   "outputs": [],
   "source": [
    "subscription_id = \"<your-subscription-id>\"\n",
    "resource_group = \"<your-resource-group>\"\n",
    "region = \"<your-region>\""
   ]
  },
  {
   "cell_type": "markdown",
   "metadata": {},
   "source": [
    "Set your storage account variables\n",
    "\n",
    "- `storage_account_name` - the name of your storage account\n",
    "- `storage_container_name` - the container in the storage account is a logical container for individual blobs. For this project, we'll store all content into a single container for ease-of-use. Set your container name.\n",
    "- `model_dir` - the name of directory you wish to store your models"
   ]
  },
  {
   "cell_type": "code",
   "execution_count": null,
   "metadata": {},
   "outputs": [],
   "source": [
    "storage_account_name = \"<your-storage-account-name>\"\n",
    "storage_container_name = \"aks\"\n",
    "model_dir = \"models\""
   ]
  },
  {
   "cell_type": "markdown",
   "metadata": {},
   "source": [
    "Set the Service Bus variables:\n",
    "\n",
    "- `namespace` - the namespace for your Service Bus - this can simply be thought of as a logical container for Service Bus\n",
    "- `queue` - the name of the queue. The queue belongs to the namespace."
   ]
  },
  {
   "cell_type": "code",
   "execution_count": null,
   "metadata": {},
   "outputs": [],
   "source": [
    "namespace = \"<your-namespace>\"\n",
    "queue = \"<your-queue>\""
   ]
  },
  {
   "cell_type": "markdown",
   "metadata": {},
   "source": [
    "### Set up your resource group\n",
    "Make sure you've identified which subscription_id and region to use. Create a new resource group to contain all the resources that we create.\n",
    "\n",
    "This section of the notebook will walk through setting up the resource group using the __az cli__."
   ]
  },
  {
   "cell_type": "code",
   "execution_count": null,
   "metadata": {},
   "outputs": [],
   "source": [
    "!az account set -s $subscription_id"
   ]
  },
  {
   "cell_type": "markdown",
   "metadata": {},
   "source": [
    "Create the resource group which we'll put our storage account and all other resources for this project into."
   ]
  },
  {
   "cell_type": "code",
   "execution_count": null,
   "metadata": {},
   "outputs": [],
   "source": [
    "!az group create -l $region -n $resource_group"
   ]
  },
  {
   "cell_type": "markdown",
   "metadata": {},
   "source": [
    "### Create Azure blob storage\n",
    "In this section of the notebook, we'll create an Azure blob storage that we'll use throughout the tutorial. This object store will be used to store input and output images as well as any supplementary data such as logs and other scripts that will be used in this workflow."
   ]
  },
  {
   "cell_type": "markdown",
   "metadata": {},
   "source": [
    "Use the __az cli__ to create the account"
   ]
  },
  {
   "cell_type": "code",
   "execution_count": null,
   "metadata": {},
   "outputs": [],
   "source": [
    "!az storage account create -n $storage_account_name -g $resource_group --query 'provisioningState'"
   ]
  },
  {
   "cell_type": "markdown",
   "metadata": {},
   "source": [
    "Use the __az cli__ to grab the keys of the storage account that was just created. The `--quote '[0].value'` part of the command simply means to select the _value_ of the _zero-th indexed_ of the set of keys."
   ]
  },
  {
   "cell_type": "code",
   "execution_count": null,
   "metadata": {},
   "outputs": [],
   "source": [
    "key = !az storage account keys list --account-name $storage_account_name -g $resource_group --query '[0].value'"
   ]
  },
  {
   "cell_type": "markdown",
   "metadata": {},
   "source": [
    "The stdout from the command above is stored in a string array of 1. Select the element in the array and ttrip opening and closing quotation marks."
   ]
  },
  {
   "cell_type": "code",
   "execution_count": null,
   "metadata": {},
   "outputs": [],
   "source": [
    "storage_account_key = str(key[0][1:-1]) # this is used to strip opening and closing quotation marks"
   ]
  },
  {
   "cell_type": "markdown",
   "metadata": {},
   "source": [
    "Use the __az cli__ to create the container in the storage account"
   ]
  },
  {
   "cell_type": "code",
   "execution_count": null,
   "metadata": {},
   "outputs": [],
   "source": [
    "!az storage container create \\\n",
    "    --account-name $storage_account_name \\\n",
    "    --account-key $storage_account_key \\\n",
    "    --name $storage_container_name"
   ]
  },
  {
   "cell_type": "markdown",
   "metadata": {},
   "source": [
    "### Add Models to storage"
   ]
  },
  {
   "cell_type": "markdown",
   "metadata": {},
   "source": [
    "When you download this repo, the project comes with a folder `models`. In the folder, there are 4 pre-built model files. We want to copy this entire folder up to storage so that it can be used by aks later on in this project."
   ]
  },
  {
   "cell_type": "code",
   "execution_count": null,
   "metadata": {},
   "outputs": [],
   "source": [
    "!azcopy \\\n",
    "    --source models \\\n",
    "    --destination \"https://\"$storage_account_name\".blob.core.windows.net/\"$storage_container_name\"/\"$model_dir \\\n",
    "    --dest-key $storage_account_key \\\n",
    "    --recursive \\\n",
    "    --resume \".\""
   ]
  },
  {
   "cell_type": "markdown",
   "metadata": {},
   "source": [
    "### Create Service Bus"
   ]
  },
  {
   "cell_type": "markdown",
   "metadata": {},
   "source": [
    "Create the namespace."
   ]
  },
  {
   "cell_type": "code",
   "execution_count": null,
   "metadata": {},
   "outputs": [],
   "source": [
    "!az servicebus namespace create \\\n",
    "    --resource-group $resource_group \\\n",
    "    --name $namespace "
   ]
  },
  {
   "cell_type": "markdown",
   "metadata": {},
   "source": [
    "Create a service bus queue. Set the lock duration to 5 minutes. This means that the lock for each queue message will last for 5 minutes."
   ]
  },
  {
   "cell_type": "code",
   "execution_count": null,
   "metadata": {},
   "outputs": [],
   "source": [
    "!az servicebus queue create \\\n",
    "    --resource-group $resource_group \\\n",
    "    --namespace-name $namespace \\\n",
    "    --name $queue \\\n",
    "    --lock-duration PT5M"
   ]
  },
  {
   "cell_type": "markdown",
   "metadata": {},
   "source": [
    "Now that we've created our Service Bus namespace and queue, we need to get the key-name/key-value pair so that we can access it.\n",
    "\n",
    "By default, your Service Bus resource will come with an key-value \"authorization rule\" pair - its key name will have the value: \"RootManageSharedAccessKey\". The following command will get the key name for the \"authorization rule\", and assign it as `sb_key_name`."
   ]
  },
  {
   "cell_type": "code",
   "execution_count": null,
   "metadata": {},
   "outputs": [],
   "source": [
    "sb_key_name = !az servicebus namespace authorization-rule list \\\n",
    "    --resource-group $resource_group \\\n",
    "    --namespace-name $namespace \\\n",
    "    -o json --query \"[0].name\"\n",
    "\n",
    "sb_key_name = str(sb_key_name[0][1:-1])"
   ]
  },
  {
   "cell_type": "markdown",
   "metadata": {},
   "source": [
    "Get the primary key value to \"RootManageSharedAccessKey\"."
   ]
  },
  {
   "cell_type": "code",
   "execution_count": null,
   "metadata": {},
   "outputs": [],
   "source": [
    "sb_credentials = !az servicebus namespace authorization-rule keys list \\\n",
    "    --resource-group $resource_group \\\n",
    "    --namespace-name $namespace \\\n",
    "    --name $sb_key_name \\\n",
    "    -o json --query \"primaryKey\""
   ]
  },
  {
   "cell_type": "code",
   "execution_count": null,
   "metadata": {},
   "outputs": [],
   "source": [
    "sb_key_value = re.findall(r'\"(.*?)\"', str(sb_credentials))[0]"
   ]
  },
  {
   "cell_type": "markdown",
   "metadata": {},
   "source": [
    "---"
   ]
  },
  {
   "cell_type": "markdown",
   "metadata": {},
   "source": [
    "### Conclusion"
   ]
  },
  {
   "cell_type": "markdown",
   "metadata": {},
   "source": [
    "Since we'll be using these settings throughout this tutorial, we'll also same them to the `.env` file."
   ]
  },
  {
   "cell_type": "code",
   "execution_count": null,
   "metadata": {},
   "outputs": [],
   "source": [
    "set_key(env_path, \"SUBSCRIPTION_ID\", subscription_id)\n",
    "set_key(env_path, \"RESOURCE_GROUP\", resource_group)\n",
    "set_key(env_path, \"REGION\", region)\n",
    "set_key(env_path, \"STORAGE_ACCOUNT_NAME\", storage_account_name)\n",
    "set_key(env_path, \"STORAGE_ACCOUNT_KEY\", storage_account_key)\n",
    "set_key(env_path, \"STORAGE_CONTAINER_NAME\", storage_container_name)\n",
    "set_key(env_path, \"STORAGE_MODEL_DIR\", model_dir)\n",
    "set_key(env_path, \"SB_SHARED_ACCESS_KEY_NAME\", sb_key_name)\n",
    "set_key(env_path, \"SB_SHARED_ACCESS_KEY_VALUE\", sb_key_value)\n",
    "set_key(env_path, \"SB_NAMESPACE\", namespace)\n",
    "set_key(env_path, \"SB_QUEUE\", queue)"
   ]
  },
  {
   "cell_type": "markdown",
   "metadata": {},
   "source": [
    "Check that our `.env` file looks correct."
   ]
  },
  {
   "cell_type": "code",
   "execution_count": null,
   "metadata": {},
   "outputs": [],
   "source": [
    "!cat .env"
   ]
  },
  {
   "cell_type": "markdown",
   "metadata": {},
   "source": [
    "Continue to the next [notebook](/notebooks/02_style_transfer_locally.ipynb)."
   ]
  }
 ],
 "metadata": {
  "kernelspec": {
   "display_name": "Python [conda env:batchscoringdl]",
   "language": "python",
   "name": "conda-env-batchscoringdl-py"
  },
  "language_info": {
   "codemirror_mode": {
    "name": "ipython",
    "version": 3
   },
   "file_extension": ".py",
   "mimetype": "text/x-python",
   "name": "python",
   "nbconvert_exporter": "python",
   "pygments_lexer": "ipython3",
   "version": "3.6.7"
  }
 },
 "nbformat": 4,
 "nbformat_minor": 2
}
